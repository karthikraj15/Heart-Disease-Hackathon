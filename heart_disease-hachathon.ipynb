{
  "nbformat": 4,
  "nbformat_minor": 0,
  "metadata": {
    "colab": {
      "name": "hackathon.ipynb",
      "provenance": [],
      "collapsed_sections": []
    },
    "kernelspec": {
      "name": "python3",
      "display_name": "Python 3"
    },
    "language_info": {
      "name": "python"
    }
  },
  "cells": [
    {
      "cell_type": "code",
      "execution_count": 558,
      "metadata": {
        "id": "htSqCvBAShjV"
      },
      "outputs": [],
      "source": [
        "# Importing the libraries\n",
        "\n",
        "import pandas as pd\n",
        "import numpy as np\n",
        "import matplotlib.pyplot as plt\n",
        "import seaborn as sns"
      ]
    },
    {
      "cell_type": "code",
      "source": [
        "# Importing the dataset\n",
        "\n",
        "df = pd.read_csv('/content/heart_disease.csv')"
      ],
      "metadata": {
        "id": "NXVc5adHXTjV"
      },
      "execution_count": 559,
      "outputs": []
    },
    {
      "cell_type": "code",
      "source": [
        "df.head()"
      ],
      "metadata": {
        "colab": {
          "base_uri": "https://localhost:8080/",
          "height": 206
        },
        "id": "G_lVXI9FcZGp",
        "outputId": "605df0e1-2a86-46e3-de3b-c3988bd38fda"
      },
      "execution_count": 560,
      "outputs": [
        {
          "output_type": "execute_result",
          "data": {
            "text/plain": [
              "   age  sex  cp  trestbps  chol  fbs  restecg  thalach  exang  oldpeak  slope  \\\n",
              "0   63    1   3       145   233    1        0      150      0      2.3      0   \n",
              "1   37    1   2       130   250    0        1      187      0      3.5      0   \n",
              "2   41    0   1       130   204    0        0      172      0      1.4      2   \n",
              "3   56    1   1       120   236    0        1      178      0      0.8      2   \n",
              "4   57    0   0       120   354    0        1      163      1      0.6      2   \n",
              "\n",
              "   ca  thal  target  \n",
              "0   0     1       1  \n",
              "1   0     2       1  \n",
              "2   0     2       1  \n",
              "3   0     2       1  \n",
              "4   0     2       1  "
            ],
            "text/html": [
              "\n",
              "  <div id=\"df-3d1332d4-8e12-4bf1-9e6e-8a2b293db3fc\">\n",
              "    <div class=\"colab-df-container\">\n",
              "      <div>\n",
              "<style scoped>\n",
              "    .dataframe tbody tr th:only-of-type {\n",
              "        vertical-align: middle;\n",
              "    }\n",
              "\n",
              "    .dataframe tbody tr th {\n",
              "        vertical-align: top;\n",
              "    }\n",
              "\n",
              "    .dataframe thead th {\n",
              "        text-align: right;\n",
              "    }\n",
              "</style>\n",
              "<table border=\"1\" class=\"dataframe\">\n",
              "  <thead>\n",
              "    <tr style=\"text-align: right;\">\n",
              "      <th></th>\n",
              "      <th>age</th>\n",
              "      <th>sex</th>\n",
              "      <th>cp</th>\n",
              "      <th>trestbps</th>\n",
              "      <th>chol</th>\n",
              "      <th>fbs</th>\n",
              "      <th>restecg</th>\n",
              "      <th>thalach</th>\n",
              "      <th>exang</th>\n",
              "      <th>oldpeak</th>\n",
              "      <th>slope</th>\n",
              "      <th>ca</th>\n",
              "      <th>thal</th>\n",
              "      <th>target</th>\n",
              "    </tr>\n",
              "  </thead>\n",
              "  <tbody>\n",
              "    <tr>\n",
              "      <th>0</th>\n",
              "      <td>63</td>\n",
              "      <td>1</td>\n",
              "      <td>3</td>\n",
              "      <td>145</td>\n",
              "      <td>233</td>\n",
              "      <td>1</td>\n",
              "      <td>0</td>\n",
              "      <td>150</td>\n",
              "      <td>0</td>\n",
              "      <td>2.3</td>\n",
              "      <td>0</td>\n",
              "      <td>0</td>\n",
              "      <td>1</td>\n",
              "      <td>1</td>\n",
              "    </tr>\n",
              "    <tr>\n",
              "      <th>1</th>\n",
              "      <td>37</td>\n",
              "      <td>1</td>\n",
              "      <td>2</td>\n",
              "      <td>130</td>\n",
              "      <td>250</td>\n",
              "      <td>0</td>\n",
              "      <td>1</td>\n",
              "      <td>187</td>\n",
              "      <td>0</td>\n",
              "      <td>3.5</td>\n",
              "      <td>0</td>\n",
              "      <td>0</td>\n",
              "      <td>2</td>\n",
              "      <td>1</td>\n",
              "    </tr>\n",
              "    <tr>\n",
              "      <th>2</th>\n",
              "      <td>41</td>\n",
              "      <td>0</td>\n",
              "      <td>1</td>\n",
              "      <td>130</td>\n",
              "      <td>204</td>\n",
              "      <td>0</td>\n",
              "      <td>0</td>\n",
              "      <td>172</td>\n",
              "      <td>0</td>\n",
              "      <td>1.4</td>\n",
              "      <td>2</td>\n",
              "      <td>0</td>\n",
              "      <td>2</td>\n",
              "      <td>1</td>\n",
              "    </tr>\n",
              "    <tr>\n",
              "      <th>3</th>\n",
              "      <td>56</td>\n",
              "      <td>1</td>\n",
              "      <td>1</td>\n",
              "      <td>120</td>\n",
              "      <td>236</td>\n",
              "      <td>0</td>\n",
              "      <td>1</td>\n",
              "      <td>178</td>\n",
              "      <td>0</td>\n",
              "      <td>0.8</td>\n",
              "      <td>2</td>\n",
              "      <td>0</td>\n",
              "      <td>2</td>\n",
              "      <td>1</td>\n",
              "    </tr>\n",
              "    <tr>\n",
              "      <th>4</th>\n",
              "      <td>57</td>\n",
              "      <td>0</td>\n",
              "      <td>0</td>\n",
              "      <td>120</td>\n",
              "      <td>354</td>\n",
              "      <td>0</td>\n",
              "      <td>1</td>\n",
              "      <td>163</td>\n",
              "      <td>1</td>\n",
              "      <td>0.6</td>\n",
              "      <td>2</td>\n",
              "      <td>0</td>\n",
              "      <td>2</td>\n",
              "      <td>1</td>\n",
              "    </tr>\n",
              "  </tbody>\n",
              "</table>\n",
              "</div>\n",
              "      <button class=\"colab-df-convert\" onclick=\"convertToInteractive('df-3d1332d4-8e12-4bf1-9e6e-8a2b293db3fc')\"\n",
              "              title=\"Convert this dataframe to an interactive table.\"\n",
              "              style=\"display:none;\">\n",
              "        \n",
              "  <svg xmlns=\"http://www.w3.org/2000/svg\" height=\"24px\"viewBox=\"0 0 24 24\"\n",
              "       width=\"24px\">\n",
              "    <path d=\"M0 0h24v24H0V0z\" fill=\"none\"/>\n",
              "    <path d=\"M18.56 5.44l.94 2.06.94-2.06 2.06-.94-2.06-.94-.94-2.06-.94 2.06-2.06.94zm-11 1L8.5 8.5l.94-2.06 2.06-.94-2.06-.94L8.5 2.5l-.94 2.06-2.06.94zm10 10l.94 2.06.94-2.06 2.06-.94-2.06-.94-.94-2.06-.94 2.06-2.06.94z\"/><path d=\"M17.41 7.96l-1.37-1.37c-.4-.4-.92-.59-1.43-.59-.52 0-1.04.2-1.43.59L10.3 9.45l-7.72 7.72c-.78.78-.78 2.05 0 2.83L4 21.41c.39.39.9.59 1.41.59.51 0 1.02-.2 1.41-.59l7.78-7.78 2.81-2.81c.8-.78.8-2.07 0-2.86zM5.41 20L4 18.59l7.72-7.72 1.47 1.35L5.41 20z\"/>\n",
              "  </svg>\n",
              "      </button>\n",
              "      \n",
              "  <style>\n",
              "    .colab-df-container {\n",
              "      display:flex;\n",
              "      flex-wrap:wrap;\n",
              "      gap: 12px;\n",
              "    }\n",
              "\n",
              "    .colab-df-convert {\n",
              "      background-color: #E8F0FE;\n",
              "      border: none;\n",
              "      border-radius: 50%;\n",
              "      cursor: pointer;\n",
              "      display: none;\n",
              "      fill: #1967D2;\n",
              "      height: 32px;\n",
              "      padding: 0 0 0 0;\n",
              "      width: 32px;\n",
              "    }\n",
              "\n",
              "    .colab-df-convert:hover {\n",
              "      background-color: #E2EBFA;\n",
              "      box-shadow: 0px 1px 2px rgba(60, 64, 67, 0.3), 0px 1px 3px 1px rgba(60, 64, 67, 0.15);\n",
              "      fill: #174EA6;\n",
              "    }\n",
              "\n",
              "    [theme=dark] .colab-df-convert {\n",
              "      background-color: #3B4455;\n",
              "      fill: #D2E3FC;\n",
              "    }\n",
              "\n",
              "    [theme=dark] .colab-df-convert:hover {\n",
              "      background-color: #434B5C;\n",
              "      box-shadow: 0px 1px 3px 1px rgba(0, 0, 0, 0.15);\n",
              "      filter: drop-shadow(0px 1px 2px rgba(0, 0, 0, 0.3));\n",
              "      fill: #FFFFFF;\n",
              "    }\n",
              "  </style>\n",
              "\n",
              "      <script>\n",
              "        const buttonEl =\n",
              "          document.querySelector('#df-3d1332d4-8e12-4bf1-9e6e-8a2b293db3fc button.colab-df-convert');\n",
              "        buttonEl.style.display =\n",
              "          google.colab.kernel.accessAllowed ? 'block' : 'none';\n",
              "\n",
              "        async function convertToInteractive(key) {\n",
              "          const element = document.querySelector('#df-3d1332d4-8e12-4bf1-9e6e-8a2b293db3fc');\n",
              "          const dataTable =\n",
              "            await google.colab.kernel.invokeFunction('convertToInteractive',\n",
              "                                                     [key], {});\n",
              "          if (!dataTable) return;\n",
              "\n",
              "          const docLinkHtml = 'Like what you see? Visit the ' +\n",
              "            '<a target=\"_blank\" href=https://colab.research.google.com/notebooks/data_table.ipynb>data table notebook</a>'\n",
              "            + ' to learn more about interactive tables.';\n",
              "          element.innerHTML = '';\n",
              "          dataTable['output_type'] = 'display_data';\n",
              "          await google.colab.output.renderOutput(dataTable, element);\n",
              "          const docLink = document.createElement('div');\n",
              "          docLink.innerHTML = docLinkHtml;\n",
              "          element.appendChild(docLink);\n",
              "        }\n",
              "      </script>\n",
              "    </div>\n",
              "  </div>\n",
              "  "
            ]
          },
          "metadata": {},
          "execution_count": 560
        }
      ]
    },
    {
      "cell_type": "code",
      "source": [
        "df.isnull().sum()"
      ],
      "metadata": {
        "colab": {
          "base_uri": "https://localhost:8080/"
        },
        "id": "e3zHNO0Wk60D",
        "outputId": "75ac155a-d7c3-4b0b-818a-0f0351b9cd41"
      },
      "execution_count": 561,
      "outputs": [
        {
          "output_type": "execute_result",
          "data": {
            "text/plain": [
              "age         0\n",
              "sex         0\n",
              "cp          0\n",
              "trestbps    0\n",
              "chol        0\n",
              "fbs         0\n",
              "restecg     0\n",
              "thalach     0\n",
              "exang       0\n",
              "oldpeak     0\n",
              "slope       0\n",
              "ca          0\n",
              "thal        0\n",
              "target      0\n",
              "dtype: int64"
            ]
          },
          "metadata": {},
          "execution_count": 561
        }
      ]
    },
    {
      "cell_type": "code",
      "source": [
        "df.describe()"
      ],
      "metadata": {
        "colab": {
          "base_uri": "https://localhost:8080/",
          "height": 300
        },
        "id": "PEkd-wi0k9Xl",
        "outputId": "a0648514-4a4e-4fef-ca87-4beee4ddecc8"
      },
      "execution_count": 562,
      "outputs": [
        {
          "output_type": "execute_result",
          "data": {
            "text/plain": [
              "              age         sex          cp    trestbps        chol         fbs  \\\n",
              "count  303.000000  303.000000  303.000000  303.000000  303.000000  303.000000   \n",
              "mean    54.366337    0.683168    0.966997  131.623762  246.264026    0.148515   \n",
              "std      9.082101    0.466011    1.032052   17.538143   51.830751    0.356198   \n",
              "min     29.000000    0.000000    0.000000   94.000000  126.000000    0.000000   \n",
              "25%     47.500000    0.000000    0.000000  120.000000  211.000000    0.000000   \n",
              "50%     55.000000    1.000000    1.000000  130.000000  240.000000    0.000000   \n",
              "75%     61.000000    1.000000    2.000000  140.000000  274.500000    0.000000   \n",
              "max     77.000000    1.000000    3.000000  200.000000  564.000000    1.000000   \n",
              "\n",
              "          restecg     thalach       exang     oldpeak       slope          ca  \\\n",
              "count  303.000000  303.000000  303.000000  303.000000  303.000000  303.000000   \n",
              "mean     0.528053  149.646865    0.326733    1.039604    1.399340    0.729373   \n",
              "std      0.525860   22.905161    0.469794    1.161075    0.616226    1.022606   \n",
              "min      0.000000   71.000000    0.000000    0.000000    0.000000    0.000000   \n",
              "25%      0.000000  133.500000    0.000000    0.000000    1.000000    0.000000   \n",
              "50%      1.000000  153.000000    0.000000    0.800000    1.000000    0.000000   \n",
              "75%      1.000000  166.000000    1.000000    1.600000    2.000000    1.000000   \n",
              "max      2.000000  202.000000    1.000000    6.200000    2.000000    4.000000   \n",
              "\n",
              "             thal      target  \n",
              "count  303.000000  303.000000  \n",
              "mean     2.313531    0.544554  \n",
              "std      0.612277    0.498835  \n",
              "min      0.000000    0.000000  \n",
              "25%      2.000000    0.000000  \n",
              "50%      2.000000    1.000000  \n",
              "75%      3.000000    1.000000  \n",
              "max      3.000000    1.000000  "
            ],
            "text/html": [
              "\n",
              "  <div id=\"df-5c1c33a8-685a-418d-9f59-0ee54e5c5985\">\n",
              "    <div class=\"colab-df-container\">\n",
              "      <div>\n",
              "<style scoped>\n",
              "    .dataframe tbody tr th:only-of-type {\n",
              "        vertical-align: middle;\n",
              "    }\n",
              "\n",
              "    .dataframe tbody tr th {\n",
              "        vertical-align: top;\n",
              "    }\n",
              "\n",
              "    .dataframe thead th {\n",
              "        text-align: right;\n",
              "    }\n",
              "</style>\n",
              "<table border=\"1\" class=\"dataframe\">\n",
              "  <thead>\n",
              "    <tr style=\"text-align: right;\">\n",
              "      <th></th>\n",
              "      <th>age</th>\n",
              "      <th>sex</th>\n",
              "      <th>cp</th>\n",
              "      <th>trestbps</th>\n",
              "      <th>chol</th>\n",
              "      <th>fbs</th>\n",
              "      <th>restecg</th>\n",
              "      <th>thalach</th>\n",
              "      <th>exang</th>\n",
              "      <th>oldpeak</th>\n",
              "      <th>slope</th>\n",
              "      <th>ca</th>\n",
              "      <th>thal</th>\n",
              "      <th>target</th>\n",
              "    </tr>\n",
              "  </thead>\n",
              "  <tbody>\n",
              "    <tr>\n",
              "      <th>count</th>\n",
              "      <td>303.000000</td>\n",
              "      <td>303.000000</td>\n",
              "      <td>303.000000</td>\n",
              "      <td>303.000000</td>\n",
              "      <td>303.000000</td>\n",
              "      <td>303.000000</td>\n",
              "      <td>303.000000</td>\n",
              "      <td>303.000000</td>\n",
              "      <td>303.000000</td>\n",
              "      <td>303.000000</td>\n",
              "      <td>303.000000</td>\n",
              "      <td>303.000000</td>\n",
              "      <td>303.000000</td>\n",
              "      <td>303.000000</td>\n",
              "    </tr>\n",
              "    <tr>\n",
              "      <th>mean</th>\n",
              "      <td>54.366337</td>\n",
              "      <td>0.683168</td>\n",
              "      <td>0.966997</td>\n",
              "      <td>131.623762</td>\n",
              "      <td>246.264026</td>\n",
              "      <td>0.148515</td>\n",
              "      <td>0.528053</td>\n",
              "      <td>149.646865</td>\n",
              "      <td>0.326733</td>\n",
              "      <td>1.039604</td>\n",
              "      <td>1.399340</td>\n",
              "      <td>0.729373</td>\n",
              "      <td>2.313531</td>\n",
              "      <td>0.544554</td>\n",
              "    </tr>\n",
              "    <tr>\n",
              "      <th>std</th>\n",
              "      <td>9.082101</td>\n",
              "      <td>0.466011</td>\n",
              "      <td>1.032052</td>\n",
              "      <td>17.538143</td>\n",
              "      <td>51.830751</td>\n",
              "      <td>0.356198</td>\n",
              "      <td>0.525860</td>\n",
              "      <td>22.905161</td>\n",
              "      <td>0.469794</td>\n",
              "      <td>1.161075</td>\n",
              "      <td>0.616226</td>\n",
              "      <td>1.022606</td>\n",
              "      <td>0.612277</td>\n",
              "      <td>0.498835</td>\n",
              "    </tr>\n",
              "    <tr>\n",
              "      <th>min</th>\n",
              "      <td>29.000000</td>\n",
              "      <td>0.000000</td>\n",
              "      <td>0.000000</td>\n",
              "      <td>94.000000</td>\n",
              "      <td>126.000000</td>\n",
              "      <td>0.000000</td>\n",
              "      <td>0.000000</td>\n",
              "      <td>71.000000</td>\n",
              "      <td>0.000000</td>\n",
              "      <td>0.000000</td>\n",
              "      <td>0.000000</td>\n",
              "      <td>0.000000</td>\n",
              "      <td>0.000000</td>\n",
              "      <td>0.000000</td>\n",
              "    </tr>\n",
              "    <tr>\n",
              "      <th>25%</th>\n",
              "      <td>47.500000</td>\n",
              "      <td>0.000000</td>\n",
              "      <td>0.000000</td>\n",
              "      <td>120.000000</td>\n",
              "      <td>211.000000</td>\n",
              "      <td>0.000000</td>\n",
              "      <td>0.000000</td>\n",
              "      <td>133.500000</td>\n",
              "      <td>0.000000</td>\n",
              "      <td>0.000000</td>\n",
              "      <td>1.000000</td>\n",
              "      <td>0.000000</td>\n",
              "      <td>2.000000</td>\n",
              "      <td>0.000000</td>\n",
              "    </tr>\n",
              "    <tr>\n",
              "      <th>50%</th>\n",
              "      <td>55.000000</td>\n",
              "      <td>1.000000</td>\n",
              "      <td>1.000000</td>\n",
              "      <td>130.000000</td>\n",
              "      <td>240.000000</td>\n",
              "      <td>0.000000</td>\n",
              "      <td>1.000000</td>\n",
              "      <td>153.000000</td>\n",
              "      <td>0.000000</td>\n",
              "      <td>0.800000</td>\n",
              "      <td>1.000000</td>\n",
              "      <td>0.000000</td>\n",
              "      <td>2.000000</td>\n",
              "      <td>1.000000</td>\n",
              "    </tr>\n",
              "    <tr>\n",
              "      <th>75%</th>\n",
              "      <td>61.000000</td>\n",
              "      <td>1.000000</td>\n",
              "      <td>2.000000</td>\n",
              "      <td>140.000000</td>\n",
              "      <td>274.500000</td>\n",
              "      <td>0.000000</td>\n",
              "      <td>1.000000</td>\n",
              "      <td>166.000000</td>\n",
              "      <td>1.000000</td>\n",
              "      <td>1.600000</td>\n",
              "      <td>2.000000</td>\n",
              "      <td>1.000000</td>\n",
              "      <td>3.000000</td>\n",
              "      <td>1.000000</td>\n",
              "    </tr>\n",
              "    <tr>\n",
              "      <th>max</th>\n",
              "      <td>77.000000</td>\n",
              "      <td>1.000000</td>\n",
              "      <td>3.000000</td>\n",
              "      <td>200.000000</td>\n",
              "      <td>564.000000</td>\n",
              "      <td>1.000000</td>\n",
              "      <td>2.000000</td>\n",
              "      <td>202.000000</td>\n",
              "      <td>1.000000</td>\n",
              "      <td>6.200000</td>\n",
              "      <td>2.000000</td>\n",
              "      <td>4.000000</td>\n",
              "      <td>3.000000</td>\n",
              "      <td>1.000000</td>\n",
              "    </tr>\n",
              "  </tbody>\n",
              "</table>\n",
              "</div>\n",
              "      <button class=\"colab-df-convert\" onclick=\"convertToInteractive('df-5c1c33a8-685a-418d-9f59-0ee54e5c5985')\"\n",
              "              title=\"Convert this dataframe to an interactive table.\"\n",
              "              style=\"display:none;\">\n",
              "        \n",
              "  <svg xmlns=\"http://www.w3.org/2000/svg\" height=\"24px\"viewBox=\"0 0 24 24\"\n",
              "       width=\"24px\">\n",
              "    <path d=\"M0 0h24v24H0V0z\" fill=\"none\"/>\n",
              "    <path d=\"M18.56 5.44l.94 2.06.94-2.06 2.06-.94-2.06-.94-.94-2.06-.94 2.06-2.06.94zm-11 1L8.5 8.5l.94-2.06 2.06-.94-2.06-.94L8.5 2.5l-.94 2.06-2.06.94zm10 10l.94 2.06.94-2.06 2.06-.94-2.06-.94-.94-2.06-.94 2.06-2.06.94z\"/><path d=\"M17.41 7.96l-1.37-1.37c-.4-.4-.92-.59-1.43-.59-.52 0-1.04.2-1.43.59L10.3 9.45l-7.72 7.72c-.78.78-.78 2.05 0 2.83L4 21.41c.39.39.9.59 1.41.59.51 0 1.02-.2 1.41-.59l7.78-7.78 2.81-2.81c.8-.78.8-2.07 0-2.86zM5.41 20L4 18.59l7.72-7.72 1.47 1.35L5.41 20z\"/>\n",
              "  </svg>\n",
              "      </button>\n",
              "      \n",
              "  <style>\n",
              "    .colab-df-container {\n",
              "      display:flex;\n",
              "      flex-wrap:wrap;\n",
              "      gap: 12px;\n",
              "    }\n",
              "\n",
              "    .colab-df-convert {\n",
              "      background-color: #E8F0FE;\n",
              "      border: none;\n",
              "      border-radius: 50%;\n",
              "      cursor: pointer;\n",
              "      display: none;\n",
              "      fill: #1967D2;\n",
              "      height: 32px;\n",
              "      padding: 0 0 0 0;\n",
              "      width: 32px;\n",
              "    }\n",
              "\n",
              "    .colab-df-convert:hover {\n",
              "      background-color: #E2EBFA;\n",
              "      box-shadow: 0px 1px 2px rgba(60, 64, 67, 0.3), 0px 1px 3px 1px rgba(60, 64, 67, 0.15);\n",
              "      fill: #174EA6;\n",
              "    }\n",
              "\n",
              "    [theme=dark] .colab-df-convert {\n",
              "      background-color: #3B4455;\n",
              "      fill: #D2E3FC;\n",
              "    }\n",
              "\n",
              "    [theme=dark] .colab-df-convert:hover {\n",
              "      background-color: #434B5C;\n",
              "      box-shadow: 0px 1px 3px 1px rgba(0, 0, 0, 0.15);\n",
              "      filter: drop-shadow(0px 1px 2px rgba(0, 0, 0, 0.3));\n",
              "      fill: #FFFFFF;\n",
              "    }\n",
              "  </style>\n",
              "\n",
              "      <script>\n",
              "        const buttonEl =\n",
              "          document.querySelector('#df-5c1c33a8-685a-418d-9f59-0ee54e5c5985 button.colab-df-convert');\n",
              "        buttonEl.style.display =\n",
              "          google.colab.kernel.accessAllowed ? 'block' : 'none';\n",
              "\n",
              "        async function convertToInteractive(key) {\n",
              "          const element = document.querySelector('#df-5c1c33a8-685a-418d-9f59-0ee54e5c5985');\n",
              "          const dataTable =\n",
              "            await google.colab.kernel.invokeFunction('convertToInteractive',\n",
              "                                                     [key], {});\n",
              "          if (!dataTable) return;\n",
              "\n",
              "          const docLinkHtml = 'Like what you see? Visit the ' +\n",
              "            '<a target=\"_blank\" href=https://colab.research.google.com/notebooks/data_table.ipynb>data table notebook</a>'\n",
              "            + ' to learn more about interactive tables.';\n",
              "          element.innerHTML = '';\n",
              "          dataTable['output_type'] = 'display_data';\n",
              "          await google.colab.output.renderOutput(dataTable, element);\n",
              "          const docLink = document.createElement('div');\n",
              "          docLink.innerHTML = docLinkHtml;\n",
              "          element.appendChild(docLink);\n",
              "        }\n",
              "      </script>\n",
              "    </div>\n",
              "  </div>\n",
              "  "
            ]
          },
          "metadata": {},
          "execution_count": 562
        }
      ]
    },
    {
      "cell_type": "code",
      "source": [
        "df.shape"
      ],
      "metadata": {
        "colab": {
          "base_uri": "https://localhost:8080/"
        },
        "id": "0rCo0E5nk_5P",
        "outputId": "892faa6a-dbee-4af5-fd04-ee43867c81fa"
      },
      "execution_count": 563,
      "outputs": [
        {
          "output_type": "execute_result",
          "data": {
            "text/plain": [
              "(303, 14)"
            ]
          },
          "metadata": {},
          "execution_count": 563
        }
      ]
    },
    {
      "cell_type": "code",
      "source": [
        "df.info()"
      ],
      "metadata": {
        "colab": {
          "base_uri": "https://localhost:8080/"
        },
        "id": "ODXwPGUYleoK",
        "outputId": "f9346d2e-8c63-46c0-bc0a-d721a369b36e"
      },
      "execution_count": 564,
      "outputs": [
        {
          "output_type": "stream",
          "name": "stdout",
          "text": [
            "<class 'pandas.core.frame.DataFrame'>\n",
            "RangeIndex: 303 entries, 0 to 302\n",
            "Data columns (total 14 columns):\n",
            " #   Column    Non-Null Count  Dtype  \n",
            "---  ------    --------------  -----  \n",
            " 0   age       303 non-null    int64  \n",
            " 1   sex       303 non-null    int64  \n",
            " 2   cp        303 non-null    int64  \n",
            " 3   trestbps  303 non-null    int64  \n",
            " 4   chol      303 non-null    int64  \n",
            " 5   fbs       303 non-null    int64  \n",
            " 6   restecg   303 non-null    int64  \n",
            " 7   thalach   303 non-null    int64  \n",
            " 8   exang     303 non-null    int64  \n",
            " 9   oldpeak   303 non-null    float64\n",
            " 10  slope     303 non-null    int64  \n",
            " 11  ca        303 non-null    int64  \n",
            " 12  thal      303 non-null    int64  \n",
            " 13  target    303 non-null    int64  \n",
            "dtypes: float64(1), int64(13)\n",
            "memory usage: 33.3 KB\n"
          ]
        }
      ]
    },
    {
      "cell_type": "markdown",
      "source": [
        "\n",
        "\n",
        "---\n",
        "\n",
        "\n",
        "\n",
        "---\n",
        "\n",
        "\n",
        "# **INSIGHTS OF THE DATASET**"
      ],
      "metadata": {
        "id": "ZRKEnQO7_4ue"
      }
    },
    {
      "cell_type": "code",
      "source": [
        "# Now lets categorize the above histogram by AGE vs Target\n",
        "\n",
        "import plotly.express as px\n",
        "fig = px.histogram(df, x=\"age\", color=\"target\", marginal=\"rug\", hover_data=df.columns, \n",
        "                   title =\"Histogram for Age vs Target\", \n",
        "                   labels={\"age\": \"AGE\"},\n",
        "                   template=\"plotly_dark\"\n",
        "                  )\n",
        "fig.show()"
      ],
      "metadata": {
        "colab": {
          "base_uri": "https://localhost:8080/",
          "height": 542
        },
        "id": "rNdYiuzPnZUY",
        "outputId": "3ac52df1-f109-4e11-fde9-3121cb7857ed"
      },
      "execution_count": 565,
      "outputs": [
        {
          "output_type": "display_data",
          "data": {
            "text/html": [
              "<html>\n",
              "<head><meta charset=\"utf-8\" /></head>\n",
              "<body>\n",
              "    <div>            <script src=\"https://cdnjs.cloudflare.com/ajax/libs/mathjax/2.7.5/MathJax.js?config=TeX-AMS-MML_SVG\"></script><script type=\"text/javascript\">if (window.MathJax) {MathJax.Hub.Config({SVG: {font: \"STIX-Web\"}});}</script>                <script type=\"text/javascript\">window.PlotlyConfig = {MathJaxConfig: 'local'};</script>\n",
              "        <script src=\"https://cdn.plot.ly/plotly-2.8.3.min.js\"></script>                <div id=\"a46b7421-eefc-4fcc-96b7-c9f2db921494\" class=\"plotly-graph-div\" style=\"height:525px; width:100%;\"></div>            <script type=\"text/javascript\">                                    window.PLOTLYENV=window.PLOTLYENV || {};                                    if (document.getElementById(\"a46b7421-eefc-4fcc-96b7-c9f2db921494\")) {                    Plotly.newPlot(                        \"a46b7421-eefc-4fcc-96b7-c9f2db921494\",                        [{\"alignmentgroup\":\"True\",\"bingroup\":\"x\",\"hovertemplate\":\"target=1<br>AGE=%{x}<br>count=%{y}<extra></extra>\",\"legendgroup\":\"1\",\"marker\":{\"color\":\"#636efa\",\"pattern\":{\"shape\":\"\"}},\"name\":\"1\",\"offsetgroup\":\"1\",\"orientation\":\"v\",\"showlegend\":true,\"x\":[63,37,41,56,57,57,56,44,52,57,54,48,49,64,58,50,58,66,43,69,59,44,42,61,40,71,59,51,65,53,41,65,44,54,51,46,54,54,65,65,51,48,45,53,39,52,44,47,53,53,51,66,62,44,63,52,48,45,34,57,71,54,52,41,58,35,51,45,44,62,54,51,29,51,43,55,51,59,52,58,41,45,60,52,42,67,68,46,54,58,48,57,52,54,45,53,62,52,43,53,42,59,63,42,50,68,69,45,50,50,64,57,64,43,55,37,41,56,46,46,64,59,41,54,39,34,47,67,52,74,54,49,42,41,41,49,60,62,57,64,51,43,42,67,76,70,44,60,44,42,66,71,64,66,39,58,47,35,58,56,56,55,41,38,38],\"xaxis\":\"x\",\"yaxis\":\"y\",\"type\":\"histogram\"},{\"alignmentgroup\":\"True\",\"boxpoints\":\"all\",\"customdata\":[[1.0,3.0,145.0,233.0,1.0,0.0,150.0,0.0,2.3,0.0,0.0,1.0,1.0],[1.0,2.0,130.0,250.0,0.0,1.0,187.0,0.0,3.5,0.0,0.0,2.0,1.0],[0.0,1.0,130.0,204.0,0.0,0.0,172.0,0.0,1.4,2.0,0.0,2.0,1.0],[1.0,1.0,120.0,236.0,0.0,1.0,178.0,0.0,0.8,2.0,0.0,2.0,1.0],[0.0,0.0,120.0,354.0,0.0,1.0,163.0,1.0,0.6,2.0,0.0,2.0,1.0],[1.0,0.0,140.0,192.0,0.0,1.0,148.0,0.0,0.4,1.0,0.0,1.0,1.0],[0.0,1.0,140.0,294.0,0.0,0.0,153.0,0.0,1.3,1.0,0.0,2.0,1.0],[1.0,1.0,120.0,263.0,0.0,1.0,173.0,0.0,0.0,2.0,0.0,3.0,1.0],[1.0,2.0,172.0,199.0,1.0,1.0,162.0,0.0,0.5,2.0,0.0,3.0,1.0],[1.0,2.0,150.0,168.0,0.0,1.0,174.0,0.0,1.6,2.0,0.0,2.0,1.0],[1.0,0.0,140.0,239.0,0.0,1.0,160.0,0.0,1.2,2.0,0.0,2.0,1.0],[0.0,2.0,130.0,275.0,0.0,1.0,139.0,0.0,0.2,2.0,0.0,2.0,1.0],[1.0,1.0,130.0,266.0,0.0,1.0,171.0,0.0,0.6,2.0,0.0,2.0,1.0],[1.0,3.0,110.0,211.0,0.0,0.0,144.0,1.0,1.8,1.0,0.0,2.0,1.0],[0.0,3.0,150.0,283.0,1.0,0.0,162.0,0.0,1.0,2.0,0.0,2.0,1.0],[0.0,2.0,120.0,219.0,0.0,1.0,158.0,0.0,1.6,1.0,0.0,2.0,1.0],[0.0,2.0,120.0,340.0,0.0,1.0,172.0,0.0,0.0,2.0,0.0,2.0,1.0],[0.0,3.0,150.0,226.0,0.0,1.0,114.0,0.0,2.6,0.0,0.0,2.0,1.0],[1.0,0.0,150.0,247.0,0.0,1.0,171.0,0.0,1.5,2.0,0.0,2.0,1.0],[0.0,3.0,140.0,239.0,0.0,1.0,151.0,0.0,1.8,2.0,2.0,2.0,1.0],[1.0,0.0,135.0,234.0,0.0,1.0,161.0,0.0,0.5,1.0,0.0,3.0,1.0],[1.0,2.0,130.0,233.0,0.0,1.0,179.0,1.0,0.4,2.0,0.0,2.0,1.0],[1.0,0.0,140.0,226.0,0.0,1.0,178.0,0.0,0.0,2.0,0.0,2.0,1.0],[1.0,2.0,150.0,243.0,1.0,1.0,137.0,1.0,1.0,1.0,0.0,2.0,1.0],[1.0,3.0,140.0,199.0,0.0,1.0,178.0,1.0,1.4,2.0,0.0,3.0,1.0],[0.0,1.0,160.0,302.0,0.0,1.0,162.0,0.0,0.4,2.0,2.0,2.0,1.0],[1.0,2.0,150.0,212.0,1.0,1.0,157.0,0.0,1.6,2.0,0.0,2.0,1.0],[1.0,2.0,110.0,175.0,0.0,1.0,123.0,0.0,0.6,2.0,0.0,2.0,1.0],[0.0,2.0,140.0,417.0,1.0,0.0,157.0,0.0,0.8,2.0,1.0,2.0,1.0],[1.0,2.0,130.0,197.0,1.0,0.0,152.0,0.0,1.2,0.0,0.0,2.0,1.0],[0.0,1.0,105.0,198.0,0.0,1.0,168.0,0.0,0.0,2.0,1.0,2.0,1.0],[1.0,0.0,120.0,177.0,0.0,1.0,140.0,0.0,0.4,2.0,0.0,3.0,1.0],[1.0,1.0,130.0,219.0,0.0,0.0,188.0,0.0,0.0,2.0,0.0,2.0,1.0],[1.0,2.0,125.0,273.0,0.0,0.0,152.0,0.0,0.5,0.0,1.0,2.0,1.0],[1.0,3.0,125.0,213.0,0.0,0.0,125.0,1.0,1.4,2.0,1.0,2.0,1.0],[0.0,2.0,142.0,177.0,0.0,0.0,160.0,1.0,1.4,0.0,0.0,2.0,1.0],[0.0,2.0,135.0,304.0,1.0,1.0,170.0,0.0,0.0,2.0,0.0,2.0,1.0],[1.0,2.0,150.0,232.0,0.0,0.0,165.0,0.0,1.6,2.0,0.0,3.0,1.0],[0.0,2.0,155.0,269.0,0.0,1.0,148.0,0.0,0.8,2.0,0.0,2.0,1.0],[0.0,2.0,160.0,360.0,0.0,0.0,151.0,0.0,0.8,2.0,0.0,2.0,1.0],[0.0,2.0,140.0,308.0,0.0,0.0,142.0,0.0,1.5,2.0,1.0,2.0,1.0],[1.0,1.0,130.0,245.0,0.0,0.0,180.0,0.0,0.2,1.0,0.0,2.0,1.0],[1.0,0.0,104.0,208.0,0.0,0.0,148.0,1.0,3.0,1.0,0.0,2.0,1.0],[0.0,0.0,130.0,264.0,0.0,0.0,143.0,0.0,0.4,1.0,0.0,2.0,1.0],[1.0,2.0,140.0,321.0,0.0,0.0,182.0,0.0,0.0,2.0,0.0,2.0,1.0],[1.0,1.0,120.0,325.0,0.0,1.0,172.0,0.0,0.2,2.0,0.0,2.0,1.0],[1.0,2.0,140.0,235.0,0.0,0.0,180.0,0.0,0.0,2.0,0.0,2.0,1.0],[1.0,2.0,138.0,257.0,0.0,0.0,156.0,0.0,0.0,2.0,0.0,2.0,1.0],[0.0,2.0,128.0,216.0,0.0,0.0,115.0,0.0,0.0,2.0,0.0,0.0,1.0],[0.0,0.0,138.0,234.0,0.0,0.0,160.0,0.0,0.0,2.0,0.0,2.0,1.0],[0.0,2.0,130.0,256.0,0.0,0.0,149.0,0.0,0.5,2.0,0.0,2.0,1.0],[1.0,0.0,120.0,302.0,0.0,0.0,151.0,0.0,0.4,1.0,0.0,2.0,1.0],[1.0,2.0,130.0,231.0,0.0,1.0,146.0,0.0,1.8,1.0,3.0,3.0,1.0],[0.0,2.0,108.0,141.0,0.0,1.0,175.0,0.0,0.6,1.0,0.0,2.0,1.0],[0.0,2.0,135.0,252.0,0.0,0.0,172.0,0.0,0.0,2.0,0.0,2.0,1.0],[1.0,1.0,134.0,201.0,0.0,1.0,158.0,0.0,0.8,2.0,1.0,2.0,1.0],[1.0,0.0,122.0,222.0,0.0,0.0,186.0,0.0,0.0,2.0,0.0,2.0,1.0],[1.0,0.0,115.0,260.0,0.0,0.0,185.0,0.0,0.0,2.0,0.0,2.0,1.0],[1.0,3.0,118.0,182.0,0.0,0.0,174.0,0.0,0.0,2.0,0.0,2.0,1.0],[0.0,0.0,128.0,303.0,0.0,0.0,159.0,0.0,0.0,2.0,1.0,2.0,1.0],[0.0,2.0,110.0,265.0,1.0,0.0,130.0,0.0,0.0,2.0,1.0,2.0,1.0],[1.0,1.0,108.0,309.0,0.0,1.0,156.0,0.0,0.0,2.0,0.0,3.0,1.0],[1.0,3.0,118.0,186.0,0.0,0.0,190.0,0.0,0.0,1.0,0.0,1.0,1.0],[1.0,1.0,135.0,203.0,0.0,1.0,132.0,0.0,0.0,1.0,0.0,1.0,1.0],[1.0,2.0,140.0,211.0,1.0,0.0,165.0,0.0,0.0,2.0,0.0,2.0,1.0],[0.0,0.0,138.0,183.0,0.0,1.0,182.0,0.0,1.4,2.0,0.0,2.0,1.0],[1.0,2.0,100.0,222.0,0.0,1.0,143.0,1.0,1.2,1.0,0.0,2.0,1.0],[0.0,1.0,130.0,234.0,0.0,0.0,175.0,0.0,0.6,1.0,0.0,2.0,1.0],[1.0,1.0,120.0,220.0,0.0,1.0,170.0,0.0,0.0,2.0,0.0,2.0,1.0],[0.0,0.0,124.0,209.0,0.0,1.0,163.0,0.0,0.0,2.0,0.0,2.0,1.0],[1.0,2.0,120.0,258.0,0.0,0.0,147.0,0.0,0.4,1.0,0.0,3.0,1.0],[1.0,2.0,94.0,227.0,0.0,1.0,154.0,1.0,0.0,2.0,1.0,3.0,1.0],[1.0,1.0,130.0,204.0,0.0,0.0,202.0,0.0,0.0,2.0,0.0,2.0,1.0],[1.0,0.0,140.0,261.0,0.0,0.0,186.0,1.0,0.0,2.0,0.0,2.0,1.0],[0.0,2.0,122.0,213.0,0.0,1.0,165.0,0.0,0.2,1.0,0.0,2.0,1.0],[0.0,1.0,135.0,250.0,0.0,0.0,161.0,0.0,1.4,1.0,0.0,2.0,1.0],[1.0,2.0,125.0,245.0,1.0,0.0,166.0,0.0,2.4,1.0,0.0,2.0,1.0],[1.0,1.0,140.0,221.0,0.0,1.0,164.0,1.0,0.0,2.0,0.0,2.0,1.0],[1.0,1.0,128.0,205.0,1.0,1.0,184.0,0.0,0.0,2.0,0.0,2.0,1.0],[1.0,2.0,105.0,240.0,0.0,0.0,154.0,1.0,0.6,1.0,0.0,3.0,1.0],[1.0,2.0,112.0,250.0,0.0,1.0,179.0,0.0,0.0,2.0,0.0,2.0,1.0],[1.0,1.0,128.0,308.0,0.0,0.0,170.0,0.0,0.0,2.0,0.0,2.0,1.0],[0.0,2.0,102.0,318.0,0.0,1.0,160.0,0.0,0.0,2.0,1.0,2.0,1.0],[1.0,3.0,152.0,298.0,1.0,1.0,178.0,0.0,1.2,1.0,0.0,3.0,1.0],[0.0,0.0,102.0,265.0,0.0,0.0,122.0,0.0,0.6,1.0,0.0,2.0,1.0],[0.0,2.0,115.0,564.0,0.0,0.0,160.0,0.0,1.6,1.0,0.0,3.0,1.0],[1.0,2.0,118.0,277.0,0.0,1.0,151.0,0.0,1.0,2.0,1.0,3.0,1.0],[1.0,1.0,101.0,197.0,1.0,1.0,156.0,0.0,0.0,2.0,0.0,3.0,1.0],[0.0,2.0,110.0,214.0,0.0,1.0,158.0,0.0,1.6,1.0,0.0,2.0,1.0],[0.0,0.0,100.0,248.0,0.0,0.0,122.0,0.0,1.0,1.0,0.0,2.0,1.0],[1.0,2.0,124.0,255.0,1.0,1.0,175.0,0.0,0.0,2.0,2.0,2.0,1.0],[1.0,0.0,132.0,207.0,0.0,1.0,168.0,1.0,0.0,2.0,0.0,3.0,1.0],[1.0,2.0,138.0,223.0,0.0,1.0,169.0,0.0,0.0,2.0,4.0,2.0,1.0],[0.0,1.0,132.0,288.0,1.0,0.0,159.0,1.0,0.0,2.0,1.0,2.0,1.0],[0.0,1.0,112.0,160.0,0.0,1.0,138.0,0.0,0.0,1.0,0.0,2.0,1.0],[1.0,0.0,142.0,226.0,0.0,0.0,111.0,1.0,0.0,2.0,0.0,3.0,1.0],[0.0,0.0,140.0,394.0,0.0,0.0,157.0,0.0,1.2,1.0,0.0,2.0,1.0],[1.0,0.0,108.0,233.0,1.0,1.0,147.0,0.0,0.1,2.0,3.0,3.0,1.0],[1.0,2.0,130.0,315.0,0.0,1.0,162.0,0.0,1.9,2.0,1.0,2.0,1.0],[1.0,2.0,130.0,246.0,1.0,0.0,173.0,0.0,0.0,2.0,3.0,2.0,1.0],[1.0,3.0,148.0,244.0,0.0,0.0,178.0,0.0,0.8,2.0,2.0,2.0,1.0],[1.0,3.0,178.0,270.0,0.0,0.0,145.0,0.0,4.2,0.0,0.0,3.0,1.0],[0.0,1.0,140.0,195.0,0.0,1.0,179.0,0.0,0.0,2.0,2.0,2.0,1.0],[1.0,2.0,120.0,240.0,1.0,1.0,194.0,0.0,0.8,0.0,0.0,3.0,1.0],[1.0,2.0,129.0,196.0,0.0,1.0,163.0,0.0,0.0,2.0,0.0,2.0,1.0],[0.0,2.0,120.0,211.0,0.0,0.0,115.0,0.0,1.5,1.0,0.0,2.0,1.0],[1.0,3.0,160.0,234.0,1.0,0.0,131.0,0.0,0.1,1.0,1.0,2.0,1.0],[0.0,0.0,138.0,236.0,0.0,0.0,152.0,1.0,0.2,1.0,0.0,2.0,1.0],[0.0,1.0,120.0,244.0,0.0,1.0,162.0,0.0,1.1,2.0,0.0,2.0,1.0],[0.0,0.0,110.0,254.0,0.0,0.0,159.0,0.0,0.0,2.0,0.0,2.0,1.0],[0.0,0.0,180.0,325.0,0.0,1.0,154.0,1.0,0.0,2.0,0.0,2.0,1.0],[1.0,2.0,150.0,126.0,1.0,1.0,173.0,0.0,0.2,2.0,1.0,3.0,1.0],[0.0,2.0,140.0,313.0,0.0,1.0,133.0,0.0,0.2,2.0,0.0,3.0,1.0],[1.0,0.0,110.0,211.0,0.0,1.0,161.0,0.0,0.0,2.0,0.0,3.0,1.0],[1.0,1.0,130.0,262.0,0.0,1.0,155.0,0.0,0.0,2.0,0.0,2.0,1.0],[0.0,2.0,120.0,215.0,0.0,1.0,170.0,0.0,0.0,2.0,0.0,2.0,1.0],[1.0,2.0,130.0,214.0,0.0,0.0,168.0,0.0,2.0,1.0,0.0,2.0,1.0],[1.0,3.0,120.0,193.0,0.0,0.0,162.0,0.0,1.9,1.0,0.0,3.0,1.0],[0.0,1.0,105.0,204.0,0.0,1.0,172.0,0.0,0.0,2.0,0.0,2.0,1.0],[0.0,0.0,138.0,243.0,0.0,0.0,152.0,1.0,0.0,1.0,0.0,2.0,1.0],[0.0,0.0,130.0,303.0,0.0,1.0,122.0,0.0,2.0,1.0,2.0,2.0,1.0],[1.0,0.0,138.0,271.0,0.0,0.0,182.0,0.0,0.0,2.0,0.0,2.0,1.0],[0.0,2.0,112.0,268.0,0.0,0.0,172.0,1.0,0.0,2.0,0.0,2.0,1.0],[0.0,2.0,108.0,267.0,0.0,0.0,167.0,0.0,0.0,2.0,0.0,2.0,1.0],[0.0,2.0,94.0,199.0,0.0,1.0,179.0,0.0,0.0,2.0,0.0,2.0,1.0],[0.0,1.0,118.0,210.0,0.0,1.0,192.0,0.0,0.7,2.0,0.0,2.0,1.0],[1.0,0.0,112.0,204.0,0.0,1.0,143.0,0.0,0.1,2.0,0.0,2.0,1.0],[0.0,2.0,152.0,277.0,0.0,1.0,172.0,0.0,0.0,2.0,1.0,2.0,1.0],[0.0,2.0,136.0,196.0,0.0,0.0,169.0,0.0,0.1,1.0,0.0,2.0,1.0],[0.0,1.0,120.0,269.0,0.0,0.0,121.0,1.0,0.2,2.0,1.0,2.0,1.0],[0.0,2.0,160.0,201.0,0.0,1.0,163.0,0.0,0.0,2.0,1.0,2.0,1.0],[0.0,1.0,134.0,271.0,0.0,1.0,162.0,0.0,0.0,1.0,0.0,2.0,1.0],[1.0,1.0,120.0,295.0,0.0,1.0,162.0,0.0,0.0,2.0,0.0,2.0,1.0],[1.0,1.0,110.0,235.0,0.0,1.0,153.0,0.0,0.0,2.0,0.0,2.0,1.0],[0.0,1.0,126.0,306.0,0.0,1.0,163.0,0.0,0.0,2.0,0.0,2.0,1.0],[0.0,0.0,130.0,269.0,0.0,1.0,163.0,0.0,0.0,2.0,0.0,2.0,1.0],[0.0,2.0,120.0,178.0,1.0,1.0,96.0,0.0,0.0,2.0,0.0,2.0,1.0],[1.0,1.0,128.0,208.0,1.0,0.0,140.0,0.0,0.0,2.0,0.0,2.0,1.0],[1.0,0.0,110.0,201.0,0.0,1.0,126.0,1.0,1.5,1.0,0.0,1.0,1.0],[1.0,0.0,128.0,263.0,0.0,1.0,105.0,1.0,0.2,1.0,1.0,3.0,1.0],[0.0,2.0,120.0,295.0,0.0,0.0,157.0,0.0,0.6,2.0,0.0,2.0,1.0],[1.0,0.0,115.0,303.0,0.0,1.0,181.0,0.0,1.2,1.0,0.0,2.0,1.0],[0.0,2.0,120.0,209.0,0.0,1.0,173.0,0.0,0.0,1.0,0.0,2.0,1.0],[0.0,0.0,106.0,223.0,0.0,1.0,142.0,0.0,0.3,2.0,2.0,2.0,1.0],[0.0,2.0,140.0,197.0,0.0,2.0,116.0,0.0,1.1,1.0,0.0,2.0,1.0],[1.0,1.0,156.0,245.0,0.0,0.0,143.0,0.0,0.0,2.0,0.0,2.0,1.0],[0.0,2.0,118.0,242.0,0.0,1.0,149.0,0.0,0.3,1.0,1.0,2.0,1.0],[0.0,3.0,150.0,240.0,0.0,1.0,171.0,0.0,0.9,2.0,0.0,2.0,1.0],[1.0,2.0,120.0,226.0,0.0,1.0,169.0,0.0,0.0,2.0,0.0,2.0,1.0],[1.0,2.0,130.0,180.0,0.0,1.0,150.0,0.0,0.0,2.0,0.0,2.0,1.0],[1.0,0.0,160.0,228.0,0.0,0.0,138.0,0.0,2.3,2.0,0.0,1.0,1.0],[0.0,0.0,112.0,149.0,0.0,1.0,125.0,0.0,1.6,1.0,0.0,2.0,1.0],[1.0,3.0,170.0,227.0,0.0,0.0,155.0,0.0,0.6,1.0,0.0,3.0,1.0],[0.0,2.0,146.0,278.0,0.0,0.0,152.0,0.0,0.0,1.0,1.0,2.0,1.0],[0.0,2.0,138.0,220.0,0.0,1.0,152.0,0.0,0.0,1.0,0.0,2.0,1.0],[0.0,0.0,130.0,197.0,0.0,1.0,131.0,0.0,0.6,1.0,0.0,2.0,1.0],[1.0,2.0,130.0,253.0,0.0,1.0,179.0,0.0,0.0,2.0,0.0,2.0,1.0],[1.0,1.0,122.0,192.0,0.0,1.0,174.0,0.0,0.0,2.0,0.0,2.0,1.0],[1.0,1.0,125.0,220.0,0.0,1.0,144.0,0.0,0.4,1.0,4.0,3.0,1.0],[1.0,1.0,130.0,221.0,0.0,0.0,163.0,0.0,0.0,2.0,0.0,3.0,1.0],[1.0,1.0,120.0,240.0,0.0,1.0,169.0,0.0,0.0,0.0,0.0,2.0,1.0],[0.0,1.0,132.0,342.0,0.0,1.0,166.0,0.0,1.2,2.0,0.0,2.0,1.0],[1.0,1.0,120.0,157.0,0.0,1.0,182.0,0.0,0.0,2.0,0.0,2.0,1.0],[1.0,2.0,138.0,175.0,0.0,1.0,173.0,0.0,0.0,2.0,4.0,2.0,1.0],[1.0,2.0,138.0,175.0,0.0,1.0,173.0,0.0,0.0,2.0,4.0,2.0,1.0]],\"fillcolor\":\"rgba(255,255,255,0)\",\"hoveron\":\"points\",\"hovertemplate\":\"target=%{customdata[12]}<br>AGE=%{x}<br>sex=%{customdata[0]}<br>cp=%{customdata[1]}<br>trestbps=%{customdata[2]}<br>chol=%{customdata[3]}<br>fbs=%{customdata[4]}<br>restecg=%{customdata[5]}<br>thalach=%{customdata[6]}<br>exang=%{customdata[7]}<br>oldpeak=%{customdata[8]}<br>slope=%{customdata[9]}<br>ca=%{customdata[10]}<br>thal=%{customdata[11]}<extra></extra>\",\"jitter\":0,\"legendgroup\":\"1\",\"line\":{\"color\":\"rgba(255,255,255,0)\"},\"marker\":{\"color\":\"#636efa\",\"symbol\":\"line-ns-open\"},\"name\":\"1\",\"offsetgroup\":\"1\",\"showlegend\":false,\"x\":[63,37,41,56,57,57,56,44,52,57,54,48,49,64,58,50,58,66,43,69,59,44,42,61,40,71,59,51,65,53,41,65,44,54,51,46,54,54,65,65,51,48,45,53,39,52,44,47,53,53,51,66,62,44,63,52,48,45,34,57,71,54,52,41,58,35,51,45,44,62,54,51,29,51,43,55,51,59,52,58,41,45,60,52,42,67,68,46,54,58,48,57,52,54,45,53,62,52,43,53,42,59,63,42,50,68,69,45,50,50,64,57,64,43,55,37,41,56,46,46,64,59,41,54,39,34,47,67,52,74,54,49,42,41,41,49,60,62,57,64,51,43,42,67,76,70,44,60,44,42,66,71,64,66,39,58,47,35,58,56,56,55,41,38,38],\"xaxis\":\"x2\",\"yaxis\":\"y2\",\"type\":\"box\"},{\"alignmentgroup\":\"True\",\"bingroup\":\"x\",\"hovertemplate\":\"target=0<br>AGE=%{x}<br>count=%{y}<extra></extra>\",\"legendgroup\":\"0\",\"marker\":{\"color\":\"#EF553B\",\"pattern\":{\"shape\":\"\"}},\"name\":\"0\",\"offsetgroup\":\"0\",\"orientation\":\"v\",\"showlegend\":true,\"x\":[67,67,62,63,53,56,48,58,58,60,40,60,64,43,57,55,65,61,58,50,44,60,54,50,41,51,58,54,60,60,59,46,67,62,65,44,60,58,68,62,52,59,60,49,59,57,61,39,61,56,43,62,63,65,48,63,55,65,56,54,70,62,35,59,64,47,57,55,64,70,51,58,60,77,35,70,59,64,57,56,48,56,66,54,69,51,43,62,67,59,45,58,50,62,38,66,52,53,63,54,66,55,49,54,56,46,61,67,58,47,52,58,57,58,61,42,52,59,40,61,46,59,57,57,55,61,58,58,67,44,63,63,59,57,45,68,57,57],\"xaxis\":\"x\",\"yaxis\":\"y\",\"type\":\"histogram\"},{\"alignmentgroup\":\"True\",\"boxpoints\":\"all\",\"customdata\":[[1.0,0.0,160.0,286.0,0.0,0.0,108.0,1.0,1.5,1.0,3.0,2.0,0.0],[1.0,0.0,120.0,229.0,0.0,0.0,129.0,1.0,2.6,1.0,2.0,3.0,0.0],[0.0,0.0,140.0,268.0,0.0,0.0,160.0,0.0,3.6,0.0,2.0,2.0,0.0],[1.0,0.0,130.0,254.0,0.0,0.0,147.0,0.0,1.4,1.0,1.0,3.0,0.0],[1.0,0.0,140.0,203.0,1.0,0.0,155.0,1.0,3.1,0.0,0.0,3.0,0.0],[1.0,2.0,130.0,256.0,1.0,0.0,142.0,1.0,0.6,1.0,1.0,1.0,0.0],[1.0,1.0,110.0,229.0,0.0,1.0,168.0,0.0,1.0,0.0,0.0,3.0,0.0],[1.0,1.0,120.0,284.0,0.0,0.0,160.0,0.0,1.8,1.0,0.0,2.0,0.0],[1.0,2.0,132.0,224.0,0.0,0.0,173.0,0.0,3.2,2.0,2.0,3.0,0.0],[1.0,0.0,130.0,206.0,0.0,0.0,132.0,1.0,2.4,1.0,2.0,3.0,0.0],[1.0,0.0,110.0,167.0,0.0,0.0,114.0,1.0,2.0,1.0,0.0,3.0,0.0],[1.0,0.0,117.0,230.0,1.0,1.0,160.0,1.0,1.4,2.0,2.0,3.0,0.0],[1.0,2.0,140.0,335.0,0.0,1.0,158.0,0.0,0.0,2.0,0.0,2.0,0.0],[1.0,0.0,120.0,177.0,0.0,0.0,120.0,1.0,2.5,1.0,0.0,3.0,0.0],[1.0,0.0,150.0,276.0,0.0,0.0,112.0,1.0,0.6,1.0,1.0,1.0,0.0],[1.0,0.0,132.0,353.0,0.0,1.0,132.0,1.0,1.2,1.0,1.0,3.0,0.0],[0.0,0.0,150.0,225.0,0.0,0.0,114.0,0.0,1.0,1.0,3.0,3.0,0.0],[0.0,0.0,130.0,330.0,0.0,0.0,169.0,0.0,0.0,2.0,0.0,2.0,0.0],[1.0,2.0,112.0,230.0,0.0,0.0,165.0,0.0,2.5,1.0,1.0,3.0,0.0],[1.0,0.0,150.0,243.0,0.0,0.0,128.0,0.0,2.6,1.0,0.0,3.0,0.0],[1.0,0.0,112.0,290.0,0.0,0.0,153.0,0.0,0.0,2.0,1.0,2.0,0.0],[1.0,0.0,130.0,253.0,0.0,1.0,144.0,1.0,1.4,2.0,1.0,3.0,0.0],[1.0,0.0,124.0,266.0,0.0,0.0,109.0,1.0,2.2,1.0,1.0,3.0,0.0],[1.0,2.0,140.0,233.0,0.0,1.0,163.0,0.0,0.6,1.0,1.0,3.0,0.0],[1.0,0.0,110.0,172.0,0.0,0.0,158.0,0.0,0.0,2.0,0.0,3.0,0.0],[0.0,0.0,130.0,305.0,0.0,1.0,142.0,1.0,1.2,1.0,0.0,3.0,0.0],[1.0,0.0,128.0,216.0,0.0,0.0,131.0,1.0,2.2,1.0,3.0,3.0,0.0],[1.0,0.0,120.0,188.0,0.0,1.0,113.0,0.0,1.4,1.0,1.0,3.0,0.0],[1.0,0.0,145.0,282.0,0.0,0.0,142.0,1.0,2.8,1.0,2.0,3.0,0.0],[1.0,2.0,140.0,185.0,0.0,0.0,155.0,0.0,3.0,1.0,0.0,2.0,0.0],[1.0,0.0,170.0,326.0,0.0,0.0,140.0,1.0,3.4,0.0,0.0,3.0,0.0],[1.0,2.0,150.0,231.0,0.0,1.0,147.0,0.0,3.6,1.0,0.0,2.0,0.0],[1.0,0.0,125.0,254.0,1.0,1.0,163.0,0.0,0.2,1.0,2.0,3.0,0.0],[1.0,0.0,120.0,267.0,0.0,1.0,99.0,1.0,1.8,1.0,2.0,3.0,0.0],[1.0,0.0,110.0,248.0,0.0,0.0,158.0,0.0,0.6,2.0,2.0,1.0,0.0],[1.0,0.0,110.0,197.0,0.0,0.0,177.0,0.0,0.0,2.0,1.0,2.0,0.0],[1.0,0.0,125.0,258.0,0.0,0.0,141.0,1.0,2.8,1.0,1.0,3.0,0.0],[1.0,0.0,150.0,270.0,0.0,0.0,111.0,1.0,0.8,2.0,0.0,3.0,0.0],[1.0,2.0,180.0,274.0,1.0,0.0,150.0,1.0,1.6,1.0,0.0,3.0,0.0],[0.0,0.0,160.0,164.0,0.0,0.0,145.0,0.0,6.2,0.0,3.0,3.0,0.0],[1.0,0.0,128.0,255.0,0.0,1.0,161.0,1.0,0.0,2.0,1.0,3.0,0.0],[1.0,0.0,110.0,239.0,0.0,0.0,142.0,1.0,1.2,1.0,1.0,3.0,0.0],[0.0,0.0,150.0,258.0,0.0,0.0,157.0,0.0,2.6,1.0,2.0,3.0,0.0],[1.0,2.0,120.0,188.0,0.0,1.0,139.0,0.0,2.0,1.0,3.0,3.0,0.0],[1.0,0.0,140.0,177.0,0.0,1.0,162.0,1.0,0.0,2.0,1.0,3.0,0.0],[1.0,2.0,128.0,229.0,0.0,0.0,150.0,0.0,0.4,1.0,1.0,3.0,0.0],[1.0,0.0,120.0,260.0,0.0,1.0,140.0,1.0,3.6,1.0,1.0,3.0,0.0],[1.0,0.0,118.0,219.0,0.0,1.0,140.0,0.0,1.2,1.0,0.0,3.0,0.0],[0.0,0.0,145.0,307.0,0.0,0.0,146.0,1.0,1.0,1.0,0.0,3.0,0.0],[1.0,0.0,125.0,249.0,1.0,0.0,144.0,1.0,1.2,1.0,1.0,2.0,0.0],[0.0,0.0,132.0,341.0,1.0,0.0,136.0,1.0,3.0,1.0,0.0,3.0,0.0],[0.0,2.0,130.0,263.0,0.0,1.0,97.0,0.0,1.2,1.0,1.0,3.0,0.0],[1.0,0.0,130.0,330.0,1.0,0.0,132.0,1.0,1.8,2.0,3.0,3.0,0.0],[1.0,0.0,135.0,254.0,0.0,0.0,127.0,0.0,2.8,1.0,1.0,3.0,0.0],[1.0,0.0,130.0,256.0,1.0,0.0,150.0,1.0,0.0,2.0,2.0,3.0,0.0],[0.0,0.0,150.0,407.0,0.0,0.0,154.0,0.0,4.0,1.0,3.0,3.0,0.0],[1.0,0.0,140.0,217.0,0.0,1.0,111.0,1.0,5.6,0.0,0.0,3.0,0.0],[1.0,3.0,138.0,282.0,1.0,0.0,174.0,0.0,1.4,1.0,1.0,2.0,0.0],[0.0,0.0,200.0,288.0,1.0,0.0,133.0,1.0,4.0,0.0,2.0,3.0,0.0],[1.0,0.0,110.0,239.0,0.0,1.0,126.0,1.0,2.8,1.0,1.0,3.0,0.0],[1.0,0.0,145.0,174.0,0.0,1.0,125.0,1.0,2.6,0.0,0.0,3.0,0.0],[1.0,1.0,120.0,281.0,0.0,0.0,103.0,0.0,1.4,1.0,1.0,3.0,0.0],[1.0,0.0,120.0,198.0,0.0,1.0,130.0,1.0,1.6,1.0,0.0,3.0,0.0],[1.0,3.0,170.0,288.0,0.0,0.0,159.0,0.0,0.2,1.0,0.0,3.0,0.0],[1.0,2.0,125.0,309.0,0.0,1.0,131.0,1.0,1.8,1.0,0.0,3.0,0.0],[1.0,2.0,108.0,243.0,0.0,1.0,152.0,0.0,0.0,2.0,0.0,2.0,0.0],[1.0,0.0,165.0,289.0,1.0,0.0,124.0,0.0,1.0,1.0,3.0,3.0,0.0],[1.0,0.0,160.0,289.0,0.0,0.0,145.0,1.0,0.8,1.0,1.0,3.0,0.0],[1.0,0.0,120.0,246.0,0.0,0.0,96.0,1.0,2.2,0.0,1.0,2.0,0.0],[1.0,0.0,130.0,322.0,0.0,0.0,109.0,0.0,2.4,1.0,3.0,2.0,0.0],[1.0,0.0,140.0,299.0,0.0,1.0,173.0,1.0,1.6,2.0,0.0,3.0,0.0],[1.0,0.0,125.0,300.0,0.0,0.0,171.0,0.0,0.0,2.0,2.0,3.0,0.0],[1.0,0.0,140.0,293.0,0.0,0.0,170.0,0.0,1.2,1.0,2.0,3.0,0.0],[1.0,0.0,125.0,304.0,0.0,0.0,162.0,1.0,0.0,2.0,3.0,2.0,0.0],[1.0,0.0,126.0,282.0,0.0,0.0,156.0,1.0,0.0,2.0,0.0,3.0,0.0],[1.0,2.0,160.0,269.0,0.0,1.0,112.0,1.0,2.9,1.0,1.0,3.0,0.0],[0.0,0.0,174.0,249.0,0.0,1.0,143.0,1.0,0.0,1.0,0.0,2.0,0.0],[1.0,0.0,145.0,212.0,0.0,0.0,132.0,0.0,2.0,1.0,2.0,1.0,0.0],[1.0,0.0,152.0,274.0,0.0,1.0,88.0,1.0,1.2,1.0,1.0,3.0,0.0],[1.0,0.0,132.0,184.0,0.0,0.0,105.0,1.0,2.1,1.0,1.0,1.0,0.0],[1.0,0.0,124.0,274.0,0.0,0.0,166.0,0.0,0.5,1.0,0.0,3.0,0.0],[0.0,0.0,134.0,409.0,0.0,0.0,150.0,1.0,1.9,1.0,2.0,3.0,0.0],[1.0,1.0,160.0,246.0,0.0,1.0,120.0,1.0,0.0,1.0,3.0,1.0,0.0],[1.0,1.0,192.0,283.0,0.0,0.0,195.0,0.0,0.0,2.0,1.0,3.0,0.0],[1.0,2.0,140.0,254.0,0.0,0.0,146.0,0.0,2.0,1.0,3.0,3.0,0.0],[1.0,0.0,140.0,298.0,0.0,1.0,122.0,1.0,4.2,1.0,3.0,3.0,0.0],[1.0,0.0,132.0,247.0,1.0,0.0,143.0,1.0,0.1,1.0,4.0,3.0,0.0],[0.0,0.0,138.0,294.0,1.0,1.0,106.0,0.0,1.9,1.0,3.0,2.0,0.0],[1.0,0.0,100.0,299.0,0.0,0.0,125.0,1.0,0.9,1.0,2.0,2.0,0.0],[1.0,3.0,160.0,273.0,0.0,0.0,125.0,0.0,0.0,2.0,0.0,2.0,0.0],[1.0,0.0,142.0,309.0,0.0,0.0,147.0,1.0,0.0,1.0,3.0,3.0,0.0],[1.0,0.0,128.0,259.0,0.0,0.0,130.0,1.0,3.0,1.0,2.0,3.0,0.0],[1.0,0.0,144.0,200.0,0.0,0.0,126.0,1.0,0.9,1.0,0.0,3.0,0.0],[0.0,0.0,150.0,244.0,0.0,1.0,154.0,1.0,1.4,1.0,0.0,2.0,0.0],[1.0,3.0,120.0,231.0,0.0,1.0,182.0,1.0,3.8,1.0,0.0,3.0,0.0],[0.0,0.0,178.0,228.0,1.0,1.0,165.0,1.0,1.0,1.0,2.0,3.0,0.0],[1.0,0.0,112.0,230.0,0.0,1.0,160.0,0.0,0.0,2.0,1.0,2.0,0.0],[1.0,0.0,123.0,282.0,0.0,1.0,95.0,1.0,2.0,1.0,2.0,3.0,0.0],[0.0,0.0,108.0,269.0,0.0,1.0,169.0,1.0,1.8,1.0,2.0,2.0,0.0],[1.0,0.0,110.0,206.0,0.0,0.0,108.0,1.0,0.0,1.0,1.0,2.0,0.0],[1.0,0.0,112.0,212.0,0.0,0.0,132.0,1.0,0.1,2.0,1.0,2.0,0.0],[0.0,0.0,180.0,327.0,0.0,2.0,117.0,1.0,3.4,1.0,0.0,2.0,0.0],[1.0,2.0,118.0,149.0,0.0,0.0,126.0,0.0,0.8,2.0,3.0,2.0,0.0],[1.0,0.0,122.0,286.0,0.0,0.0,116.0,1.0,3.2,1.0,2.0,2.0,0.0],[1.0,0.0,130.0,283.0,1.0,0.0,103.0,1.0,1.6,0.0,0.0,3.0,0.0],[1.0,0.0,120.0,249.0,0.0,0.0,144.0,0.0,0.8,2.0,0.0,3.0,0.0],[1.0,3.0,134.0,234.0,0.0,1.0,145.0,0.0,2.6,1.0,2.0,2.0,0.0],[1.0,0.0,120.0,237.0,0.0,1.0,71.0,0.0,1.0,1.0,0.0,2.0,0.0],[1.0,0.0,100.0,234.0,0.0,1.0,156.0,0.0,0.1,2.0,1.0,3.0,0.0],[1.0,0.0,110.0,275.0,0.0,0.0,118.0,1.0,1.0,1.0,1.0,2.0,0.0],[1.0,0.0,125.0,212.0,0.0,1.0,168.0,0.0,1.0,2.0,2.0,3.0,0.0],[1.0,0.0,146.0,218.0,0.0,1.0,105.0,0.0,2.0,1.0,1.0,3.0,0.0],[1.0,1.0,124.0,261.0,0.0,1.0,141.0,0.0,0.3,2.0,0.0,3.0,0.0],[0.0,1.0,136.0,319.0,1.0,0.0,152.0,0.0,0.0,2.0,2.0,2.0,0.0],[1.0,0.0,138.0,166.0,0.0,0.0,125.0,1.0,3.6,1.0,1.0,2.0,0.0],[1.0,0.0,136.0,315.0,0.0,1.0,125.0,1.0,1.8,1.0,0.0,1.0,0.0],[1.0,0.0,128.0,204.0,1.0,1.0,156.0,1.0,1.0,1.0,0.0,0.0,0.0],[1.0,2.0,126.0,218.0,1.0,1.0,134.0,0.0,2.2,1.0,1.0,1.0,0.0],[1.0,0.0,152.0,223.0,0.0,1.0,181.0,0.0,0.0,2.0,0.0,3.0,0.0],[1.0,0.0,140.0,207.0,0.0,0.0,138.0,1.0,1.9,2.0,1.0,3.0,0.0],[1.0,0.0,140.0,311.0,0.0,1.0,120.0,1.0,1.8,1.0,2.0,3.0,0.0],[1.0,3.0,134.0,204.0,0.0,1.0,162.0,0.0,0.8,2.0,2.0,2.0,0.0],[1.0,1.0,154.0,232.0,0.0,0.0,164.0,0.0,0.0,2.0,1.0,2.0,0.0],[1.0,0.0,110.0,335.0,0.0,1.0,143.0,1.0,3.0,1.0,1.0,3.0,0.0],[0.0,0.0,128.0,205.0,0.0,2.0,130.0,1.0,2.0,1.0,1.0,3.0,0.0],[1.0,0.0,148.0,203.0,0.0,1.0,161.0,0.0,0.0,2.0,1.0,3.0,0.0],[1.0,0.0,114.0,318.0,0.0,2.0,140.0,0.0,4.4,0.0,3.0,1.0,0.0],[0.0,0.0,170.0,225.0,1.0,0.0,146.0,1.0,2.8,1.0,2.0,1.0,0.0],[1.0,2.0,152.0,212.0,0.0,0.0,150.0,0.0,0.8,1.0,0.0,3.0,0.0],[1.0,0.0,120.0,169.0,0.0,1.0,144.0,1.0,2.8,0.0,0.0,1.0,0.0],[1.0,0.0,140.0,187.0,0.0,0.0,144.0,1.0,4.0,2.0,2.0,3.0,0.0],[0.0,0.0,124.0,197.0,0.0,1.0,136.0,1.0,0.0,1.0,0.0,2.0,0.0],[1.0,0.0,164.0,176.0,1.0,0.0,90.0,0.0,1.0,1.0,2.0,1.0,0.0],[0.0,0.0,140.0,241.0,0.0,1.0,123.0,1.0,0.2,1.0,0.0,3.0,0.0],[1.0,3.0,110.0,264.0,0.0,1.0,132.0,0.0,1.2,1.0,0.0,3.0,0.0],[1.0,0.0,144.0,193.0,1.0,1.0,141.0,0.0,3.4,1.0,2.0,3.0,0.0],[1.0,0.0,130.0,131.0,0.0,1.0,115.0,1.0,1.2,1.0,1.0,3.0,0.0],[0.0,1.0,130.0,236.0,0.0,0.0,174.0,0.0,0.0,1.0,1.0,2.0,0.0]],\"fillcolor\":\"rgba(255,255,255,0)\",\"hoveron\":\"points\",\"hovertemplate\":\"target=%{customdata[12]}<br>AGE=%{x}<br>sex=%{customdata[0]}<br>cp=%{customdata[1]}<br>trestbps=%{customdata[2]}<br>chol=%{customdata[3]}<br>fbs=%{customdata[4]}<br>restecg=%{customdata[5]}<br>thalach=%{customdata[6]}<br>exang=%{customdata[7]}<br>oldpeak=%{customdata[8]}<br>slope=%{customdata[9]}<br>ca=%{customdata[10]}<br>thal=%{customdata[11]}<extra></extra>\",\"jitter\":0,\"legendgroup\":\"0\",\"line\":{\"color\":\"rgba(255,255,255,0)\"},\"marker\":{\"color\":\"#EF553B\",\"symbol\":\"line-ns-open\"},\"name\":\"0\",\"offsetgroup\":\"0\",\"showlegend\":false,\"x\":[67,67,62,63,53,56,48,58,58,60,40,60,64,43,57,55,65,61,58,50,44,60,54,50,41,51,58,54,60,60,59,46,67,62,65,44,60,58,68,62,52,59,60,49,59,57,61,39,61,56,43,62,63,65,48,63,55,65,56,54,70,62,35,59,64,47,57,55,64,70,51,58,60,77,35,70,59,64,57,56,48,56,66,54,69,51,43,62,67,59,45,58,50,62,38,66,52,53,63,54,66,55,49,54,56,46,61,67,58,47,52,58,57,58,61,42,52,59,40,61,46,59,57,57,55,61,58,58,67,44,63,63,59,57,45,68,57,57],\"xaxis\":\"x2\",\"yaxis\":\"y2\",\"type\":\"box\"}],                        {\"template\":{\"data\":{\"barpolar\":[{\"marker\":{\"line\":{\"color\":\"rgb(17,17,17)\",\"width\":0.5},\"pattern\":{\"fillmode\":\"overlay\",\"size\":10,\"solidity\":0.2}},\"type\":\"barpolar\"}],\"bar\":[{\"error_x\":{\"color\":\"#f2f5fa\"},\"error_y\":{\"color\":\"#f2f5fa\"},\"marker\":{\"line\":{\"color\":\"rgb(17,17,17)\",\"width\":0.5},\"pattern\":{\"fillmode\":\"overlay\",\"size\":10,\"solidity\":0.2}},\"type\":\"bar\"}],\"carpet\":[{\"aaxis\":{\"endlinecolor\":\"#A2B1C6\",\"gridcolor\":\"#506784\",\"linecolor\":\"#506784\",\"minorgridcolor\":\"#506784\",\"startlinecolor\":\"#A2B1C6\"},\"baxis\":{\"endlinecolor\":\"#A2B1C6\",\"gridcolor\":\"#506784\",\"linecolor\":\"#506784\",\"minorgridcolor\":\"#506784\",\"startlinecolor\":\"#A2B1C6\"},\"type\":\"carpet\"}],\"choropleth\":[{\"colorbar\":{\"outlinewidth\":0,\"ticks\":\"\"},\"type\":\"choropleth\"}],\"contourcarpet\":[{\"colorbar\":{\"outlinewidth\":0,\"ticks\":\"\"},\"type\":\"contourcarpet\"}],\"contour\":[{\"colorbar\":{\"outlinewidth\":0,\"ticks\":\"\"},\"colorscale\":[[0.0,\"#0d0887\"],[0.1111111111111111,\"#46039f\"],[0.2222222222222222,\"#7201a8\"],[0.3333333333333333,\"#9c179e\"],[0.4444444444444444,\"#bd3786\"],[0.5555555555555556,\"#d8576b\"],[0.6666666666666666,\"#ed7953\"],[0.7777777777777778,\"#fb9f3a\"],[0.8888888888888888,\"#fdca26\"],[1.0,\"#f0f921\"]],\"type\":\"contour\"}],\"heatmapgl\":[{\"colorbar\":{\"outlinewidth\":0,\"ticks\":\"\"},\"colorscale\":[[0.0,\"#0d0887\"],[0.1111111111111111,\"#46039f\"],[0.2222222222222222,\"#7201a8\"],[0.3333333333333333,\"#9c179e\"],[0.4444444444444444,\"#bd3786\"],[0.5555555555555556,\"#d8576b\"],[0.6666666666666666,\"#ed7953\"],[0.7777777777777778,\"#fb9f3a\"],[0.8888888888888888,\"#fdca26\"],[1.0,\"#f0f921\"]],\"type\":\"heatmapgl\"}],\"heatmap\":[{\"colorbar\":{\"outlinewidth\":0,\"ticks\":\"\"},\"colorscale\":[[0.0,\"#0d0887\"],[0.1111111111111111,\"#46039f\"],[0.2222222222222222,\"#7201a8\"],[0.3333333333333333,\"#9c179e\"],[0.4444444444444444,\"#bd3786\"],[0.5555555555555556,\"#d8576b\"],[0.6666666666666666,\"#ed7953\"],[0.7777777777777778,\"#fb9f3a\"],[0.8888888888888888,\"#fdca26\"],[1.0,\"#f0f921\"]],\"type\":\"heatmap\"}],\"histogram2dcontour\":[{\"colorbar\":{\"outlinewidth\":0,\"ticks\":\"\"},\"colorscale\":[[0.0,\"#0d0887\"],[0.1111111111111111,\"#46039f\"],[0.2222222222222222,\"#7201a8\"],[0.3333333333333333,\"#9c179e\"],[0.4444444444444444,\"#bd3786\"],[0.5555555555555556,\"#d8576b\"],[0.6666666666666666,\"#ed7953\"],[0.7777777777777778,\"#fb9f3a\"],[0.8888888888888888,\"#fdca26\"],[1.0,\"#f0f921\"]],\"type\":\"histogram2dcontour\"}],\"histogram2d\":[{\"colorbar\":{\"outlinewidth\":0,\"ticks\":\"\"},\"colorscale\":[[0.0,\"#0d0887\"],[0.1111111111111111,\"#46039f\"],[0.2222222222222222,\"#7201a8\"],[0.3333333333333333,\"#9c179e\"],[0.4444444444444444,\"#bd3786\"],[0.5555555555555556,\"#d8576b\"],[0.6666666666666666,\"#ed7953\"],[0.7777777777777778,\"#fb9f3a\"],[0.8888888888888888,\"#fdca26\"],[1.0,\"#f0f921\"]],\"type\":\"histogram2d\"}],\"histogram\":[{\"marker\":{\"pattern\":{\"fillmode\":\"overlay\",\"size\":10,\"solidity\":0.2}},\"type\":\"histogram\"}],\"mesh3d\":[{\"colorbar\":{\"outlinewidth\":0,\"ticks\":\"\"},\"type\":\"mesh3d\"}],\"parcoords\":[{\"line\":{\"colorbar\":{\"outlinewidth\":0,\"ticks\":\"\"}},\"type\":\"parcoords\"}],\"pie\":[{\"automargin\":true,\"type\":\"pie\"}],\"scatter3d\":[{\"line\":{\"colorbar\":{\"outlinewidth\":0,\"ticks\":\"\"}},\"marker\":{\"colorbar\":{\"outlinewidth\":0,\"ticks\":\"\"}},\"type\":\"scatter3d\"}],\"scattercarpet\":[{\"marker\":{\"colorbar\":{\"outlinewidth\":0,\"ticks\":\"\"}},\"type\":\"scattercarpet\"}],\"scattergeo\":[{\"marker\":{\"colorbar\":{\"outlinewidth\":0,\"ticks\":\"\"}},\"type\":\"scattergeo\"}],\"scattergl\":[{\"marker\":{\"line\":{\"color\":\"#283442\"}},\"type\":\"scattergl\"}],\"scattermapbox\":[{\"marker\":{\"colorbar\":{\"outlinewidth\":0,\"ticks\":\"\"}},\"type\":\"scattermapbox\"}],\"scatterpolargl\":[{\"marker\":{\"colorbar\":{\"outlinewidth\":0,\"ticks\":\"\"}},\"type\":\"scatterpolargl\"}],\"scatterpolar\":[{\"marker\":{\"colorbar\":{\"outlinewidth\":0,\"ticks\":\"\"}},\"type\":\"scatterpolar\"}],\"scatter\":[{\"marker\":{\"line\":{\"color\":\"#283442\"}},\"type\":\"scatter\"}],\"scatterternary\":[{\"marker\":{\"colorbar\":{\"outlinewidth\":0,\"ticks\":\"\"}},\"type\":\"scatterternary\"}],\"surface\":[{\"colorbar\":{\"outlinewidth\":0,\"ticks\":\"\"},\"colorscale\":[[0.0,\"#0d0887\"],[0.1111111111111111,\"#46039f\"],[0.2222222222222222,\"#7201a8\"],[0.3333333333333333,\"#9c179e\"],[0.4444444444444444,\"#bd3786\"],[0.5555555555555556,\"#d8576b\"],[0.6666666666666666,\"#ed7953\"],[0.7777777777777778,\"#fb9f3a\"],[0.8888888888888888,\"#fdca26\"],[1.0,\"#f0f921\"]],\"type\":\"surface\"}],\"table\":[{\"cells\":{\"fill\":{\"color\":\"#506784\"},\"line\":{\"color\":\"rgb(17,17,17)\"}},\"header\":{\"fill\":{\"color\":\"#2a3f5f\"},\"line\":{\"color\":\"rgb(17,17,17)\"}},\"type\":\"table\"}]},\"layout\":{\"annotationdefaults\":{\"arrowcolor\":\"#f2f5fa\",\"arrowhead\":0,\"arrowwidth\":1},\"autotypenumbers\":\"strict\",\"coloraxis\":{\"colorbar\":{\"outlinewidth\":0,\"ticks\":\"\"}},\"colorscale\":{\"diverging\":[[0,\"#8e0152\"],[0.1,\"#c51b7d\"],[0.2,\"#de77ae\"],[0.3,\"#f1b6da\"],[0.4,\"#fde0ef\"],[0.5,\"#f7f7f7\"],[0.6,\"#e6f5d0\"],[0.7,\"#b8e186\"],[0.8,\"#7fbc41\"],[0.9,\"#4d9221\"],[1,\"#276419\"]],\"sequential\":[[0.0,\"#0d0887\"],[0.1111111111111111,\"#46039f\"],[0.2222222222222222,\"#7201a8\"],[0.3333333333333333,\"#9c179e\"],[0.4444444444444444,\"#bd3786\"],[0.5555555555555556,\"#d8576b\"],[0.6666666666666666,\"#ed7953\"],[0.7777777777777778,\"#fb9f3a\"],[0.8888888888888888,\"#fdca26\"],[1.0,\"#f0f921\"]],\"sequentialminus\":[[0.0,\"#0d0887\"],[0.1111111111111111,\"#46039f\"],[0.2222222222222222,\"#7201a8\"],[0.3333333333333333,\"#9c179e\"],[0.4444444444444444,\"#bd3786\"],[0.5555555555555556,\"#d8576b\"],[0.6666666666666666,\"#ed7953\"],[0.7777777777777778,\"#fb9f3a\"],[0.8888888888888888,\"#fdca26\"],[1.0,\"#f0f921\"]]},\"colorway\":[\"#636efa\",\"#EF553B\",\"#00cc96\",\"#ab63fa\",\"#FFA15A\",\"#19d3f3\",\"#FF6692\",\"#B6E880\",\"#FF97FF\",\"#FECB52\"],\"font\":{\"color\":\"#f2f5fa\"},\"geo\":{\"bgcolor\":\"rgb(17,17,17)\",\"lakecolor\":\"rgb(17,17,17)\",\"landcolor\":\"rgb(17,17,17)\",\"showlakes\":true,\"showland\":true,\"subunitcolor\":\"#506784\"},\"hoverlabel\":{\"align\":\"left\"},\"hovermode\":\"closest\",\"mapbox\":{\"style\":\"dark\"},\"paper_bgcolor\":\"rgb(17,17,17)\",\"plot_bgcolor\":\"rgb(17,17,17)\",\"polar\":{\"angularaxis\":{\"gridcolor\":\"#506784\",\"linecolor\":\"#506784\",\"ticks\":\"\"},\"bgcolor\":\"rgb(17,17,17)\",\"radialaxis\":{\"gridcolor\":\"#506784\",\"linecolor\":\"#506784\",\"ticks\":\"\"}},\"scene\":{\"xaxis\":{\"backgroundcolor\":\"rgb(17,17,17)\",\"gridcolor\":\"#506784\",\"gridwidth\":2,\"linecolor\":\"#506784\",\"showbackground\":true,\"ticks\":\"\",\"zerolinecolor\":\"#C8D4E3\"},\"yaxis\":{\"backgroundcolor\":\"rgb(17,17,17)\",\"gridcolor\":\"#506784\",\"gridwidth\":2,\"linecolor\":\"#506784\",\"showbackground\":true,\"ticks\":\"\",\"zerolinecolor\":\"#C8D4E3\"},\"zaxis\":{\"backgroundcolor\":\"rgb(17,17,17)\",\"gridcolor\":\"#506784\",\"gridwidth\":2,\"linecolor\":\"#506784\",\"showbackground\":true,\"ticks\":\"\",\"zerolinecolor\":\"#C8D4E3\"}},\"shapedefaults\":{\"line\":{\"color\":\"#f2f5fa\"}},\"sliderdefaults\":{\"bgcolor\":\"#C8D4E3\",\"bordercolor\":\"rgb(17,17,17)\",\"borderwidth\":1,\"tickwidth\":0},\"ternary\":{\"aaxis\":{\"gridcolor\":\"#506784\",\"linecolor\":\"#506784\",\"ticks\":\"\"},\"baxis\":{\"gridcolor\":\"#506784\",\"linecolor\":\"#506784\",\"ticks\":\"\"},\"bgcolor\":\"rgb(17,17,17)\",\"caxis\":{\"gridcolor\":\"#506784\",\"linecolor\":\"#506784\",\"ticks\":\"\"}},\"title\":{\"x\":0.05},\"updatemenudefaults\":{\"bgcolor\":\"#506784\",\"borderwidth\":0},\"xaxis\":{\"automargin\":true,\"gridcolor\":\"#283442\",\"linecolor\":\"#506784\",\"ticks\":\"\",\"title\":{\"standoff\":15},\"zerolinecolor\":\"#283442\",\"zerolinewidth\":2},\"yaxis\":{\"automargin\":true,\"gridcolor\":\"#283442\",\"linecolor\":\"#506784\",\"ticks\":\"\",\"title\":{\"standoff\":15},\"zerolinecolor\":\"#283442\",\"zerolinewidth\":2}}},\"xaxis\":{\"anchor\":\"y\",\"domain\":[0.0,1.0],\"title\":{\"text\":\"AGE\"}},\"yaxis\":{\"anchor\":\"x\",\"domain\":[0.0,0.7326],\"title\":{\"text\":\"count\"}},\"xaxis2\":{\"anchor\":\"y2\",\"domain\":[0.0,1.0],\"matches\":\"x\",\"showticklabels\":false,\"showgrid\":true},\"yaxis2\":{\"anchor\":\"x2\",\"domain\":[0.7426,1.0],\"matches\":\"y2\",\"showticklabels\":false,\"showline\":false,\"ticks\":\"\",\"showgrid\":false},\"legend\":{\"title\":{\"text\":\"target\"},\"tracegroupgap\":0},\"title\":{\"text\":\"Histogram for Age vs Target\"},\"barmode\":\"relative\"},                        {\"responsive\": true}                    ).then(function(){\n",
              "                            \n",
              "var gd = document.getElementById('a46b7421-eefc-4fcc-96b7-c9f2db921494');\n",
              "var x = new MutationObserver(function (mutations, observer) {{\n",
              "        var display = window.getComputedStyle(gd).display;\n",
              "        if (!display || display === 'none') {{\n",
              "            console.log([gd, 'removed!']);\n",
              "            Plotly.purge(gd);\n",
              "            observer.disconnect();\n",
              "        }}\n",
              "}});\n",
              "\n",
              "// Listen for the removal of the full notebook cells\n",
              "var notebookContainer = gd.closest('#notebook-container');\n",
              "if (notebookContainer) {{\n",
              "    x.observe(notebookContainer, {childList: true});\n",
              "}}\n",
              "\n",
              "// Listen for the clearing of the current output cell\n",
              "var outputEl = gd.closest('.output');\n",
              "if (outputEl) {{\n",
              "    x.observe(outputEl, {childList: true});\n",
              "}}\n",
              "\n",
              "                        })                };                            </script>        </div>\n",
              "</body>\n",
              "</html>"
            ]
          },
          "metadata": {}
        }
      ]
    },
    {
      "cell_type": "code",
      "source": [
        "# Now lets categorize the above histogram by cholestoral vs Target\n",
        "\n",
        "import plotly.express as px\n",
        "fig = px.histogram(df, x=\"chol\", color=\"target\", marginal=\"rug\", hover_data=df.columns, \n",
        "                   title =\"Histogram for Cholestoral vs Target\", \n",
        "                   labels={\"chol\": \"Cholestoral\"},\n",
        "                   template=\"plotly_dark\",\n",
        "                   color_discrete_map={\"0\": \"RebeccaPurple\", \"1\": \"MediumPurple\"}\n",
        "                  )\n",
        "fig.show()"
      ],
      "metadata": {
        "colab": {
          "base_uri": "https://localhost:8080/",
          "height": 542
        },
        "id": "k3dQGLRYth9P",
        "outputId": "4462253d-8226-46cf-bcc4-388a1dcbcdce"
      },
      "execution_count": 566,
      "outputs": [
        {
          "output_type": "display_data",
          "data": {
            "text/html": [
              "<html>\n",
              "<head><meta charset=\"utf-8\" /></head>\n",
              "<body>\n",
              "    <div>            <script src=\"https://cdnjs.cloudflare.com/ajax/libs/mathjax/2.7.5/MathJax.js?config=TeX-AMS-MML_SVG\"></script><script type=\"text/javascript\">if (window.MathJax) {MathJax.Hub.Config({SVG: {font: \"STIX-Web\"}});}</script>                <script type=\"text/javascript\">window.PlotlyConfig = {MathJaxConfig: 'local'};</script>\n",
              "        <script src=\"https://cdn.plot.ly/plotly-2.8.3.min.js\"></script>                <div id=\"2b64d6b9-5010-4c53-9546-f430dd8a0eec\" class=\"plotly-graph-div\" style=\"height:525px; width:100%;\"></div>            <script type=\"text/javascript\">                                    window.PLOTLYENV=window.PLOTLYENV || {};                                    if (document.getElementById(\"2b64d6b9-5010-4c53-9546-f430dd8a0eec\")) {                    Plotly.newPlot(                        \"2b64d6b9-5010-4c53-9546-f430dd8a0eec\",                        [{\"alignmentgroup\":\"True\",\"bingroup\":\"x\",\"hovertemplate\":\"target=1<br>Cholestoral=%{x}<br>count=%{y}<extra></extra>\",\"legendgroup\":\"1\",\"marker\":{\"color\":\"#00cc96\",\"pattern\":{\"shape\":\"\"}},\"name\":\"1\",\"offsetgroup\":\"1\",\"orientation\":\"v\",\"showlegend\":true,\"x\":[233,250,204,236,354,192,294,263,199,168,239,275,266,211,283,219,340,226,247,239,234,233,226,243,199,302,212,175,417,197,198,177,219,273,213,177,304,232,269,360,308,245,208,264,321,325,235,257,216,234,256,302,231,141,252,201,222,260,182,303,265,309,186,203,211,183,222,234,220,209,258,227,204,261,213,250,245,221,205,240,250,308,318,298,265,564,277,197,214,248,255,207,223,288,160,226,394,233,315,246,244,270,195,240,196,211,234,236,244,254,325,126,313,211,262,215,214,193,204,243,303,271,268,267,199,210,204,277,196,269,201,271,295,235,306,269,178,208,201,263,295,303,209,223,197,245,242,240,226,180,228,149,227,278,220,197,253,192,220,221,240,342,157,175,175],\"xaxis\":\"x\",\"yaxis\":\"y\",\"type\":\"histogram\"},{\"alignmentgroup\":\"True\",\"boxpoints\":\"all\",\"customdata\":[[63.0,1.0,3.0,145.0,1.0,0.0,150.0,0.0,2.3,0.0,0.0,1.0,1.0],[37.0,1.0,2.0,130.0,0.0,1.0,187.0,0.0,3.5,0.0,0.0,2.0,1.0],[41.0,0.0,1.0,130.0,0.0,0.0,172.0,0.0,1.4,2.0,0.0,2.0,1.0],[56.0,1.0,1.0,120.0,0.0,1.0,178.0,0.0,0.8,2.0,0.0,2.0,1.0],[57.0,0.0,0.0,120.0,0.0,1.0,163.0,1.0,0.6,2.0,0.0,2.0,1.0],[57.0,1.0,0.0,140.0,0.0,1.0,148.0,0.0,0.4,1.0,0.0,1.0,1.0],[56.0,0.0,1.0,140.0,0.0,0.0,153.0,0.0,1.3,1.0,0.0,2.0,1.0],[44.0,1.0,1.0,120.0,0.0,1.0,173.0,0.0,0.0,2.0,0.0,3.0,1.0],[52.0,1.0,2.0,172.0,1.0,1.0,162.0,0.0,0.5,2.0,0.0,3.0,1.0],[57.0,1.0,2.0,150.0,0.0,1.0,174.0,0.0,1.6,2.0,0.0,2.0,1.0],[54.0,1.0,0.0,140.0,0.0,1.0,160.0,0.0,1.2,2.0,0.0,2.0,1.0],[48.0,0.0,2.0,130.0,0.0,1.0,139.0,0.0,0.2,2.0,0.0,2.0,1.0],[49.0,1.0,1.0,130.0,0.0,1.0,171.0,0.0,0.6,2.0,0.0,2.0,1.0],[64.0,1.0,3.0,110.0,0.0,0.0,144.0,1.0,1.8,1.0,0.0,2.0,1.0],[58.0,0.0,3.0,150.0,1.0,0.0,162.0,0.0,1.0,2.0,0.0,2.0,1.0],[50.0,0.0,2.0,120.0,0.0,1.0,158.0,0.0,1.6,1.0,0.0,2.0,1.0],[58.0,0.0,2.0,120.0,0.0,1.0,172.0,0.0,0.0,2.0,0.0,2.0,1.0],[66.0,0.0,3.0,150.0,0.0,1.0,114.0,0.0,2.6,0.0,0.0,2.0,1.0],[43.0,1.0,0.0,150.0,0.0,1.0,171.0,0.0,1.5,2.0,0.0,2.0,1.0],[69.0,0.0,3.0,140.0,0.0,1.0,151.0,0.0,1.8,2.0,2.0,2.0,1.0],[59.0,1.0,0.0,135.0,0.0,1.0,161.0,0.0,0.5,1.0,0.0,3.0,1.0],[44.0,1.0,2.0,130.0,0.0,1.0,179.0,1.0,0.4,2.0,0.0,2.0,1.0],[42.0,1.0,0.0,140.0,0.0,1.0,178.0,0.0,0.0,2.0,0.0,2.0,1.0],[61.0,1.0,2.0,150.0,1.0,1.0,137.0,1.0,1.0,1.0,0.0,2.0,1.0],[40.0,1.0,3.0,140.0,0.0,1.0,178.0,1.0,1.4,2.0,0.0,3.0,1.0],[71.0,0.0,1.0,160.0,0.0,1.0,162.0,0.0,0.4,2.0,2.0,2.0,1.0],[59.0,1.0,2.0,150.0,1.0,1.0,157.0,0.0,1.6,2.0,0.0,2.0,1.0],[51.0,1.0,2.0,110.0,0.0,1.0,123.0,0.0,0.6,2.0,0.0,2.0,1.0],[65.0,0.0,2.0,140.0,1.0,0.0,157.0,0.0,0.8,2.0,1.0,2.0,1.0],[53.0,1.0,2.0,130.0,1.0,0.0,152.0,0.0,1.2,0.0,0.0,2.0,1.0],[41.0,0.0,1.0,105.0,0.0,1.0,168.0,0.0,0.0,2.0,1.0,2.0,1.0],[65.0,1.0,0.0,120.0,0.0,1.0,140.0,0.0,0.4,2.0,0.0,3.0,1.0],[44.0,1.0,1.0,130.0,0.0,0.0,188.0,0.0,0.0,2.0,0.0,2.0,1.0],[54.0,1.0,2.0,125.0,0.0,0.0,152.0,0.0,0.5,0.0,1.0,2.0,1.0],[51.0,1.0,3.0,125.0,0.0,0.0,125.0,1.0,1.4,2.0,1.0,2.0,1.0],[46.0,0.0,2.0,142.0,0.0,0.0,160.0,1.0,1.4,0.0,0.0,2.0,1.0],[54.0,0.0,2.0,135.0,1.0,1.0,170.0,0.0,0.0,2.0,0.0,2.0,1.0],[54.0,1.0,2.0,150.0,0.0,0.0,165.0,0.0,1.6,2.0,0.0,3.0,1.0],[65.0,0.0,2.0,155.0,0.0,1.0,148.0,0.0,0.8,2.0,0.0,2.0,1.0],[65.0,0.0,2.0,160.0,0.0,0.0,151.0,0.0,0.8,2.0,0.0,2.0,1.0],[51.0,0.0,2.0,140.0,0.0,0.0,142.0,0.0,1.5,2.0,1.0,2.0,1.0],[48.0,1.0,1.0,130.0,0.0,0.0,180.0,0.0,0.2,1.0,0.0,2.0,1.0],[45.0,1.0,0.0,104.0,0.0,0.0,148.0,1.0,3.0,1.0,0.0,2.0,1.0],[53.0,0.0,0.0,130.0,0.0,0.0,143.0,0.0,0.4,1.0,0.0,2.0,1.0],[39.0,1.0,2.0,140.0,0.0,0.0,182.0,0.0,0.0,2.0,0.0,2.0,1.0],[52.0,1.0,1.0,120.0,0.0,1.0,172.0,0.0,0.2,2.0,0.0,2.0,1.0],[44.0,1.0,2.0,140.0,0.0,0.0,180.0,0.0,0.0,2.0,0.0,2.0,1.0],[47.0,1.0,2.0,138.0,0.0,0.0,156.0,0.0,0.0,2.0,0.0,2.0,1.0],[53.0,0.0,2.0,128.0,0.0,0.0,115.0,0.0,0.0,2.0,0.0,0.0,1.0],[53.0,0.0,0.0,138.0,0.0,0.0,160.0,0.0,0.0,2.0,0.0,2.0,1.0],[51.0,0.0,2.0,130.0,0.0,0.0,149.0,0.0,0.5,2.0,0.0,2.0,1.0],[66.0,1.0,0.0,120.0,0.0,0.0,151.0,0.0,0.4,1.0,0.0,2.0,1.0],[62.0,1.0,2.0,130.0,0.0,1.0,146.0,0.0,1.8,1.0,3.0,3.0,1.0],[44.0,0.0,2.0,108.0,0.0,1.0,175.0,0.0,0.6,1.0,0.0,2.0,1.0],[63.0,0.0,2.0,135.0,0.0,0.0,172.0,0.0,0.0,2.0,0.0,2.0,1.0],[52.0,1.0,1.0,134.0,0.0,1.0,158.0,0.0,0.8,2.0,1.0,2.0,1.0],[48.0,1.0,0.0,122.0,0.0,0.0,186.0,0.0,0.0,2.0,0.0,2.0,1.0],[45.0,1.0,0.0,115.0,0.0,0.0,185.0,0.0,0.0,2.0,0.0,2.0,1.0],[34.0,1.0,3.0,118.0,0.0,0.0,174.0,0.0,0.0,2.0,0.0,2.0,1.0],[57.0,0.0,0.0,128.0,0.0,0.0,159.0,0.0,0.0,2.0,1.0,2.0,1.0],[71.0,0.0,2.0,110.0,1.0,0.0,130.0,0.0,0.0,2.0,1.0,2.0,1.0],[54.0,1.0,1.0,108.0,0.0,1.0,156.0,0.0,0.0,2.0,0.0,3.0,1.0],[52.0,1.0,3.0,118.0,0.0,0.0,190.0,0.0,0.0,1.0,0.0,1.0,1.0],[41.0,1.0,1.0,135.0,0.0,1.0,132.0,0.0,0.0,1.0,0.0,1.0,1.0],[58.0,1.0,2.0,140.0,1.0,0.0,165.0,0.0,0.0,2.0,0.0,2.0,1.0],[35.0,0.0,0.0,138.0,0.0,1.0,182.0,0.0,1.4,2.0,0.0,2.0,1.0],[51.0,1.0,2.0,100.0,0.0,1.0,143.0,1.0,1.2,1.0,0.0,2.0,1.0],[45.0,0.0,1.0,130.0,0.0,0.0,175.0,0.0,0.6,1.0,0.0,2.0,1.0],[44.0,1.0,1.0,120.0,0.0,1.0,170.0,0.0,0.0,2.0,0.0,2.0,1.0],[62.0,0.0,0.0,124.0,0.0,1.0,163.0,0.0,0.0,2.0,0.0,2.0,1.0],[54.0,1.0,2.0,120.0,0.0,0.0,147.0,0.0,0.4,1.0,0.0,3.0,1.0],[51.0,1.0,2.0,94.0,0.0,1.0,154.0,1.0,0.0,2.0,1.0,3.0,1.0],[29.0,1.0,1.0,130.0,0.0,0.0,202.0,0.0,0.0,2.0,0.0,2.0,1.0],[51.0,1.0,0.0,140.0,0.0,0.0,186.0,1.0,0.0,2.0,0.0,2.0,1.0],[43.0,0.0,2.0,122.0,0.0,1.0,165.0,0.0,0.2,1.0,0.0,2.0,1.0],[55.0,0.0,1.0,135.0,0.0,0.0,161.0,0.0,1.4,1.0,0.0,2.0,1.0],[51.0,1.0,2.0,125.0,1.0,0.0,166.0,0.0,2.4,1.0,0.0,2.0,1.0],[59.0,1.0,1.0,140.0,0.0,1.0,164.0,1.0,0.0,2.0,0.0,2.0,1.0],[52.0,1.0,1.0,128.0,1.0,1.0,184.0,0.0,0.0,2.0,0.0,2.0,1.0],[58.0,1.0,2.0,105.0,0.0,0.0,154.0,1.0,0.6,1.0,0.0,3.0,1.0],[41.0,1.0,2.0,112.0,0.0,1.0,179.0,0.0,0.0,2.0,0.0,2.0,1.0],[45.0,1.0,1.0,128.0,0.0,0.0,170.0,0.0,0.0,2.0,0.0,2.0,1.0],[60.0,0.0,2.0,102.0,0.0,1.0,160.0,0.0,0.0,2.0,1.0,2.0,1.0],[52.0,1.0,3.0,152.0,1.0,1.0,178.0,0.0,1.2,1.0,0.0,3.0,1.0],[42.0,0.0,0.0,102.0,0.0,0.0,122.0,0.0,0.6,1.0,0.0,2.0,1.0],[67.0,0.0,2.0,115.0,0.0,0.0,160.0,0.0,1.6,1.0,0.0,3.0,1.0],[68.0,1.0,2.0,118.0,0.0,1.0,151.0,0.0,1.0,2.0,1.0,3.0,1.0],[46.0,1.0,1.0,101.0,1.0,1.0,156.0,0.0,0.0,2.0,0.0,3.0,1.0],[54.0,0.0,2.0,110.0,0.0,1.0,158.0,0.0,1.6,1.0,0.0,2.0,1.0],[58.0,0.0,0.0,100.0,0.0,0.0,122.0,0.0,1.0,1.0,0.0,2.0,1.0],[48.0,1.0,2.0,124.0,1.0,1.0,175.0,0.0,0.0,2.0,2.0,2.0,1.0],[57.0,1.0,0.0,132.0,0.0,1.0,168.0,1.0,0.0,2.0,0.0,3.0,1.0],[52.0,1.0,2.0,138.0,0.0,1.0,169.0,0.0,0.0,2.0,4.0,2.0,1.0],[54.0,0.0,1.0,132.0,1.0,0.0,159.0,1.0,0.0,2.0,1.0,2.0,1.0],[45.0,0.0,1.0,112.0,0.0,1.0,138.0,0.0,0.0,1.0,0.0,2.0,1.0],[53.0,1.0,0.0,142.0,0.0,0.0,111.0,1.0,0.0,2.0,0.0,3.0,1.0],[62.0,0.0,0.0,140.0,0.0,0.0,157.0,0.0,1.2,1.0,0.0,2.0,1.0],[52.0,1.0,0.0,108.0,1.0,1.0,147.0,0.0,0.1,2.0,3.0,3.0,1.0],[43.0,1.0,2.0,130.0,0.0,1.0,162.0,0.0,1.9,2.0,1.0,2.0,1.0],[53.0,1.0,2.0,130.0,1.0,0.0,173.0,0.0,0.0,2.0,3.0,2.0,1.0],[42.0,1.0,3.0,148.0,0.0,0.0,178.0,0.0,0.8,2.0,2.0,2.0,1.0],[59.0,1.0,3.0,178.0,0.0,0.0,145.0,0.0,4.2,0.0,0.0,3.0,1.0],[63.0,0.0,1.0,140.0,0.0,1.0,179.0,0.0,0.0,2.0,2.0,2.0,1.0],[42.0,1.0,2.0,120.0,1.0,1.0,194.0,0.0,0.8,0.0,0.0,3.0,1.0],[50.0,1.0,2.0,129.0,0.0,1.0,163.0,0.0,0.0,2.0,0.0,2.0,1.0],[68.0,0.0,2.0,120.0,0.0,0.0,115.0,0.0,1.5,1.0,0.0,2.0,1.0],[69.0,1.0,3.0,160.0,1.0,0.0,131.0,0.0,0.1,1.0,1.0,2.0,1.0],[45.0,0.0,0.0,138.0,0.0,0.0,152.0,1.0,0.2,1.0,0.0,2.0,1.0],[50.0,0.0,1.0,120.0,0.0,1.0,162.0,0.0,1.1,2.0,0.0,2.0,1.0],[50.0,0.0,0.0,110.0,0.0,0.0,159.0,0.0,0.0,2.0,0.0,2.0,1.0],[64.0,0.0,0.0,180.0,0.0,1.0,154.0,1.0,0.0,2.0,0.0,2.0,1.0],[57.0,1.0,2.0,150.0,1.0,1.0,173.0,0.0,0.2,2.0,1.0,3.0,1.0],[64.0,0.0,2.0,140.0,0.0,1.0,133.0,0.0,0.2,2.0,0.0,3.0,1.0],[43.0,1.0,0.0,110.0,0.0,1.0,161.0,0.0,0.0,2.0,0.0,3.0,1.0],[55.0,1.0,1.0,130.0,0.0,1.0,155.0,0.0,0.0,2.0,0.0,2.0,1.0],[37.0,0.0,2.0,120.0,0.0,1.0,170.0,0.0,0.0,2.0,0.0,2.0,1.0],[41.0,1.0,2.0,130.0,0.0,0.0,168.0,0.0,2.0,1.0,0.0,2.0,1.0],[56.0,1.0,3.0,120.0,0.0,0.0,162.0,0.0,1.9,1.0,0.0,3.0,1.0],[46.0,0.0,1.0,105.0,0.0,1.0,172.0,0.0,0.0,2.0,0.0,2.0,1.0],[46.0,0.0,0.0,138.0,0.0,0.0,152.0,1.0,0.0,1.0,0.0,2.0,1.0],[64.0,0.0,0.0,130.0,0.0,1.0,122.0,0.0,2.0,1.0,2.0,2.0,1.0],[59.0,1.0,0.0,138.0,0.0,0.0,182.0,0.0,0.0,2.0,0.0,2.0,1.0],[41.0,0.0,2.0,112.0,0.0,0.0,172.0,1.0,0.0,2.0,0.0,2.0,1.0],[54.0,0.0,2.0,108.0,0.0,0.0,167.0,0.0,0.0,2.0,0.0,2.0,1.0],[39.0,0.0,2.0,94.0,0.0,1.0,179.0,0.0,0.0,2.0,0.0,2.0,1.0],[34.0,0.0,1.0,118.0,0.0,1.0,192.0,0.0,0.7,2.0,0.0,2.0,1.0],[47.0,1.0,0.0,112.0,0.0,1.0,143.0,0.0,0.1,2.0,0.0,2.0,1.0],[67.0,0.0,2.0,152.0,0.0,1.0,172.0,0.0,0.0,2.0,1.0,2.0,1.0],[52.0,0.0,2.0,136.0,0.0,0.0,169.0,0.0,0.1,1.0,0.0,2.0,1.0],[74.0,0.0,1.0,120.0,0.0,0.0,121.0,1.0,0.2,2.0,1.0,2.0,1.0],[54.0,0.0,2.0,160.0,0.0,1.0,163.0,0.0,0.0,2.0,1.0,2.0,1.0],[49.0,0.0,1.0,134.0,0.0,1.0,162.0,0.0,0.0,1.0,0.0,2.0,1.0],[42.0,1.0,1.0,120.0,0.0,1.0,162.0,0.0,0.0,2.0,0.0,2.0,1.0],[41.0,1.0,1.0,110.0,0.0,1.0,153.0,0.0,0.0,2.0,0.0,2.0,1.0],[41.0,0.0,1.0,126.0,0.0,1.0,163.0,0.0,0.0,2.0,0.0,2.0,1.0],[49.0,0.0,0.0,130.0,0.0,1.0,163.0,0.0,0.0,2.0,0.0,2.0,1.0],[60.0,0.0,2.0,120.0,1.0,1.0,96.0,0.0,0.0,2.0,0.0,2.0,1.0],[62.0,1.0,1.0,128.0,1.0,0.0,140.0,0.0,0.0,2.0,0.0,2.0,1.0],[57.0,1.0,0.0,110.0,0.0,1.0,126.0,1.0,1.5,1.0,0.0,1.0,1.0],[64.0,1.0,0.0,128.0,0.0,1.0,105.0,1.0,0.2,1.0,1.0,3.0,1.0],[51.0,0.0,2.0,120.0,0.0,0.0,157.0,0.0,0.6,2.0,0.0,2.0,1.0],[43.0,1.0,0.0,115.0,0.0,1.0,181.0,0.0,1.2,1.0,0.0,2.0,1.0],[42.0,0.0,2.0,120.0,0.0,1.0,173.0,0.0,0.0,1.0,0.0,2.0,1.0],[67.0,0.0,0.0,106.0,0.0,1.0,142.0,0.0,0.3,2.0,2.0,2.0,1.0],[76.0,0.0,2.0,140.0,0.0,2.0,116.0,0.0,1.1,1.0,0.0,2.0,1.0],[70.0,1.0,1.0,156.0,0.0,0.0,143.0,0.0,0.0,2.0,0.0,2.0,1.0],[44.0,0.0,2.0,118.0,0.0,1.0,149.0,0.0,0.3,1.0,1.0,2.0,1.0],[60.0,0.0,3.0,150.0,0.0,1.0,171.0,0.0,0.9,2.0,0.0,2.0,1.0],[44.0,1.0,2.0,120.0,0.0,1.0,169.0,0.0,0.0,2.0,0.0,2.0,1.0],[42.0,1.0,2.0,130.0,0.0,1.0,150.0,0.0,0.0,2.0,0.0,2.0,1.0],[66.0,1.0,0.0,160.0,0.0,0.0,138.0,0.0,2.3,2.0,0.0,1.0,1.0],[71.0,0.0,0.0,112.0,0.0,1.0,125.0,0.0,1.6,1.0,0.0,2.0,1.0],[64.0,1.0,3.0,170.0,0.0,0.0,155.0,0.0,0.6,1.0,0.0,3.0,1.0],[66.0,0.0,2.0,146.0,0.0,0.0,152.0,0.0,0.0,1.0,1.0,2.0,1.0],[39.0,0.0,2.0,138.0,0.0,1.0,152.0,0.0,0.0,1.0,0.0,2.0,1.0],[58.0,0.0,0.0,130.0,0.0,1.0,131.0,0.0,0.6,1.0,0.0,2.0,1.0],[47.0,1.0,2.0,130.0,0.0,1.0,179.0,0.0,0.0,2.0,0.0,2.0,1.0],[35.0,1.0,1.0,122.0,0.0,1.0,174.0,0.0,0.0,2.0,0.0,2.0,1.0],[58.0,1.0,1.0,125.0,0.0,1.0,144.0,0.0,0.4,1.0,4.0,3.0,1.0],[56.0,1.0,1.0,130.0,0.0,0.0,163.0,0.0,0.0,2.0,0.0,3.0,1.0],[56.0,1.0,1.0,120.0,0.0,1.0,169.0,0.0,0.0,0.0,0.0,2.0,1.0],[55.0,0.0,1.0,132.0,0.0,1.0,166.0,0.0,1.2,2.0,0.0,2.0,1.0],[41.0,1.0,1.0,120.0,0.0,1.0,182.0,0.0,0.0,2.0,0.0,2.0,1.0],[38.0,1.0,2.0,138.0,0.0,1.0,173.0,0.0,0.0,2.0,4.0,2.0,1.0],[38.0,1.0,2.0,138.0,0.0,1.0,173.0,0.0,0.0,2.0,4.0,2.0,1.0]],\"fillcolor\":\"rgba(255,255,255,0)\",\"hoveron\":\"points\",\"hovertemplate\":\"target=%{customdata[12]}<br>Cholestoral=%{x}<br>age=%{customdata[0]}<br>sex=%{customdata[1]}<br>cp=%{customdata[2]}<br>trestbps=%{customdata[3]}<br>fbs=%{customdata[4]}<br>restecg=%{customdata[5]}<br>thalach=%{customdata[6]}<br>exang=%{customdata[7]}<br>oldpeak=%{customdata[8]}<br>slope=%{customdata[9]}<br>ca=%{customdata[10]}<br>thal=%{customdata[11]}<extra></extra>\",\"jitter\":0,\"legendgroup\":\"1\",\"line\":{\"color\":\"rgba(255,255,255,0)\"},\"marker\":{\"color\":\"#00cc96\",\"symbol\":\"line-ns-open\"},\"name\":\"1\",\"offsetgroup\":\"1\",\"showlegend\":false,\"x\":[233,250,204,236,354,192,294,263,199,168,239,275,266,211,283,219,340,226,247,239,234,233,226,243,199,302,212,175,417,197,198,177,219,273,213,177,304,232,269,360,308,245,208,264,321,325,235,257,216,234,256,302,231,141,252,201,222,260,182,303,265,309,186,203,211,183,222,234,220,209,258,227,204,261,213,250,245,221,205,240,250,308,318,298,265,564,277,197,214,248,255,207,223,288,160,226,394,233,315,246,244,270,195,240,196,211,234,236,244,254,325,126,313,211,262,215,214,193,204,243,303,271,268,267,199,210,204,277,196,269,201,271,295,235,306,269,178,208,201,263,295,303,209,223,197,245,242,240,226,180,228,149,227,278,220,197,253,192,220,221,240,342,157,175,175],\"xaxis\":\"x2\",\"yaxis\":\"y2\",\"type\":\"box\"},{\"alignmentgroup\":\"True\",\"bingroup\":\"x\",\"hovertemplate\":\"target=0<br>Cholestoral=%{x}<br>count=%{y}<extra></extra>\",\"legendgroup\":\"0\",\"marker\":{\"color\":\"#ab63fa\",\"pattern\":{\"shape\":\"\"}},\"name\":\"0\",\"offsetgroup\":\"0\",\"orientation\":\"v\",\"showlegend\":true,\"x\":[286,229,268,254,203,256,229,284,224,206,167,230,335,177,276,353,225,330,230,243,290,253,266,233,172,305,216,188,282,185,326,231,254,267,248,197,258,270,274,164,255,239,258,188,177,229,260,219,307,249,341,263,330,254,256,407,217,282,288,239,174,281,198,288,309,243,289,289,246,322,299,300,293,304,282,269,249,212,274,184,274,409,246,283,254,298,247,294,299,273,309,259,200,244,231,228,230,282,269,206,212,327,149,286,283,249,234,237,234,275,212,218,261,319,166,315,204,218,223,207,311,204,232,335,205,203,318,225,212,169,187,197,176,241,264,193,131,236],\"xaxis\":\"x\",\"yaxis\":\"y\",\"type\":\"histogram\"},{\"alignmentgroup\":\"True\",\"boxpoints\":\"all\",\"customdata\":[[67.0,1.0,0.0,160.0,0.0,0.0,108.0,1.0,1.5,1.0,3.0,2.0,0.0],[67.0,1.0,0.0,120.0,0.0,0.0,129.0,1.0,2.6,1.0,2.0,3.0,0.0],[62.0,0.0,0.0,140.0,0.0,0.0,160.0,0.0,3.6,0.0,2.0,2.0,0.0],[63.0,1.0,0.0,130.0,0.0,0.0,147.0,0.0,1.4,1.0,1.0,3.0,0.0],[53.0,1.0,0.0,140.0,1.0,0.0,155.0,1.0,3.1,0.0,0.0,3.0,0.0],[56.0,1.0,2.0,130.0,1.0,0.0,142.0,1.0,0.6,1.0,1.0,1.0,0.0],[48.0,1.0,1.0,110.0,0.0,1.0,168.0,0.0,1.0,0.0,0.0,3.0,0.0],[58.0,1.0,1.0,120.0,0.0,0.0,160.0,0.0,1.8,1.0,0.0,2.0,0.0],[58.0,1.0,2.0,132.0,0.0,0.0,173.0,0.0,3.2,2.0,2.0,3.0,0.0],[60.0,1.0,0.0,130.0,0.0,0.0,132.0,1.0,2.4,1.0,2.0,3.0,0.0],[40.0,1.0,0.0,110.0,0.0,0.0,114.0,1.0,2.0,1.0,0.0,3.0,0.0],[60.0,1.0,0.0,117.0,1.0,1.0,160.0,1.0,1.4,2.0,2.0,3.0,0.0],[64.0,1.0,2.0,140.0,0.0,1.0,158.0,0.0,0.0,2.0,0.0,2.0,0.0],[43.0,1.0,0.0,120.0,0.0,0.0,120.0,1.0,2.5,1.0,0.0,3.0,0.0],[57.0,1.0,0.0,150.0,0.0,0.0,112.0,1.0,0.6,1.0,1.0,1.0,0.0],[55.0,1.0,0.0,132.0,0.0,1.0,132.0,1.0,1.2,1.0,1.0,3.0,0.0],[65.0,0.0,0.0,150.0,0.0,0.0,114.0,0.0,1.0,1.0,3.0,3.0,0.0],[61.0,0.0,0.0,130.0,0.0,0.0,169.0,0.0,0.0,2.0,0.0,2.0,0.0],[58.0,1.0,2.0,112.0,0.0,0.0,165.0,0.0,2.5,1.0,1.0,3.0,0.0],[50.0,1.0,0.0,150.0,0.0,0.0,128.0,0.0,2.6,1.0,0.0,3.0,0.0],[44.0,1.0,0.0,112.0,0.0,0.0,153.0,0.0,0.0,2.0,1.0,2.0,0.0],[60.0,1.0,0.0,130.0,0.0,1.0,144.0,1.0,1.4,2.0,1.0,3.0,0.0],[54.0,1.0,0.0,124.0,0.0,0.0,109.0,1.0,2.2,1.0,1.0,3.0,0.0],[50.0,1.0,2.0,140.0,0.0,1.0,163.0,0.0,0.6,1.0,1.0,3.0,0.0],[41.0,1.0,0.0,110.0,0.0,0.0,158.0,0.0,0.0,2.0,0.0,3.0,0.0],[51.0,0.0,0.0,130.0,0.0,1.0,142.0,1.0,1.2,1.0,0.0,3.0,0.0],[58.0,1.0,0.0,128.0,0.0,0.0,131.0,1.0,2.2,1.0,3.0,3.0,0.0],[54.0,1.0,0.0,120.0,0.0,1.0,113.0,0.0,1.4,1.0,1.0,3.0,0.0],[60.0,1.0,0.0,145.0,0.0,0.0,142.0,1.0,2.8,1.0,2.0,3.0,0.0],[60.0,1.0,2.0,140.0,0.0,0.0,155.0,0.0,3.0,1.0,0.0,2.0,0.0],[59.0,1.0,0.0,170.0,0.0,0.0,140.0,1.0,3.4,0.0,0.0,3.0,0.0],[46.0,1.0,2.0,150.0,0.0,1.0,147.0,0.0,3.6,1.0,0.0,2.0,0.0],[67.0,1.0,0.0,125.0,1.0,1.0,163.0,0.0,0.2,1.0,2.0,3.0,0.0],[62.0,1.0,0.0,120.0,0.0,1.0,99.0,1.0,1.8,1.0,2.0,3.0,0.0],[65.0,1.0,0.0,110.0,0.0,0.0,158.0,0.0,0.6,2.0,2.0,1.0,0.0],[44.0,1.0,0.0,110.0,0.0,0.0,177.0,0.0,0.0,2.0,1.0,2.0,0.0],[60.0,1.0,0.0,125.0,0.0,0.0,141.0,1.0,2.8,1.0,1.0,3.0,0.0],[58.0,1.0,0.0,150.0,0.0,0.0,111.0,1.0,0.8,2.0,0.0,3.0,0.0],[68.0,1.0,2.0,180.0,1.0,0.0,150.0,1.0,1.6,1.0,0.0,3.0,0.0],[62.0,0.0,0.0,160.0,0.0,0.0,145.0,0.0,6.2,0.0,3.0,3.0,0.0],[52.0,1.0,0.0,128.0,0.0,1.0,161.0,1.0,0.0,2.0,1.0,3.0,0.0],[59.0,1.0,0.0,110.0,0.0,0.0,142.0,1.0,1.2,1.0,1.0,3.0,0.0],[60.0,0.0,0.0,150.0,0.0,0.0,157.0,0.0,2.6,1.0,2.0,3.0,0.0],[49.0,1.0,2.0,120.0,0.0,1.0,139.0,0.0,2.0,1.0,3.0,3.0,0.0],[59.0,1.0,0.0,140.0,0.0,1.0,162.0,1.0,0.0,2.0,1.0,3.0,0.0],[57.0,1.0,2.0,128.0,0.0,0.0,150.0,0.0,0.4,1.0,1.0,3.0,0.0],[61.0,1.0,0.0,120.0,0.0,1.0,140.0,1.0,3.6,1.0,1.0,3.0,0.0],[39.0,1.0,0.0,118.0,0.0,1.0,140.0,0.0,1.2,1.0,0.0,3.0,0.0],[61.0,0.0,0.0,145.0,0.0,0.0,146.0,1.0,1.0,1.0,0.0,3.0,0.0],[56.0,1.0,0.0,125.0,1.0,0.0,144.0,1.0,1.2,1.0,1.0,2.0,0.0],[43.0,0.0,0.0,132.0,1.0,0.0,136.0,1.0,3.0,1.0,0.0,3.0,0.0],[62.0,0.0,2.0,130.0,0.0,1.0,97.0,0.0,1.2,1.0,1.0,3.0,0.0],[63.0,1.0,0.0,130.0,1.0,0.0,132.0,1.0,1.8,2.0,3.0,3.0,0.0],[65.0,1.0,0.0,135.0,0.0,0.0,127.0,0.0,2.8,1.0,1.0,3.0,0.0],[48.0,1.0,0.0,130.0,1.0,0.0,150.0,1.0,0.0,2.0,2.0,3.0,0.0],[63.0,0.0,0.0,150.0,0.0,0.0,154.0,0.0,4.0,1.0,3.0,3.0,0.0],[55.0,1.0,0.0,140.0,0.0,1.0,111.0,1.0,5.6,0.0,0.0,3.0,0.0],[65.0,1.0,3.0,138.0,1.0,0.0,174.0,0.0,1.4,1.0,1.0,2.0,0.0],[56.0,0.0,0.0,200.0,1.0,0.0,133.0,1.0,4.0,0.0,2.0,3.0,0.0],[54.0,1.0,0.0,110.0,0.0,1.0,126.0,1.0,2.8,1.0,1.0,3.0,0.0],[70.0,1.0,0.0,145.0,0.0,1.0,125.0,1.0,2.6,0.0,0.0,3.0,0.0],[62.0,1.0,1.0,120.0,0.0,0.0,103.0,0.0,1.4,1.0,1.0,3.0,0.0],[35.0,1.0,0.0,120.0,0.0,1.0,130.0,1.0,1.6,1.0,0.0,3.0,0.0],[59.0,1.0,3.0,170.0,0.0,0.0,159.0,0.0,0.2,1.0,0.0,3.0,0.0],[64.0,1.0,2.0,125.0,0.0,1.0,131.0,1.0,1.8,1.0,0.0,3.0,0.0],[47.0,1.0,2.0,108.0,0.0,1.0,152.0,0.0,0.0,2.0,0.0,2.0,0.0],[57.0,1.0,0.0,165.0,1.0,0.0,124.0,0.0,1.0,1.0,3.0,3.0,0.0],[55.0,1.0,0.0,160.0,0.0,0.0,145.0,1.0,0.8,1.0,1.0,3.0,0.0],[64.0,1.0,0.0,120.0,0.0,0.0,96.0,1.0,2.2,0.0,1.0,2.0,0.0],[70.0,1.0,0.0,130.0,0.0,0.0,109.0,0.0,2.4,1.0,3.0,2.0,0.0],[51.0,1.0,0.0,140.0,0.0,1.0,173.0,1.0,1.6,2.0,0.0,3.0,0.0],[58.0,1.0,0.0,125.0,0.0,0.0,171.0,0.0,0.0,2.0,2.0,3.0,0.0],[60.0,1.0,0.0,140.0,0.0,0.0,170.0,0.0,1.2,1.0,2.0,3.0,0.0],[77.0,1.0,0.0,125.0,0.0,0.0,162.0,1.0,0.0,2.0,3.0,2.0,0.0],[35.0,1.0,0.0,126.0,0.0,0.0,156.0,1.0,0.0,2.0,0.0,3.0,0.0],[70.0,1.0,2.0,160.0,0.0,1.0,112.0,1.0,2.9,1.0,1.0,3.0,0.0],[59.0,0.0,0.0,174.0,0.0,1.0,143.0,1.0,0.0,1.0,0.0,2.0,0.0],[64.0,1.0,0.0,145.0,0.0,0.0,132.0,0.0,2.0,1.0,2.0,1.0,0.0],[57.0,1.0,0.0,152.0,0.0,1.0,88.0,1.0,1.2,1.0,1.0,3.0,0.0],[56.0,1.0,0.0,132.0,0.0,0.0,105.0,1.0,2.1,1.0,1.0,1.0,0.0],[48.0,1.0,0.0,124.0,0.0,0.0,166.0,0.0,0.5,1.0,0.0,3.0,0.0],[56.0,0.0,0.0,134.0,0.0,0.0,150.0,1.0,1.9,1.0,2.0,3.0,0.0],[66.0,1.0,1.0,160.0,0.0,1.0,120.0,1.0,0.0,1.0,3.0,1.0,0.0],[54.0,1.0,1.0,192.0,0.0,0.0,195.0,0.0,0.0,2.0,1.0,3.0,0.0],[69.0,1.0,2.0,140.0,0.0,0.0,146.0,0.0,2.0,1.0,3.0,3.0,0.0],[51.0,1.0,0.0,140.0,0.0,1.0,122.0,1.0,4.2,1.0,3.0,3.0,0.0],[43.0,1.0,0.0,132.0,1.0,0.0,143.0,1.0,0.1,1.0,4.0,3.0,0.0],[62.0,0.0,0.0,138.0,1.0,1.0,106.0,0.0,1.9,1.0,3.0,2.0,0.0],[67.0,1.0,0.0,100.0,0.0,0.0,125.0,1.0,0.9,1.0,2.0,2.0,0.0],[59.0,1.0,3.0,160.0,0.0,0.0,125.0,0.0,0.0,2.0,0.0,2.0,0.0],[45.0,1.0,0.0,142.0,0.0,0.0,147.0,1.0,0.0,1.0,3.0,3.0,0.0],[58.0,1.0,0.0,128.0,0.0,0.0,130.0,1.0,3.0,1.0,2.0,3.0,0.0],[50.0,1.0,0.0,144.0,0.0,0.0,126.0,1.0,0.9,1.0,0.0,3.0,0.0],[62.0,0.0,0.0,150.0,0.0,1.0,154.0,1.0,1.4,1.0,0.0,2.0,0.0],[38.0,1.0,3.0,120.0,0.0,1.0,182.0,1.0,3.8,1.0,0.0,3.0,0.0],[66.0,0.0,0.0,178.0,1.0,1.0,165.0,1.0,1.0,1.0,2.0,3.0,0.0],[52.0,1.0,0.0,112.0,0.0,1.0,160.0,0.0,0.0,2.0,1.0,2.0,0.0],[53.0,1.0,0.0,123.0,0.0,1.0,95.0,1.0,2.0,1.0,2.0,3.0,0.0],[63.0,0.0,0.0,108.0,0.0,1.0,169.0,1.0,1.8,1.0,2.0,2.0,0.0],[54.0,1.0,0.0,110.0,0.0,0.0,108.0,1.0,0.0,1.0,1.0,2.0,0.0],[66.0,1.0,0.0,112.0,0.0,0.0,132.0,1.0,0.1,2.0,1.0,2.0,0.0],[55.0,0.0,0.0,180.0,0.0,2.0,117.0,1.0,3.4,1.0,0.0,2.0,0.0],[49.0,1.0,2.0,118.0,0.0,0.0,126.0,0.0,0.8,2.0,3.0,2.0,0.0],[54.0,1.0,0.0,122.0,0.0,0.0,116.0,1.0,3.2,1.0,2.0,2.0,0.0],[56.0,1.0,0.0,130.0,1.0,0.0,103.0,1.0,1.6,0.0,0.0,3.0,0.0],[46.0,1.0,0.0,120.0,0.0,0.0,144.0,0.0,0.8,2.0,0.0,3.0,0.0],[61.0,1.0,3.0,134.0,0.0,1.0,145.0,0.0,2.6,1.0,2.0,2.0,0.0],[67.0,1.0,0.0,120.0,0.0,1.0,71.0,0.0,1.0,1.0,0.0,2.0,0.0],[58.0,1.0,0.0,100.0,0.0,1.0,156.0,0.0,0.1,2.0,1.0,3.0,0.0],[47.0,1.0,0.0,110.0,0.0,0.0,118.0,1.0,1.0,1.0,1.0,2.0,0.0],[52.0,1.0,0.0,125.0,0.0,1.0,168.0,0.0,1.0,2.0,2.0,3.0,0.0],[58.0,1.0,0.0,146.0,0.0,1.0,105.0,0.0,2.0,1.0,1.0,3.0,0.0],[57.0,1.0,1.0,124.0,0.0,1.0,141.0,0.0,0.3,2.0,0.0,3.0,0.0],[58.0,0.0,1.0,136.0,1.0,0.0,152.0,0.0,0.0,2.0,2.0,2.0,0.0],[61.0,1.0,0.0,138.0,0.0,0.0,125.0,1.0,3.6,1.0,1.0,2.0,0.0],[42.0,1.0,0.0,136.0,0.0,1.0,125.0,1.0,1.8,1.0,0.0,1.0,0.0],[52.0,1.0,0.0,128.0,1.0,1.0,156.0,1.0,1.0,1.0,0.0,0.0,0.0],[59.0,1.0,2.0,126.0,1.0,1.0,134.0,0.0,2.2,1.0,1.0,1.0,0.0],[40.0,1.0,0.0,152.0,0.0,1.0,181.0,0.0,0.0,2.0,0.0,3.0,0.0],[61.0,1.0,0.0,140.0,0.0,0.0,138.0,1.0,1.9,2.0,1.0,3.0,0.0],[46.0,1.0,0.0,140.0,0.0,1.0,120.0,1.0,1.8,1.0,2.0,3.0,0.0],[59.0,1.0,3.0,134.0,0.0,1.0,162.0,0.0,0.8,2.0,2.0,2.0,0.0],[57.0,1.0,1.0,154.0,0.0,0.0,164.0,0.0,0.0,2.0,1.0,2.0,0.0],[57.0,1.0,0.0,110.0,0.0,1.0,143.0,1.0,3.0,1.0,1.0,3.0,0.0],[55.0,0.0,0.0,128.0,0.0,2.0,130.0,1.0,2.0,1.0,1.0,3.0,0.0],[61.0,1.0,0.0,148.0,0.0,1.0,161.0,0.0,0.0,2.0,1.0,3.0,0.0],[58.0,1.0,0.0,114.0,0.0,2.0,140.0,0.0,4.4,0.0,3.0,1.0,0.0],[58.0,0.0,0.0,170.0,1.0,0.0,146.0,1.0,2.8,1.0,2.0,1.0,0.0],[67.0,1.0,2.0,152.0,0.0,0.0,150.0,0.0,0.8,1.0,0.0,3.0,0.0],[44.0,1.0,0.0,120.0,0.0,1.0,144.0,1.0,2.8,0.0,0.0,1.0,0.0],[63.0,1.0,0.0,140.0,0.0,0.0,144.0,1.0,4.0,2.0,2.0,3.0,0.0],[63.0,0.0,0.0,124.0,0.0,1.0,136.0,1.0,0.0,1.0,0.0,2.0,0.0],[59.0,1.0,0.0,164.0,1.0,0.0,90.0,0.0,1.0,1.0,2.0,1.0,0.0],[57.0,0.0,0.0,140.0,0.0,1.0,123.0,1.0,0.2,1.0,0.0,3.0,0.0],[45.0,1.0,3.0,110.0,0.0,1.0,132.0,0.0,1.2,1.0,0.0,3.0,0.0],[68.0,1.0,0.0,144.0,1.0,1.0,141.0,0.0,3.4,1.0,2.0,3.0,0.0],[57.0,1.0,0.0,130.0,0.0,1.0,115.0,1.0,1.2,1.0,1.0,3.0,0.0],[57.0,0.0,1.0,130.0,0.0,0.0,174.0,0.0,0.0,1.0,1.0,2.0,0.0]],\"fillcolor\":\"rgba(255,255,255,0)\",\"hoveron\":\"points\",\"hovertemplate\":\"target=%{customdata[12]}<br>Cholestoral=%{x}<br>age=%{customdata[0]}<br>sex=%{customdata[1]}<br>cp=%{customdata[2]}<br>trestbps=%{customdata[3]}<br>fbs=%{customdata[4]}<br>restecg=%{customdata[5]}<br>thalach=%{customdata[6]}<br>exang=%{customdata[7]}<br>oldpeak=%{customdata[8]}<br>slope=%{customdata[9]}<br>ca=%{customdata[10]}<br>thal=%{customdata[11]}<extra></extra>\",\"jitter\":0,\"legendgroup\":\"0\",\"line\":{\"color\":\"rgba(255,255,255,0)\"},\"marker\":{\"color\":\"#ab63fa\",\"symbol\":\"line-ns-open\"},\"name\":\"0\",\"offsetgroup\":\"0\",\"showlegend\":false,\"x\":[286,229,268,254,203,256,229,284,224,206,167,230,335,177,276,353,225,330,230,243,290,253,266,233,172,305,216,188,282,185,326,231,254,267,248,197,258,270,274,164,255,239,258,188,177,229,260,219,307,249,341,263,330,254,256,407,217,282,288,239,174,281,198,288,309,243,289,289,246,322,299,300,293,304,282,269,249,212,274,184,274,409,246,283,254,298,247,294,299,273,309,259,200,244,231,228,230,282,269,206,212,327,149,286,283,249,234,237,234,275,212,218,261,319,166,315,204,218,223,207,311,204,232,335,205,203,318,225,212,169,187,197,176,241,264,193,131,236],\"xaxis\":\"x2\",\"yaxis\":\"y2\",\"type\":\"box\"}],                        {\"template\":{\"data\":{\"barpolar\":[{\"marker\":{\"line\":{\"color\":\"rgb(17,17,17)\",\"width\":0.5},\"pattern\":{\"fillmode\":\"overlay\",\"size\":10,\"solidity\":0.2}},\"type\":\"barpolar\"}],\"bar\":[{\"error_x\":{\"color\":\"#f2f5fa\"},\"error_y\":{\"color\":\"#f2f5fa\"},\"marker\":{\"line\":{\"color\":\"rgb(17,17,17)\",\"width\":0.5},\"pattern\":{\"fillmode\":\"overlay\",\"size\":10,\"solidity\":0.2}},\"type\":\"bar\"}],\"carpet\":[{\"aaxis\":{\"endlinecolor\":\"#A2B1C6\",\"gridcolor\":\"#506784\",\"linecolor\":\"#506784\",\"minorgridcolor\":\"#506784\",\"startlinecolor\":\"#A2B1C6\"},\"baxis\":{\"endlinecolor\":\"#A2B1C6\",\"gridcolor\":\"#506784\",\"linecolor\":\"#506784\",\"minorgridcolor\":\"#506784\",\"startlinecolor\":\"#A2B1C6\"},\"type\":\"carpet\"}],\"choropleth\":[{\"colorbar\":{\"outlinewidth\":0,\"ticks\":\"\"},\"type\":\"choropleth\"}],\"contourcarpet\":[{\"colorbar\":{\"outlinewidth\":0,\"ticks\":\"\"},\"type\":\"contourcarpet\"}],\"contour\":[{\"colorbar\":{\"outlinewidth\":0,\"ticks\":\"\"},\"colorscale\":[[0.0,\"#0d0887\"],[0.1111111111111111,\"#46039f\"],[0.2222222222222222,\"#7201a8\"],[0.3333333333333333,\"#9c179e\"],[0.4444444444444444,\"#bd3786\"],[0.5555555555555556,\"#d8576b\"],[0.6666666666666666,\"#ed7953\"],[0.7777777777777778,\"#fb9f3a\"],[0.8888888888888888,\"#fdca26\"],[1.0,\"#f0f921\"]],\"type\":\"contour\"}],\"heatmapgl\":[{\"colorbar\":{\"outlinewidth\":0,\"ticks\":\"\"},\"colorscale\":[[0.0,\"#0d0887\"],[0.1111111111111111,\"#46039f\"],[0.2222222222222222,\"#7201a8\"],[0.3333333333333333,\"#9c179e\"],[0.4444444444444444,\"#bd3786\"],[0.5555555555555556,\"#d8576b\"],[0.6666666666666666,\"#ed7953\"],[0.7777777777777778,\"#fb9f3a\"],[0.8888888888888888,\"#fdca26\"],[1.0,\"#f0f921\"]],\"type\":\"heatmapgl\"}],\"heatmap\":[{\"colorbar\":{\"outlinewidth\":0,\"ticks\":\"\"},\"colorscale\":[[0.0,\"#0d0887\"],[0.1111111111111111,\"#46039f\"],[0.2222222222222222,\"#7201a8\"],[0.3333333333333333,\"#9c179e\"],[0.4444444444444444,\"#bd3786\"],[0.5555555555555556,\"#d8576b\"],[0.6666666666666666,\"#ed7953\"],[0.7777777777777778,\"#fb9f3a\"],[0.8888888888888888,\"#fdca26\"],[1.0,\"#f0f921\"]],\"type\":\"heatmap\"}],\"histogram2dcontour\":[{\"colorbar\":{\"outlinewidth\":0,\"ticks\":\"\"},\"colorscale\":[[0.0,\"#0d0887\"],[0.1111111111111111,\"#46039f\"],[0.2222222222222222,\"#7201a8\"],[0.3333333333333333,\"#9c179e\"],[0.4444444444444444,\"#bd3786\"],[0.5555555555555556,\"#d8576b\"],[0.6666666666666666,\"#ed7953\"],[0.7777777777777778,\"#fb9f3a\"],[0.8888888888888888,\"#fdca26\"],[1.0,\"#f0f921\"]],\"type\":\"histogram2dcontour\"}],\"histogram2d\":[{\"colorbar\":{\"outlinewidth\":0,\"ticks\":\"\"},\"colorscale\":[[0.0,\"#0d0887\"],[0.1111111111111111,\"#46039f\"],[0.2222222222222222,\"#7201a8\"],[0.3333333333333333,\"#9c179e\"],[0.4444444444444444,\"#bd3786\"],[0.5555555555555556,\"#d8576b\"],[0.6666666666666666,\"#ed7953\"],[0.7777777777777778,\"#fb9f3a\"],[0.8888888888888888,\"#fdca26\"],[1.0,\"#f0f921\"]],\"type\":\"histogram2d\"}],\"histogram\":[{\"marker\":{\"pattern\":{\"fillmode\":\"overlay\",\"size\":10,\"solidity\":0.2}},\"type\":\"histogram\"}],\"mesh3d\":[{\"colorbar\":{\"outlinewidth\":0,\"ticks\":\"\"},\"type\":\"mesh3d\"}],\"parcoords\":[{\"line\":{\"colorbar\":{\"outlinewidth\":0,\"ticks\":\"\"}},\"type\":\"parcoords\"}],\"pie\":[{\"automargin\":true,\"type\":\"pie\"}],\"scatter3d\":[{\"line\":{\"colorbar\":{\"outlinewidth\":0,\"ticks\":\"\"}},\"marker\":{\"colorbar\":{\"outlinewidth\":0,\"ticks\":\"\"}},\"type\":\"scatter3d\"}],\"scattercarpet\":[{\"marker\":{\"colorbar\":{\"outlinewidth\":0,\"ticks\":\"\"}},\"type\":\"scattercarpet\"}],\"scattergeo\":[{\"marker\":{\"colorbar\":{\"outlinewidth\":0,\"ticks\":\"\"}},\"type\":\"scattergeo\"}],\"scattergl\":[{\"marker\":{\"line\":{\"color\":\"#283442\"}},\"type\":\"scattergl\"}],\"scattermapbox\":[{\"marker\":{\"colorbar\":{\"outlinewidth\":0,\"ticks\":\"\"}},\"type\":\"scattermapbox\"}],\"scatterpolargl\":[{\"marker\":{\"colorbar\":{\"outlinewidth\":0,\"ticks\":\"\"}},\"type\":\"scatterpolargl\"}],\"scatterpolar\":[{\"marker\":{\"colorbar\":{\"outlinewidth\":0,\"ticks\":\"\"}},\"type\":\"scatterpolar\"}],\"scatter\":[{\"marker\":{\"line\":{\"color\":\"#283442\"}},\"type\":\"scatter\"}],\"scatterternary\":[{\"marker\":{\"colorbar\":{\"outlinewidth\":0,\"ticks\":\"\"}},\"type\":\"scatterternary\"}],\"surface\":[{\"colorbar\":{\"outlinewidth\":0,\"ticks\":\"\"},\"colorscale\":[[0.0,\"#0d0887\"],[0.1111111111111111,\"#46039f\"],[0.2222222222222222,\"#7201a8\"],[0.3333333333333333,\"#9c179e\"],[0.4444444444444444,\"#bd3786\"],[0.5555555555555556,\"#d8576b\"],[0.6666666666666666,\"#ed7953\"],[0.7777777777777778,\"#fb9f3a\"],[0.8888888888888888,\"#fdca26\"],[1.0,\"#f0f921\"]],\"type\":\"surface\"}],\"table\":[{\"cells\":{\"fill\":{\"color\":\"#506784\"},\"line\":{\"color\":\"rgb(17,17,17)\"}},\"header\":{\"fill\":{\"color\":\"#2a3f5f\"},\"line\":{\"color\":\"rgb(17,17,17)\"}},\"type\":\"table\"}]},\"layout\":{\"annotationdefaults\":{\"arrowcolor\":\"#f2f5fa\",\"arrowhead\":0,\"arrowwidth\":1},\"autotypenumbers\":\"strict\",\"coloraxis\":{\"colorbar\":{\"outlinewidth\":0,\"ticks\":\"\"}},\"colorscale\":{\"diverging\":[[0,\"#8e0152\"],[0.1,\"#c51b7d\"],[0.2,\"#de77ae\"],[0.3,\"#f1b6da\"],[0.4,\"#fde0ef\"],[0.5,\"#f7f7f7\"],[0.6,\"#e6f5d0\"],[0.7,\"#b8e186\"],[0.8,\"#7fbc41\"],[0.9,\"#4d9221\"],[1,\"#276419\"]],\"sequential\":[[0.0,\"#0d0887\"],[0.1111111111111111,\"#46039f\"],[0.2222222222222222,\"#7201a8\"],[0.3333333333333333,\"#9c179e\"],[0.4444444444444444,\"#bd3786\"],[0.5555555555555556,\"#d8576b\"],[0.6666666666666666,\"#ed7953\"],[0.7777777777777778,\"#fb9f3a\"],[0.8888888888888888,\"#fdca26\"],[1.0,\"#f0f921\"]],\"sequentialminus\":[[0.0,\"#0d0887\"],[0.1111111111111111,\"#46039f\"],[0.2222222222222222,\"#7201a8\"],[0.3333333333333333,\"#9c179e\"],[0.4444444444444444,\"#bd3786\"],[0.5555555555555556,\"#d8576b\"],[0.6666666666666666,\"#ed7953\"],[0.7777777777777778,\"#fb9f3a\"],[0.8888888888888888,\"#fdca26\"],[1.0,\"#f0f921\"]]},\"colorway\":[\"#636efa\",\"#EF553B\",\"#00cc96\",\"#ab63fa\",\"#FFA15A\",\"#19d3f3\",\"#FF6692\",\"#B6E880\",\"#FF97FF\",\"#FECB52\"],\"font\":{\"color\":\"#f2f5fa\"},\"geo\":{\"bgcolor\":\"rgb(17,17,17)\",\"lakecolor\":\"rgb(17,17,17)\",\"landcolor\":\"rgb(17,17,17)\",\"showlakes\":true,\"showland\":true,\"subunitcolor\":\"#506784\"},\"hoverlabel\":{\"align\":\"left\"},\"hovermode\":\"closest\",\"mapbox\":{\"style\":\"dark\"},\"paper_bgcolor\":\"rgb(17,17,17)\",\"plot_bgcolor\":\"rgb(17,17,17)\",\"polar\":{\"angularaxis\":{\"gridcolor\":\"#506784\",\"linecolor\":\"#506784\",\"ticks\":\"\"},\"bgcolor\":\"rgb(17,17,17)\",\"radialaxis\":{\"gridcolor\":\"#506784\",\"linecolor\":\"#506784\",\"ticks\":\"\"}},\"scene\":{\"xaxis\":{\"backgroundcolor\":\"rgb(17,17,17)\",\"gridcolor\":\"#506784\",\"gridwidth\":2,\"linecolor\":\"#506784\",\"showbackground\":true,\"ticks\":\"\",\"zerolinecolor\":\"#C8D4E3\"},\"yaxis\":{\"backgroundcolor\":\"rgb(17,17,17)\",\"gridcolor\":\"#506784\",\"gridwidth\":2,\"linecolor\":\"#506784\",\"showbackground\":true,\"ticks\":\"\",\"zerolinecolor\":\"#C8D4E3\"},\"zaxis\":{\"backgroundcolor\":\"rgb(17,17,17)\",\"gridcolor\":\"#506784\",\"gridwidth\":2,\"linecolor\":\"#506784\",\"showbackground\":true,\"ticks\":\"\",\"zerolinecolor\":\"#C8D4E3\"}},\"shapedefaults\":{\"line\":{\"color\":\"#f2f5fa\"}},\"sliderdefaults\":{\"bgcolor\":\"#C8D4E3\",\"bordercolor\":\"rgb(17,17,17)\",\"borderwidth\":1,\"tickwidth\":0},\"ternary\":{\"aaxis\":{\"gridcolor\":\"#506784\",\"linecolor\":\"#506784\",\"ticks\":\"\"},\"baxis\":{\"gridcolor\":\"#506784\",\"linecolor\":\"#506784\",\"ticks\":\"\"},\"bgcolor\":\"rgb(17,17,17)\",\"caxis\":{\"gridcolor\":\"#506784\",\"linecolor\":\"#506784\",\"ticks\":\"\"}},\"title\":{\"x\":0.05},\"updatemenudefaults\":{\"bgcolor\":\"#506784\",\"borderwidth\":0},\"xaxis\":{\"automargin\":true,\"gridcolor\":\"#283442\",\"linecolor\":\"#506784\",\"ticks\":\"\",\"title\":{\"standoff\":15},\"zerolinecolor\":\"#283442\",\"zerolinewidth\":2},\"yaxis\":{\"automargin\":true,\"gridcolor\":\"#283442\",\"linecolor\":\"#506784\",\"ticks\":\"\",\"title\":{\"standoff\":15},\"zerolinecolor\":\"#283442\",\"zerolinewidth\":2}}},\"xaxis\":{\"anchor\":\"y\",\"domain\":[0.0,1.0],\"title\":{\"text\":\"Cholestoral\"}},\"yaxis\":{\"anchor\":\"x\",\"domain\":[0.0,0.7326],\"title\":{\"text\":\"count\"}},\"xaxis2\":{\"anchor\":\"y2\",\"domain\":[0.0,1.0],\"matches\":\"x\",\"showticklabels\":false,\"showgrid\":true},\"yaxis2\":{\"anchor\":\"x2\",\"domain\":[0.7426,1.0],\"matches\":\"y2\",\"showticklabels\":false,\"showline\":false,\"ticks\":\"\",\"showgrid\":false},\"legend\":{\"title\":{\"text\":\"target\"},\"tracegroupgap\":0},\"title\":{\"text\":\"Histogram for Cholestoral vs Target\"},\"barmode\":\"relative\"},                        {\"responsive\": true}                    ).then(function(){\n",
              "                            \n",
              "var gd = document.getElementById('2b64d6b9-5010-4c53-9546-f430dd8a0eec');\n",
              "var x = new MutationObserver(function (mutations, observer) {{\n",
              "        var display = window.getComputedStyle(gd).display;\n",
              "        if (!display || display === 'none') {{\n",
              "            console.log([gd, 'removed!']);\n",
              "            Plotly.purge(gd);\n",
              "            observer.disconnect();\n",
              "        }}\n",
              "}});\n",
              "\n",
              "// Listen for the removal of the full notebook cells\n",
              "var notebookContainer = gd.closest('#notebook-container');\n",
              "if (notebookContainer) {{\n",
              "    x.observe(notebookContainer, {childList: true});\n",
              "}}\n",
              "\n",
              "// Listen for the clearing of the current output cell\n",
              "var outputEl = gd.closest('.output');\n",
              "if (outputEl) {{\n",
              "    x.observe(outputEl, {childList: true});\n",
              "}}\n",
              "\n",
              "                        })                };                            </script>        </div>\n",
              "</body>\n",
              "</html>"
            ]
          },
          "metadata": {}
        }
      ]
    },
    {
      "cell_type": "code",
      "source": [
        "# Now lets categorize the above histogram by Resting blood pressure vs Target\n",
        "\n",
        "import plotly.express as px\n",
        "fig = px.histogram(df, x=\"trestbps\", color=\"target\", marginal=\"rug\", hover_data=df.columns, \n",
        "                   title =\"Histogram for Resting blood pressure vs Target\", \n",
        "                   labels={\"trestbps\": \"Resting blood pressure\"},\n",
        "                   template=\"plotly_dark\",\n",
        "                   color_discrete_map={\"0\": \"RebeccaPurple\", \"1\": \"MediumPurple\"}\n",
        "                  )\n",
        "fig.show()"
      ],
      "metadata": {
        "colab": {
          "base_uri": "https://localhost:8080/",
          "height": 542
        },
        "id": "xQaHtrKautJP",
        "outputId": "e6514274-4719-4437-c87a-dbea91f2c87e"
      },
      "execution_count": 567,
      "outputs": [
        {
          "output_type": "display_data",
          "data": {
            "text/html": [
              "<html>\n",
              "<head><meta charset=\"utf-8\" /></head>\n",
              "<body>\n",
              "    <div>            <script src=\"https://cdnjs.cloudflare.com/ajax/libs/mathjax/2.7.5/MathJax.js?config=TeX-AMS-MML_SVG\"></script><script type=\"text/javascript\">if (window.MathJax) {MathJax.Hub.Config({SVG: {font: \"STIX-Web\"}});}</script>                <script type=\"text/javascript\">window.PlotlyConfig = {MathJaxConfig: 'local'};</script>\n",
              "        <script src=\"https://cdn.plot.ly/plotly-2.8.3.min.js\"></script>                <div id=\"2aac283b-3357-4b6f-bf61-fbf74e757fd8\" class=\"plotly-graph-div\" style=\"height:525px; width:100%;\"></div>            <script type=\"text/javascript\">                                    window.PLOTLYENV=window.PLOTLYENV || {};                                    if (document.getElementById(\"2aac283b-3357-4b6f-bf61-fbf74e757fd8\")) {                    Plotly.newPlot(                        \"2aac283b-3357-4b6f-bf61-fbf74e757fd8\",                        [{\"alignmentgroup\":\"True\",\"bingroup\":\"x\",\"hovertemplate\":\"target=1<br>Resting blood pressure=%{x}<br>count=%{y}<extra></extra>\",\"legendgroup\":\"1\",\"marker\":{\"color\":\"#00cc96\",\"pattern\":{\"shape\":\"\"}},\"name\":\"1\",\"offsetgroup\":\"1\",\"orientation\":\"v\",\"showlegend\":true,\"x\":[145,130,130,120,120,140,140,120,172,150,140,130,130,110,150,120,120,150,150,140,135,130,140,150,140,160,150,110,140,130,105,120,130,125,125,142,135,150,155,160,140,130,104,130,140,120,140,138,128,138,130,120,130,108,135,134,122,115,118,128,110,108,118,135,140,138,100,130,120,124,120,94,130,140,122,135,125,140,128,105,112,128,102,152,102,115,118,101,110,100,124,132,138,132,112,142,140,108,130,130,148,178,140,120,129,120,160,138,120,110,180,150,140,110,130,120,130,120,105,138,130,138,112,108,94,118,112,152,136,120,160,134,120,110,126,130,120,128,110,128,120,115,120,106,140,156,118,150,120,130,160,112,170,146,138,130,130,122,125,130,120,132,120,138,138],\"xaxis\":\"x\",\"yaxis\":\"y\",\"type\":\"histogram\"},{\"alignmentgroup\":\"True\",\"boxpoints\":\"all\",\"customdata\":[[63.0,1.0,3.0,233.0,1.0,0.0,150.0,0.0,2.3,0.0,0.0,1.0,1.0],[37.0,1.0,2.0,250.0,0.0,1.0,187.0,0.0,3.5,0.0,0.0,2.0,1.0],[41.0,0.0,1.0,204.0,0.0,0.0,172.0,0.0,1.4,2.0,0.0,2.0,1.0],[56.0,1.0,1.0,236.0,0.0,1.0,178.0,0.0,0.8,2.0,0.0,2.0,1.0],[57.0,0.0,0.0,354.0,0.0,1.0,163.0,1.0,0.6,2.0,0.0,2.0,1.0],[57.0,1.0,0.0,192.0,0.0,1.0,148.0,0.0,0.4,1.0,0.0,1.0,1.0],[56.0,0.0,1.0,294.0,0.0,0.0,153.0,0.0,1.3,1.0,0.0,2.0,1.0],[44.0,1.0,1.0,263.0,0.0,1.0,173.0,0.0,0.0,2.0,0.0,3.0,1.0],[52.0,1.0,2.0,199.0,1.0,1.0,162.0,0.0,0.5,2.0,0.0,3.0,1.0],[57.0,1.0,2.0,168.0,0.0,1.0,174.0,0.0,1.6,2.0,0.0,2.0,1.0],[54.0,1.0,0.0,239.0,0.0,1.0,160.0,0.0,1.2,2.0,0.0,2.0,1.0],[48.0,0.0,2.0,275.0,0.0,1.0,139.0,0.0,0.2,2.0,0.0,2.0,1.0],[49.0,1.0,1.0,266.0,0.0,1.0,171.0,0.0,0.6,2.0,0.0,2.0,1.0],[64.0,1.0,3.0,211.0,0.0,0.0,144.0,1.0,1.8,1.0,0.0,2.0,1.0],[58.0,0.0,3.0,283.0,1.0,0.0,162.0,0.0,1.0,2.0,0.0,2.0,1.0],[50.0,0.0,2.0,219.0,0.0,1.0,158.0,0.0,1.6,1.0,0.0,2.0,1.0],[58.0,0.0,2.0,340.0,0.0,1.0,172.0,0.0,0.0,2.0,0.0,2.0,1.0],[66.0,0.0,3.0,226.0,0.0,1.0,114.0,0.0,2.6,0.0,0.0,2.0,1.0],[43.0,1.0,0.0,247.0,0.0,1.0,171.0,0.0,1.5,2.0,0.0,2.0,1.0],[69.0,0.0,3.0,239.0,0.0,1.0,151.0,0.0,1.8,2.0,2.0,2.0,1.0],[59.0,1.0,0.0,234.0,0.0,1.0,161.0,0.0,0.5,1.0,0.0,3.0,1.0],[44.0,1.0,2.0,233.0,0.0,1.0,179.0,1.0,0.4,2.0,0.0,2.0,1.0],[42.0,1.0,0.0,226.0,0.0,1.0,178.0,0.0,0.0,2.0,0.0,2.0,1.0],[61.0,1.0,2.0,243.0,1.0,1.0,137.0,1.0,1.0,1.0,0.0,2.0,1.0],[40.0,1.0,3.0,199.0,0.0,1.0,178.0,1.0,1.4,2.0,0.0,3.0,1.0],[71.0,0.0,1.0,302.0,0.0,1.0,162.0,0.0,0.4,2.0,2.0,2.0,1.0],[59.0,1.0,2.0,212.0,1.0,1.0,157.0,0.0,1.6,2.0,0.0,2.0,1.0],[51.0,1.0,2.0,175.0,0.0,1.0,123.0,0.0,0.6,2.0,0.0,2.0,1.0],[65.0,0.0,2.0,417.0,1.0,0.0,157.0,0.0,0.8,2.0,1.0,2.0,1.0],[53.0,1.0,2.0,197.0,1.0,0.0,152.0,0.0,1.2,0.0,0.0,2.0,1.0],[41.0,0.0,1.0,198.0,0.0,1.0,168.0,0.0,0.0,2.0,1.0,2.0,1.0],[65.0,1.0,0.0,177.0,0.0,1.0,140.0,0.0,0.4,2.0,0.0,3.0,1.0],[44.0,1.0,1.0,219.0,0.0,0.0,188.0,0.0,0.0,2.0,0.0,2.0,1.0],[54.0,1.0,2.0,273.0,0.0,0.0,152.0,0.0,0.5,0.0,1.0,2.0,1.0],[51.0,1.0,3.0,213.0,0.0,0.0,125.0,1.0,1.4,2.0,1.0,2.0,1.0],[46.0,0.0,2.0,177.0,0.0,0.0,160.0,1.0,1.4,0.0,0.0,2.0,1.0],[54.0,0.0,2.0,304.0,1.0,1.0,170.0,0.0,0.0,2.0,0.0,2.0,1.0],[54.0,1.0,2.0,232.0,0.0,0.0,165.0,0.0,1.6,2.0,0.0,3.0,1.0],[65.0,0.0,2.0,269.0,0.0,1.0,148.0,0.0,0.8,2.0,0.0,2.0,1.0],[65.0,0.0,2.0,360.0,0.0,0.0,151.0,0.0,0.8,2.0,0.0,2.0,1.0],[51.0,0.0,2.0,308.0,0.0,0.0,142.0,0.0,1.5,2.0,1.0,2.0,1.0],[48.0,1.0,1.0,245.0,0.0,0.0,180.0,0.0,0.2,1.0,0.0,2.0,1.0],[45.0,1.0,0.0,208.0,0.0,0.0,148.0,1.0,3.0,1.0,0.0,2.0,1.0],[53.0,0.0,0.0,264.0,0.0,0.0,143.0,0.0,0.4,1.0,0.0,2.0,1.0],[39.0,1.0,2.0,321.0,0.0,0.0,182.0,0.0,0.0,2.0,0.0,2.0,1.0],[52.0,1.0,1.0,325.0,0.0,1.0,172.0,0.0,0.2,2.0,0.0,2.0,1.0],[44.0,1.0,2.0,235.0,0.0,0.0,180.0,0.0,0.0,2.0,0.0,2.0,1.0],[47.0,1.0,2.0,257.0,0.0,0.0,156.0,0.0,0.0,2.0,0.0,2.0,1.0],[53.0,0.0,2.0,216.0,0.0,0.0,115.0,0.0,0.0,2.0,0.0,0.0,1.0],[53.0,0.0,0.0,234.0,0.0,0.0,160.0,0.0,0.0,2.0,0.0,2.0,1.0],[51.0,0.0,2.0,256.0,0.0,0.0,149.0,0.0,0.5,2.0,0.0,2.0,1.0],[66.0,1.0,0.0,302.0,0.0,0.0,151.0,0.0,0.4,1.0,0.0,2.0,1.0],[62.0,1.0,2.0,231.0,0.0,1.0,146.0,0.0,1.8,1.0,3.0,3.0,1.0],[44.0,0.0,2.0,141.0,0.0,1.0,175.0,0.0,0.6,1.0,0.0,2.0,1.0],[63.0,0.0,2.0,252.0,0.0,0.0,172.0,0.0,0.0,2.0,0.0,2.0,1.0],[52.0,1.0,1.0,201.0,0.0,1.0,158.0,0.0,0.8,2.0,1.0,2.0,1.0],[48.0,1.0,0.0,222.0,0.0,0.0,186.0,0.0,0.0,2.0,0.0,2.0,1.0],[45.0,1.0,0.0,260.0,0.0,0.0,185.0,0.0,0.0,2.0,0.0,2.0,1.0],[34.0,1.0,3.0,182.0,0.0,0.0,174.0,0.0,0.0,2.0,0.0,2.0,1.0],[57.0,0.0,0.0,303.0,0.0,0.0,159.0,0.0,0.0,2.0,1.0,2.0,1.0],[71.0,0.0,2.0,265.0,1.0,0.0,130.0,0.0,0.0,2.0,1.0,2.0,1.0],[54.0,1.0,1.0,309.0,0.0,1.0,156.0,0.0,0.0,2.0,0.0,3.0,1.0],[52.0,1.0,3.0,186.0,0.0,0.0,190.0,0.0,0.0,1.0,0.0,1.0,1.0],[41.0,1.0,1.0,203.0,0.0,1.0,132.0,0.0,0.0,1.0,0.0,1.0,1.0],[58.0,1.0,2.0,211.0,1.0,0.0,165.0,0.0,0.0,2.0,0.0,2.0,1.0],[35.0,0.0,0.0,183.0,0.0,1.0,182.0,0.0,1.4,2.0,0.0,2.0,1.0],[51.0,1.0,2.0,222.0,0.0,1.0,143.0,1.0,1.2,1.0,0.0,2.0,1.0],[45.0,0.0,1.0,234.0,0.0,0.0,175.0,0.0,0.6,1.0,0.0,2.0,1.0],[44.0,1.0,1.0,220.0,0.0,1.0,170.0,0.0,0.0,2.0,0.0,2.0,1.0],[62.0,0.0,0.0,209.0,0.0,1.0,163.0,0.0,0.0,2.0,0.0,2.0,1.0],[54.0,1.0,2.0,258.0,0.0,0.0,147.0,0.0,0.4,1.0,0.0,3.0,1.0],[51.0,1.0,2.0,227.0,0.0,1.0,154.0,1.0,0.0,2.0,1.0,3.0,1.0],[29.0,1.0,1.0,204.0,0.0,0.0,202.0,0.0,0.0,2.0,0.0,2.0,1.0],[51.0,1.0,0.0,261.0,0.0,0.0,186.0,1.0,0.0,2.0,0.0,2.0,1.0],[43.0,0.0,2.0,213.0,0.0,1.0,165.0,0.0,0.2,1.0,0.0,2.0,1.0],[55.0,0.0,1.0,250.0,0.0,0.0,161.0,0.0,1.4,1.0,0.0,2.0,1.0],[51.0,1.0,2.0,245.0,1.0,0.0,166.0,0.0,2.4,1.0,0.0,2.0,1.0],[59.0,1.0,1.0,221.0,0.0,1.0,164.0,1.0,0.0,2.0,0.0,2.0,1.0],[52.0,1.0,1.0,205.0,1.0,1.0,184.0,0.0,0.0,2.0,0.0,2.0,1.0],[58.0,1.0,2.0,240.0,0.0,0.0,154.0,1.0,0.6,1.0,0.0,3.0,1.0],[41.0,1.0,2.0,250.0,0.0,1.0,179.0,0.0,0.0,2.0,0.0,2.0,1.0],[45.0,1.0,1.0,308.0,0.0,0.0,170.0,0.0,0.0,2.0,0.0,2.0,1.0],[60.0,0.0,2.0,318.0,0.0,1.0,160.0,0.0,0.0,2.0,1.0,2.0,1.0],[52.0,1.0,3.0,298.0,1.0,1.0,178.0,0.0,1.2,1.0,0.0,3.0,1.0],[42.0,0.0,0.0,265.0,0.0,0.0,122.0,0.0,0.6,1.0,0.0,2.0,1.0],[67.0,0.0,2.0,564.0,0.0,0.0,160.0,0.0,1.6,1.0,0.0,3.0,1.0],[68.0,1.0,2.0,277.0,0.0,1.0,151.0,0.0,1.0,2.0,1.0,3.0,1.0],[46.0,1.0,1.0,197.0,1.0,1.0,156.0,0.0,0.0,2.0,0.0,3.0,1.0],[54.0,0.0,2.0,214.0,0.0,1.0,158.0,0.0,1.6,1.0,0.0,2.0,1.0],[58.0,0.0,0.0,248.0,0.0,0.0,122.0,0.0,1.0,1.0,0.0,2.0,1.0],[48.0,1.0,2.0,255.0,1.0,1.0,175.0,0.0,0.0,2.0,2.0,2.0,1.0],[57.0,1.0,0.0,207.0,0.0,1.0,168.0,1.0,0.0,2.0,0.0,3.0,1.0],[52.0,1.0,2.0,223.0,0.0,1.0,169.0,0.0,0.0,2.0,4.0,2.0,1.0],[54.0,0.0,1.0,288.0,1.0,0.0,159.0,1.0,0.0,2.0,1.0,2.0,1.0],[45.0,0.0,1.0,160.0,0.0,1.0,138.0,0.0,0.0,1.0,0.0,2.0,1.0],[53.0,1.0,0.0,226.0,0.0,0.0,111.0,1.0,0.0,2.0,0.0,3.0,1.0],[62.0,0.0,0.0,394.0,0.0,0.0,157.0,0.0,1.2,1.0,0.0,2.0,1.0],[52.0,1.0,0.0,233.0,1.0,1.0,147.0,0.0,0.1,2.0,3.0,3.0,1.0],[43.0,1.0,2.0,315.0,0.0,1.0,162.0,0.0,1.9,2.0,1.0,2.0,1.0],[53.0,1.0,2.0,246.0,1.0,0.0,173.0,0.0,0.0,2.0,3.0,2.0,1.0],[42.0,1.0,3.0,244.0,0.0,0.0,178.0,0.0,0.8,2.0,2.0,2.0,1.0],[59.0,1.0,3.0,270.0,0.0,0.0,145.0,0.0,4.2,0.0,0.0,3.0,1.0],[63.0,0.0,1.0,195.0,0.0,1.0,179.0,0.0,0.0,2.0,2.0,2.0,1.0],[42.0,1.0,2.0,240.0,1.0,1.0,194.0,0.0,0.8,0.0,0.0,3.0,1.0],[50.0,1.0,2.0,196.0,0.0,1.0,163.0,0.0,0.0,2.0,0.0,2.0,1.0],[68.0,0.0,2.0,211.0,0.0,0.0,115.0,0.0,1.5,1.0,0.0,2.0,1.0],[69.0,1.0,3.0,234.0,1.0,0.0,131.0,0.0,0.1,1.0,1.0,2.0,1.0],[45.0,0.0,0.0,236.0,0.0,0.0,152.0,1.0,0.2,1.0,0.0,2.0,1.0],[50.0,0.0,1.0,244.0,0.0,1.0,162.0,0.0,1.1,2.0,0.0,2.0,1.0],[50.0,0.0,0.0,254.0,0.0,0.0,159.0,0.0,0.0,2.0,0.0,2.0,1.0],[64.0,0.0,0.0,325.0,0.0,1.0,154.0,1.0,0.0,2.0,0.0,2.0,1.0],[57.0,1.0,2.0,126.0,1.0,1.0,173.0,0.0,0.2,2.0,1.0,3.0,1.0],[64.0,0.0,2.0,313.0,0.0,1.0,133.0,0.0,0.2,2.0,0.0,3.0,1.0],[43.0,1.0,0.0,211.0,0.0,1.0,161.0,0.0,0.0,2.0,0.0,3.0,1.0],[55.0,1.0,1.0,262.0,0.0,1.0,155.0,0.0,0.0,2.0,0.0,2.0,1.0],[37.0,0.0,2.0,215.0,0.0,1.0,170.0,0.0,0.0,2.0,0.0,2.0,1.0],[41.0,1.0,2.0,214.0,0.0,0.0,168.0,0.0,2.0,1.0,0.0,2.0,1.0],[56.0,1.0,3.0,193.0,0.0,0.0,162.0,0.0,1.9,1.0,0.0,3.0,1.0],[46.0,0.0,1.0,204.0,0.0,1.0,172.0,0.0,0.0,2.0,0.0,2.0,1.0],[46.0,0.0,0.0,243.0,0.0,0.0,152.0,1.0,0.0,1.0,0.0,2.0,1.0],[64.0,0.0,0.0,303.0,0.0,1.0,122.0,0.0,2.0,1.0,2.0,2.0,1.0],[59.0,1.0,0.0,271.0,0.0,0.0,182.0,0.0,0.0,2.0,0.0,2.0,1.0],[41.0,0.0,2.0,268.0,0.0,0.0,172.0,1.0,0.0,2.0,0.0,2.0,1.0],[54.0,0.0,2.0,267.0,0.0,0.0,167.0,0.0,0.0,2.0,0.0,2.0,1.0],[39.0,0.0,2.0,199.0,0.0,1.0,179.0,0.0,0.0,2.0,0.0,2.0,1.0],[34.0,0.0,1.0,210.0,0.0,1.0,192.0,0.0,0.7,2.0,0.0,2.0,1.0],[47.0,1.0,0.0,204.0,0.0,1.0,143.0,0.0,0.1,2.0,0.0,2.0,1.0],[67.0,0.0,2.0,277.0,0.0,1.0,172.0,0.0,0.0,2.0,1.0,2.0,1.0],[52.0,0.0,2.0,196.0,0.0,0.0,169.0,0.0,0.1,1.0,0.0,2.0,1.0],[74.0,0.0,1.0,269.0,0.0,0.0,121.0,1.0,0.2,2.0,1.0,2.0,1.0],[54.0,0.0,2.0,201.0,0.0,1.0,163.0,0.0,0.0,2.0,1.0,2.0,1.0],[49.0,0.0,1.0,271.0,0.0,1.0,162.0,0.0,0.0,1.0,0.0,2.0,1.0],[42.0,1.0,1.0,295.0,0.0,1.0,162.0,0.0,0.0,2.0,0.0,2.0,1.0],[41.0,1.0,1.0,235.0,0.0,1.0,153.0,0.0,0.0,2.0,0.0,2.0,1.0],[41.0,0.0,1.0,306.0,0.0,1.0,163.0,0.0,0.0,2.0,0.0,2.0,1.0],[49.0,0.0,0.0,269.0,0.0,1.0,163.0,0.0,0.0,2.0,0.0,2.0,1.0],[60.0,0.0,2.0,178.0,1.0,1.0,96.0,0.0,0.0,2.0,0.0,2.0,1.0],[62.0,1.0,1.0,208.0,1.0,0.0,140.0,0.0,0.0,2.0,0.0,2.0,1.0],[57.0,1.0,0.0,201.0,0.0,1.0,126.0,1.0,1.5,1.0,0.0,1.0,1.0],[64.0,1.0,0.0,263.0,0.0,1.0,105.0,1.0,0.2,1.0,1.0,3.0,1.0],[51.0,0.0,2.0,295.0,0.0,0.0,157.0,0.0,0.6,2.0,0.0,2.0,1.0],[43.0,1.0,0.0,303.0,0.0,1.0,181.0,0.0,1.2,1.0,0.0,2.0,1.0],[42.0,0.0,2.0,209.0,0.0,1.0,173.0,0.0,0.0,1.0,0.0,2.0,1.0],[67.0,0.0,0.0,223.0,0.0,1.0,142.0,0.0,0.3,2.0,2.0,2.0,1.0],[76.0,0.0,2.0,197.0,0.0,2.0,116.0,0.0,1.1,1.0,0.0,2.0,1.0],[70.0,1.0,1.0,245.0,0.0,0.0,143.0,0.0,0.0,2.0,0.0,2.0,1.0],[44.0,0.0,2.0,242.0,0.0,1.0,149.0,0.0,0.3,1.0,1.0,2.0,1.0],[60.0,0.0,3.0,240.0,0.0,1.0,171.0,0.0,0.9,2.0,0.0,2.0,1.0],[44.0,1.0,2.0,226.0,0.0,1.0,169.0,0.0,0.0,2.0,0.0,2.0,1.0],[42.0,1.0,2.0,180.0,0.0,1.0,150.0,0.0,0.0,2.0,0.0,2.0,1.0],[66.0,1.0,0.0,228.0,0.0,0.0,138.0,0.0,2.3,2.0,0.0,1.0,1.0],[71.0,0.0,0.0,149.0,0.0,1.0,125.0,0.0,1.6,1.0,0.0,2.0,1.0],[64.0,1.0,3.0,227.0,0.0,0.0,155.0,0.0,0.6,1.0,0.0,3.0,1.0],[66.0,0.0,2.0,278.0,0.0,0.0,152.0,0.0,0.0,1.0,1.0,2.0,1.0],[39.0,0.0,2.0,220.0,0.0,1.0,152.0,0.0,0.0,1.0,0.0,2.0,1.0],[58.0,0.0,0.0,197.0,0.0,1.0,131.0,0.0,0.6,1.0,0.0,2.0,1.0],[47.0,1.0,2.0,253.0,0.0,1.0,179.0,0.0,0.0,2.0,0.0,2.0,1.0],[35.0,1.0,1.0,192.0,0.0,1.0,174.0,0.0,0.0,2.0,0.0,2.0,1.0],[58.0,1.0,1.0,220.0,0.0,1.0,144.0,0.0,0.4,1.0,4.0,3.0,1.0],[56.0,1.0,1.0,221.0,0.0,0.0,163.0,0.0,0.0,2.0,0.0,3.0,1.0],[56.0,1.0,1.0,240.0,0.0,1.0,169.0,0.0,0.0,0.0,0.0,2.0,1.0],[55.0,0.0,1.0,342.0,0.0,1.0,166.0,0.0,1.2,2.0,0.0,2.0,1.0],[41.0,1.0,1.0,157.0,0.0,1.0,182.0,0.0,0.0,2.0,0.0,2.0,1.0],[38.0,1.0,2.0,175.0,0.0,1.0,173.0,0.0,0.0,2.0,4.0,2.0,1.0],[38.0,1.0,2.0,175.0,0.0,1.0,173.0,0.0,0.0,2.0,4.0,2.0,1.0]],\"fillcolor\":\"rgba(255,255,255,0)\",\"hoveron\":\"points\",\"hovertemplate\":\"target=%{customdata[12]}<br>Resting blood pressure=%{x}<br>age=%{customdata[0]}<br>sex=%{customdata[1]}<br>cp=%{customdata[2]}<br>chol=%{customdata[3]}<br>fbs=%{customdata[4]}<br>restecg=%{customdata[5]}<br>thalach=%{customdata[6]}<br>exang=%{customdata[7]}<br>oldpeak=%{customdata[8]}<br>slope=%{customdata[9]}<br>ca=%{customdata[10]}<br>thal=%{customdata[11]}<extra></extra>\",\"jitter\":0,\"legendgroup\":\"1\",\"line\":{\"color\":\"rgba(255,255,255,0)\"},\"marker\":{\"color\":\"#00cc96\",\"symbol\":\"line-ns-open\"},\"name\":\"1\",\"offsetgroup\":\"1\",\"showlegend\":false,\"x\":[145,130,130,120,120,140,140,120,172,150,140,130,130,110,150,120,120,150,150,140,135,130,140,150,140,160,150,110,140,130,105,120,130,125,125,142,135,150,155,160,140,130,104,130,140,120,140,138,128,138,130,120,130,108,135,134,122,115,118,128,110,108,118,135,140,138,100,130,120,124,120,94,130,140,122,135,125,140,128,105,112,128,102,152,102,115,118,101,110,100,124,132,138,132,112,142,140,108,130,130,148,178,140,120,129,120,160,138,120,110,180,150,140,110,130,120,130,120,105,138,130,138,112,108,94,118,112,152,136,120,160,134,120,110,126,130,120,128,110,128,120,115,120,106,140,156,118,150,120,130,160,112,170,146,138,130,130,122,125,130,120,132,120,138,138],\"xaxis\":\"x2\",\"yaxis\":\"y2\",\"type\":\"box\"},{\"alignmentgroup\":\"True\",\"bingroup\":\"x\",\"hovertemplate\":\"target=0<br>Resting blood pressure=%{x}<br>count=%{y}<extra></extra>\",\"legendgroup\":\"0\",\"marker\":{\"color\":\"#ab63fa\",\"pattern\":{\"shape\":\"\"}},\"name\":\"0\",\"offsetgroup\":\"0\",\"orientation\":\"v\",\"showlegend\":true,\"x\":[160,120,140,130,140,130,110,120,132,130,110,117,140,120,150,132,150,130,112,150,112,130,124,140,110,130,128,120,145,140,170,150,125,120,110,110,125,150,180,160,128,110,150,120,140,128,120,118,145,125,132,130,130,135,130,150,140,138,200,110,145,120,120,170,125,108,165,160,120,130,140,125,140,125,126,160,174,145,152,132,124,134,160,192,140,140,132,138,100,160,142,128,144,150,120,178,112,123,108,110,112,180,118,122,130,120,134,120,100,110,125,146,124,136,138,136,128,126,152,140,140,134,154,110,128,148,114,170,152,120,140,124,164,140,110,144,130,130],\"xaxis\":\"x\",\"yaxis\":\"y\",\"type\":\"histogram\"},{\"alignmentgroup\":\"True\",\"boxpoints\":\"all\",\"customdata\":[[67.0,1.0,0.0,286.0,0.0,0.0,108.0,1.0,1.5,1.0,3.0,2.0,0.0],[67.0,1.0,0.0,229.0,0.0,0.0,129.0,1.0,2.6,1.0,2.0,3.0,0.0],[62.0,0.0,0.0,268.0,0.0,0.0,160.0,0.0,3.6,0.0,2.0,2.0,0.0],[63.0,1.0,0.0,254.0,0.0,0.0,147.0,0.0,1.4,1.0,1.0,3.0,0.0],[53.0,1.0,0.0,203.0,1.0,0.0,155.0,1.0,3.1,0.0,0.0,3.0,0.0],[56.0,1.0,2.0,256.0,1.0,0.0,142.0,1.0,0.6,1.0,1.0,1.0,0.0],[48.0,1.0,1.0,229.0,0.0,1.0,168.0,0.0,1.0,0.0,0.0,3.0,0.0],[58.0,1.0,1.0,284.0,0.0,0.0,160.0,0.0,1.8,1.0,0.0,2.0,0.0],[58.0,1.0,2.0,224.0,0.0,0.0,173.0,0.0,3.2,2.0,2.0,3.0,0.0],[60.0,1.0,0.0,206.0,0.0,0.0,132.0,1.0,2.4,1.0,2.0,3.0,0.0],[40.0,1.0,0.0,167.0,0.0,0.0,114.0,1.0,2.0,1.0,0.0,3.0,0.0],[60.0,1.0,0.0,230.0,1.0,1.0,160.0,1.0,1.4,2.0,2.0,3.0,0.0],[64.0,1.0,2.0,335.0,0.0,1.0,158.0,0.0,0.0,2.0,0.0,2.0,0.0],[43.0,1.0,0.0,177.0,0.0,0.0,120.0,1.0,2.5,1.0,0.0,3.0,0.0],[57.0,1.0,0.0,276.0,0.0,0.0,112.0,1.0,0.6,1.0,1.0,1.0,0.0],[55.0,1.0,0.0,353.0,0.0,1.0,132.0,1.0,1.2,1.0,1.0,3.0,0.0],[65.0,0.0,0.0,225.0,0.0,0.0,114.0,0.0,1.0,1.0,3.0,3.0,0.0],[61.0,0.0,0.0,330.0,0.0,0.0,169.0,0.0,0.0,2.0,0.0,2.0,0.0],[58.0,1.0,2.0,230.0,0.0,0.0,165.0,0.0,2.5,1.0,1.0,3.0,0.0],[50.0,1.0,0.0,243.0,0.0,0.0,128.0,0.0,2.6,1.0,0.0,3.0,0.0],[44.0,1.0,0.0,290.0,0.0,0.0,153.0,0.0,0.0,2.0,1.0,2.0,0.0],[60.0,1.0,0.0,253.0,0.0,1.0,144.0,1.0,1.4,2.0,1.0,3.0,0.0],[54.0,1.0,0.0,266.0,0.0,0.0,109.0,1.0,2.2,1.0,1.0,3.0,0.0],[50.0,1.0,2.0,233.0,0.0,1.0,163.0,0.0,0.6,1.0,1.0,3.0,0.0],[41.0,1.0,0.0,172.0,0.0,0.0,158.0,0.0,0.0,2.0,0.0,3.0,0.0],[51.0,0.0,0.0,305.0,0.0,1.0,142.0,1.0,1.2,1.0,0.0,3.0,0.0],[58.0,1.0,0.0,216.0,0.0,0.0,131.0,1.0,2.2,1.0,3.0,3.0,0.0],[54.0,1.0,0.0,188.0,0.0,1.0,113.0,0.0,1.4,1.0,1.0,3.0,0.0],[60.0,1.0,0.0,282.0,0.0,0.0,142.0,1.0,2.8,1.0,2.0,3.0,0.0],[60.0,1.0,2.0,185.0,0.0,0.0,155.0,0.0,3.0,1.0,0.0,2.0,0.0],[59.0,1.0,0.0,326.0,0.0,0.0,140.0,1.0,3.4,0.0,0.0,3.0,0.0],[46.0,1.0,2.0,231.0,0.0,1.0,147.0,0.0,3.6,1.0,0.0,2.0,0.0],[67.0,1.0,0.0,254.0,1.0,1.0,163.0,0.0,0.2,1.0,2.0,3.0,0.0],[62.0,1.0,0.0,267.0,0.0,1.0,99.0,1.0,1.8,1.0,2.0,3.0,0.0],[65.0,1.0,0.0,248.0,0.0,0.0,158.0,0.0,0.6,2.0,2.0,1.0,0.0],[44.0,1.0,0.0,197.0,0.0,0.0,177.0,0.0,0.0,2.0,1.0,2.0,0.0],[60.0,1.0,0.0,258.0,0.0,0.0,141.0,1.0,2.8,1.0,1.0,3.0,0.0],[58.0,1.0,0.0,270.0,0.0,0.0,111.0,1.0,0.8,2.0,0.0,3.0,0.0],[68.0,1.0,2.0,274.0,1.0,0.0,150.0,1.0,1.6,1.0,0.0,3.0,0.0],[62.0,0.0,0.0,164.0,0.0,0.0,145.0,0.0,6.2,0.0,3.0,3.0,0.0],[52.0,1.0,0.0,255.0,0.0,1.0,161.0,1.0,0.0,2.0,1.0,3.0,0.0],[59.0,1.0,0.0,239.0,0.0,0.0,142.0,1.0,1.2,1.0,1.0,3.0,0.0],[60.0,0.0,0.0,258.0,0.0,0.0,157.0,0.0,2.6,1.0,2.0,3.0,0.0],[49.0,1.0,2.0,188.0,0.0,1.0,139.0,0.0,2.0,1.0,3.0,3.0,0.0],[59.0,1.0,0.0,177.0,0.0,1.0,162.0,1.0,0.0,2.0,1.0,3.0,0.0],[57.0,1.0,2.0,229.0,0.0,0.0,150.0,0.0,0.4,1.0,1.0,3.0,0.0],[61.0,1.0,0.0,260.0,0.0,1.0,140.0,1.0,3.6,1.0,1.0,3.0,0.0],[39.0,1.0,0.0,219.0,0.0,1.0,140.0,0.0,1.2,1.0,0.0,3.0,0.0],[61.0,0.0,0.0,307.0,0.0,0.0,146.0,1.0,1.0,1.0,0.0,3.0,0.0],[56.0,1.0,0.0,249.0,1.0,0.0,144.0,1.0,1.2,1.0,1.0,2.0,0.0],[43.0,0.0,0.0,341.0,1.0,0.0,136.0,1.0,3.0,1.0,0.0,3.0,0.0],[62.0,0.0,2.0,263.0,0.0,1.0,97.0,0.0,1.2,1.0,1.0,3.0,0.0],[63.0,1.0,0.0,330.0,1.0,0.0,132.0,1.0,1.8,2.0,3.0,3.0,0.0],[65.0,1.0,0.0,254.0,0.0,0.0,127.0,0.0,2.8,1.0,1.0,3.0,0.0],[48.0,1.0,0.0,256.0,1.0,0.0,150.0,1.0,0.0,2.0,2.0,3.0,0.0],[63.0,0.0,0.0,407.0,0.0,0.0,154.0,0.0,4.0,1.0,3.0,3.0,0.0],[55.0,1.0,0.0,217.0,0.0,1.0,111.0,1.0,5.6,0.0,0.0,3.0,0.0],[65.0,1.0,3.0,282.0,1.0,0.0,174.0,0.0,1.4,1.0,1.0,2.0,0.0],[56.0,0.0,0.0,288.0,1.0,0.0,133.0,1.0,4.0,0.0,2.0,3.0,0.0],[54.0,1.0,0.0,239.0,0.0,1.0,126.0,1.0,2.8,1.0,1.0,3.0,0.0],[70.0,1.0,0.0,174.0,0.0,1.0,125.0,1.0,2.6,0.0,0.0,3.0,0.0],[62.0,1.0,1.0,281.0,0.0,0.0,103.0,0.0,1.4,1.0,1.0,3.0,0.0],[35.0,1.0,0.0,198.0,0.0,1.0,130.0,1.0,1.6,1.0,0.0,3.0,0.0],[59.0,1.0,3.0,288.0,0.0,0.0,159.0,0.0,0.2,1.0,0.0,3.0,0.0],[64.0,1.0,2.0,309.0,0.0,1.0,131.0,1.0,1.8,1.0,0.0,3.0,0.0],[47.0,1.0,2.0,243.0,0.0,1.0,152.0,0.0,0.0,2.0,0.0,2.0,0.0],[57.0,1.0,0.0,289.0,1.0,0.0,124.0,0.0,1.0,1.0,3.0,3.0,0.0],[55.0,1.0,0.0,289.0,0.0,0.0,145.0,1.0,0.8,1.0,1.0,3.0,0.0],[64.0,1.0,0.0,246.0,0.0,0.0,96.0,1.0,2.2,0.0,1.0,2.0,0.0],[70.0,1.0,0.0,322.0,0.0,0.0,109.0,0.0,2.4,1.0,3.0,2.0,0.0],[51.0,1.0,0.0,299.0,0.0,1.0,173.0,1.0,1.6,2.0,0.0,3.0,0.0],[58.0,1.0,0.0,300.0,0.0,0.0,171.0,0.0,0.0,2.0,2.0,3.0,0.0],[60.0,1.0,0.0,293.0,0.0,0.0,170.0,0.0,1.2,1.0,2.0,3.0,0.0],[77.0,1.0,0.0,304.0,0.0,0.0,162.0,1.0,0.0,2.0,3.0,2.0,0.0],[35.0,1.0,0.0,282.0,0.0,0.0,156.0,1.0,0.0,2.0,0.0,3.0,0.0],[70.0,1.0,2.0,269.0,0.0,1.0,112.0,1.0,2.9,1.0,1.0,3.0,0.0],[59.0,0.0,0.0,249.0,0.0,1.0,143.0,1.0,0.0,1.0,0.0,2.0,0.0],[64.0,1.0,0.0,212.0,0.0,0.0,132.0,0.0,2.0,1.0,2.0,1.0,0.0],[57.0,1.0,0.0,274.0,0.0,1.0,88.0,1.0,1.2,1.0,1.0,3.0,0.0],[56.0,1.0,0.0,184.0,0.0,0.0,105.0,1.0,2.1,1.0,1.0,1.0,0.0],[48.0,1.0,0.0,274.0,0.0,0.0,166.0,0.0,0.5,1.0,0.0,3.0,0.0],[56.0,0.0,0.0,409.0,0.0,0.0,150.0,1.0,1.9,1.0,2.0,3.0,0.0],[66.0,1.0,1.0,246.0,0.0,1.0,120.0,1.0,0.0,1.0,3.0,1.0,0.0],[54.0,1.0,1.0,283.0,0.0,0.0,195.0,0.0,0.0,2.0,1.0,3.0,0.0],[69.0,1.0,2.0,254.0,0.0,0.0,146.0,0.0,2.0,1.0,3.0,3.0,0.0],[51.0,1.0,0.0,298.0,0.0,1.0,122.0,1.0,4.2,1.0,3.0,3.0,0.0],[43.0,1.0,0.0,247.0,1.0,0.0,143.0,1.0,0.1,1.0,4.0,3.0,0.0],[62.0,0.0,0.0,294.0,1.0,1.0,106.0,0.0,1.9,1.0,3.0,2.0,0.0],[67.0,1.0,0.0,299.0,0.0,0.0,125.0,1.0,0.9,1.0,2.0,2.0,0.0],[59.0,1.0,3.0,273.0,0.0,0.0,125.0,0.0,0.0,2.0,0.0,2.0,0.0],[45.0,1.0,0.0,309.0,0.0,0.0,147.0,1.0,0.0,1.0,3.0,3.0,0.0],[58.0,1.0,0.0,259.0,0.0,0.0,130.0,1.0,3.0,1.0,2.0,3.0,0.0],[50.0,1.0,0.0,200.0,0.0,0.0,126.0,1.0,0.9,1.0,0.0,3.0,0.0],[62.0,0.0,0.0,244.0,0.0,1.0,154.0,1.0,1.4,1.0,0.0,2.0,0.0],[38.0,1.0,3.0,231.0,0.0,1.0,182.0,1.0,3.8,1.0,0.0,3.0,0.0],[66.0,0.0,0.0,228.0,1.0,1.0,165.0,1.0,1.0,1.0,2.0,3.0,0.0],[52.0,1.0,0.0,230.0,0.0,1.0,160.0,0.0,0.0,2.0,1.0,2.0,0.0],[53.0,1.0,0.0,282.0,0.0,1.0,95.0,1.0,2.0,1.0,2.0,3.0,0.0],[63.0,0.0,0.0,269.0,0.0,1.0,169.0,1.0,1.8,1.0,2.0,2.0,0.0],[54.0,1.0,0.0,206.0,0.0,0.0,108.0,1.0,0.0,1.0,1.0,2.0,0.0],[66.0,1.0,0.0,212.0,0.0,0.0,132.0,1.0,0.1,2.0,1.0,2.0,0.0],[55.0,0.0,0.0,327.0,0.0,2.0,117.0,1.0,3.4,1.0,0.0,2.0,0.0],[49.0,1.0,2.0,149.0,0.0,0.0,126.0,0.0,0.8,2.0,3.0,2.0,0.0],[54.0,1.0,0.0,286.0,0.0,0.0,116.0,1.0,3.2,1.0,2.0,2.0,0.0],[56.0,1.0,0.0,283.0,1.0,0.0,103.0,1.0,1.6,0.0,0.0,3.0,0.0],[46.0,1.0,0.0,249.0,0.0,0.0,144.0,0.0,0.8,2.0,0.0,3.0,0.0],[61.0,1.0,3.0,234.0,0.0,1.0,145.0,0.0,2.6,1.0,2.0,2.0,0.0],[67.0,1.0,0.0,237.0,0.0,1.0,71.0,0.0,1.0,1.0,0.0,2.0,0.0],[58.0,1.0,0.0,234.0,0.0,1.0,156.0,0.0,0.1,2.0,1.0,3.0,0.0],[47.0,1.0,0.0,275.0,0.0,0.0,118.0,1.0,1.0,1.0,1.0,2.0,0.0],[52.0,1.0,0.0,212.0,0.0,1.0,168.0,0.0,1.0,2.0,2.0,3.0,0.0],[58.0,1.0,0.0,218.0,0.0,1.0,105.0,0.0,2.0,1.0,1.0,3.0,0.0],[57.0,1.0,1.0,261.0,0.0,1.0,141.0,0.0,0.3,2.0,0.0,3.0,0.0],[58.0,0.0,1.0,319.0,1.0,0.0,152.0,0.0,0.0,2.0,2.0,2.0,0.0],[61.0,1.0,0.0,166.0,0.0,0.0,125.0,1.0,3.6,1.0,1.0,2.0,0.0],[42.0,1.0,0.0,315.0,0.0,1.0,125.0,1.0,1.8,1.0,0.0,1.0,0.0],[52.0,1.0,0.0,204.0,1.0,1.0,156.0,1.0,1.0,1.0,0.0,0.0,0.0],[59.0,1.0,2.0,218.0,1.0,1.0,134.0,0.0,2.2,1.0,1.0,1.0,0.0],[40.0,1.0,0.0,223.0,0.0,1.0,181.0,0.0,0.0,2.0,0.0,3.0,0.0],[61.0,1.0,0.0,207.0,0.0,0.0,138.0,1.0,1.9,2.0,1.0,3.0,0.0],[46.0,1.0,0.0,311.0,0.0,1.0,120.0,1.0,1.8,1.0,2.0,3.0,0.0],[59.0,1.0,3.0,204.0,0.0,1.0,162.0,0.0,0.8,2.0,2.0,2.0,0.0],[57.0,1.0,1.0,232.0,0.0,0.0,164.0,0.0,0.0,2.0,1.0,2.0,0.0],[57.0,1.0,0.0,335.0,0.0,1.0,143.0,1.0,3.0,1.0,1.0,3.0,0.0],[55.0,0.0,0.0,205.0,0.0,2.0,130.0,1.0,2.0,1.0,1.0,3.0,0.0],[61.0,1.0,0.0,203.0,0.0,1.0,161.0,0.0,0.0,2.0,1.0,3.0,0.0],[58.0,1.0,0.0,318.0,0.0,2.0,140.0,0.0,4.4,0.0,3.0,1.0,0.0],[58.0,0.0,0.0,225.0,1.0,0.0,146.0,1.0,2.8,1.0,2.0,1.0,0.0],[67.0,1.0,2.0,212.0,0.0,0.0,150.0,0.0,0.8,1.0,0.0,3.0,0.0],[44.0,1.0,0.0,169.0,0.0,1.0,144.0,1.0,2.8,0.0,0.0,1.0,0.0],[63.0,1.0,0.0,187.0,0.0,0.0,144.0,1.0,4.0,2.0,2.0,3.0,0.0],[63.0,0.0,0.0,197.0,0.0,1.0,136.0,1.0,0.0,1.0,0.0,2.0,0.0],[59.0,1.0,0.0,176.0,1.0,0.0,90.0,0.0,1.0,1.0,2.0,1.0,0.0],[57.0,0.0,0.0,241.0,0.0,1.0,123.0,1.0,0.2,1.0,0.0,3.0,0.0],[45.0,1.0,3.0,264.0,0.0,1.0,132.0,0.0,1.2,1.0,0.0,3.0,0.0],[68.0,1.0,0.0,193.0,1.0,1.0,141.0,0.0,3.4,1.0,2.0,3.0,0.0],[57.0,1.0,0.0,131.0,0.0,1.0,115.0,1.0,1.2,1.0,1.0,3.0,0.0],[57.0,0.0,1.0,236.0,0.0,0.0,174.0,0.0,0.0,1.0,1.0,2.0,0.0]],\"fillcolor\":\"rgba(255,255,255,0)\",\"hoveron\":\"points\",\"hovertemplate\":\"target=%{customdata[12]}<br>Resting blood pressure=%{x}<br>age=%{customdata[0]}<br>sex=%{customdata[1]}<br>cp=%{customdata[2]}<br>chol=%{customdata[3]}<br>fbs=%{customdata[4]}<br>restecg=%{customdata[5]}<br>thalach=%{customdata[6]}<br>exang=%{customdata[7]}<br>oldpeak=%{customdata[8]}<br>slope=%{customdata[9]}<br>ca=%{customdata[10]}<br>thal=%{customdata[11]}<extra></extra>\",\"jitter\":0,\"legendgroup\":\"0\",\"line\":{\"color\":\"rgba(255,255,255,0)\"},\"marker\":{\"color\":\"#ab63fa\",\"symbol\":\"line-ns-open\"},\"name\":\"0\",\"offsetgroup\":\"0\",\"showlegend\":false,\"x\":[160,120,140,130,140,130,110,120,132,130,110,117,140,120,150,132,150,130,112,150,112,130,124,140,110,130,128,120,145,140,170,150,125,120,110,110,125,150,180,160,128,110,150,120,140,128,120,118,145,125,132,130,130,135,130,150,140,138,200,110,145,120,120,170,125,108,165,160,120,130,140,125,140,125,126,160,174,145,152,132,124,134,160,192,140,140,132,138,100,160,142,128,144,150,120,178,112,123,108,110,112,180,118,122,130,120,134,120,100,110,125,146,124,136,138,136,128,126,152,140,140,134,154,110,128,148,114,170,152,120,140,124,164,140,110,144,130,130],\"xaxis\":\"x2\",\"yaxis\":\"y2\",\"type\":\"box\"}],                        {\"template\":{\"data\":{\"barpolar\":[{\"marker\":{\"line\":{\"color\":\"rgb(17,17,17)\",\"width\":0.5},\"pattern\":{\"fillmode\":\"overlay\",\"size\":10,\"solidity\":0.2}},\"type\":\"barpolar\"}],\"bar\":[{\"error_x\":{\"color\":\"#f2f5fa\"},\"error_y\":{\"color\":\"#f2f5fa\"},\"marker\":{\"line\":{\"color\":\"rgb(17,17,17)\",\"width\":0.5},\"pattern\":{\"fillmode\":\"overlay\",\"size\":10,\"solidity\":0.2}},\"type\":\"bar\"}],\"carpet\":[{\"aaxis\":{\"endlinecolor\":\"#A2B1C6\",\"gridcolor\":\"#506784\",\"linecolor\":\"#506784\",\"minorgridcolor\":\"#506784\",\"startlinecolor\":\"#A2B1C6\"},\"baxis\":{\"endlinecolor\":\"#A2B1C6\",\"gridcolor\":\"#506784\",\"linecolor\":\"#506784\",\"minorgridcolor\":\"#506784\",\"startlinecolor\":\"#A2B1C6\"},\"type\":\"carpet\"}],\"choropleth\":[{\"colorbar\":{\"outlinewidth\":0,\"ticks\":\"\"},\"type\":\"choropleth\"}],\"contourcarpet\":[{\"colorbar\":{\"outlinewidth\":0,\"ticks\":\"\"},\"type\":\"contourcarpet\"}],\"contour\":[{\"colorbar\":{\"outlinewidth\":0,\"ticks\":\"\"},\"colorscale\":[[0.0,\"#0d0887\"],[0.1111111111111111,\"#46039f\"],[0.2222222222222222,\"#7201a8\"],[0.3333333333333333,\"#9c179e\"],[0.4444444444444444,\"#bd3786\"],[0.5555555555555556,\"#d8576b\"],[0.6666666666666666,\"#ed7953\"],[0.7777777777777778,\"#fb9f3a\"],[0.8888888888888888,\"#fdca26\"],[1.0,\"#f0f921\"]],\"type\":\"contour\"}],\"heatmapgl\":[{\"colorbar\":{\"outlinewidth\":0,\"ticks\":\"\"},\"colorscale\":[[0.0,\"#0d0887\"],[0.1111111111111111,\"#46039f\"],[0.2222222222222222,\"#7201a8\"],[0.3333333333333333,\"#9c179e\"],[0.4444444444444444,\"#bd3786\"],[0.5555555555555556,\"#d8576b\"],[0.6666666666666666,\"#ed7953\"],[0.7777777777777778,\"#fb9f3a\"],[0.8888888888888888,\"#fdca26\"],[1.0,\"#f0f921\"]],\"type\":\"heatmapgl\"}],\"heatmap\":[{\"colorbar\":{\"outlinewidth\":0,\"ticks\":\"\"},\"colorscale\":[[0.0,\"#0d0887\"],[0.1111111111111111,\"#46039f\"],[0.2222222222222222,\"#7201a8\"],[0.3333333333333333,\"#9c179e\"],[0.4444444444444444,\"#bd3786\"],[0.5555555555555556,\"#d8576b\"],[0.6666666666666666,\"#ed7953\"],[0.7777777777777778,\"#fb9f3a\"],[0.8888888888888888,\"#fdca26\"],[1.0,\"#f0f921\"]],\"type\":\"heatmap\"}],\"histogram2dcontour\":[{\"colorbar\":{\"outlinewidth\":0,\"ticks\":\"\"},\"colorscale\":[[0.0,\"#0d0887\"],[0.1111111111111111,\"#46039f\"],[0.2222222222222222,\"#7201a8\"],[0.3333333333333333,\"#9c179e\"],[0.4444444444444444,\"#bd3786\"],[0.5555555555555556,\"#d8576b\"],[0.6666666666666666,\"#ed7953\"],[0.7777777777777778,\"#fb9f3a\"],[0.8888888888888888,\"#fdca26\"],[1.0,\"#f0f921\"]],\"type\":\"histogram2dcontour\"}],\"histogram2d\":[{\"colorbar\":{\"outlinewidth\":0,\"ticks\":\"\"},\"colorscale\":[[0.0,\"#0d0887\"],[0.1111111111111111,\"#46039f\"],[0.2222222222222222,\"#7201a8\"],[0.3333333333333333,\"#9c179e\"],[0.4444444444444444,\"#bd3786\"],[0.5555555555555556,\"#d8576b\"],[0.6666666666666666,\"#ed7953\"],[0.7777777777777778,\"#fb9f3a\"],[0.8888888888888888,\"#fdca26\"],[1.0,\"#f0f921\"]],\"type\":\"histogram2d\"}],\"histogram\":[{\"marker\":{\"pattern\":{\"fillmode\":\"overlay\",\"size\":10,\"solidity\":0.2}},\"type\":\"histogram\"}],\"mesh3d\":[{\"colorbar\":{\"outlinewidth\":0,\"ticks\":\"\"},\"type\":\"mesh3d\"}],\"parcoords\":[{\"line\":{\"colorbar\":{\"outlinewidth\":0,\"ticks\":\"\"}},\"type\":\"parcoords\"}],\"pie\":[{\"automargin\":true,\"type\":\"pie\"}],\"scatter3d\":[{\"line\":{\"colorbar\":{\"outlinewidth\":0,\"ticks\":\"\"}},\"marker\":{\"colorbar\":{\"outlinewidth\":0,\"ticks\":\"\"}},\"type\":\"scatter3d\"}],\"scattercarpet\":[{\"marker\":{\"colorbar\":{\"outlinewidth\":0,\"ticks\":\"\"}},\"type\":\"scattercarpet\"}],\"scattergeo\":[{\"marker\":{\"colorbar\":{\"outlinewidth\":0,\"ticks\":\"\"}},\"type\":\"scattergeo\"}],\"scattergl\":[{\"marker\":{\"line\":{\"color\":\"#283442\"}},\"type\":\"scattergl\"}],\"scattermapbox\":[{\"marker\":{\"colorbar\":{\"outlinewidth\":0,\"ticks\":\"\"}},\"type\":\"scattermapbox\"}],\"scatterpolargl\":[{\"marker\":{\"colorbar\":{\"outlinewidth\":0,\"ticks\":\"\"}},\"type\":\"scatterpolargl\"}],\"scatterpolar\":[{\"marker\":{\"colorbar\":{\"outlinewidth\":0,\"ticks\":\"\"}},\"type\":\"scatterpolar\"}],\"scatter\":[{\"marker\":{\"line\":{\"color\":\"#283442\"}},\"type\":\"scatter\"}],\"scatterternary\":[{\"marker\":{\"colorbar\":{\"outlinewidth\":0,\"ticks\":\"\"}},\"type\":\"scatterternary\"}],\"surface\":[{\"colorbar\":{\"outlinewidth\":0,\"ticks\":\"\"},\"colorscale\":[[0.0,\"#0d0887\"],[0.1111111111111111,\"#46039f\"],[0.2222222222222222,\"#7201a8\"],[0.3333333333333333,\"#9c179e\"],[0.4444444444444444,\"#bd3786\"],[0.5555555555555556,\"#d8576b\"],[0.6666666666666666,\"#ed7953\"],[0.7777777777777778,\"#fb9f3a\"],[0.8888888888888888,\"#fdca26\"],[1.0,\"#f0f921\"]],\"type\":\"surface\"}],\"table\":[{\"cells\":{\"fill\":{\"color\":\"#506784\"},\"line\":{\"color\":\"rgb(17,17,17)\"}},\"header\":{\"fill\":{\"color\":\"#2a3f5f\"},\"line\":{\"color\":\"rgb(17,17,17)\"}},\"type\":\"table\"}]},\"layout\":{\"annotationdefaults\":{\"arrowcolor\":\"#f2f5fa\",\"arrowhead\":0,\"arrowwidth\":1},\"autotypenumbers\":\"strict\",\"coloraxis\":{\"colorbar\":{\"outlinewidth\":0,\"ticks\":\"\"}},\"colorscale\":{\"diverging\":[[0,\"#8e0152\"],[0.1,\"#c51b7d\"],[0.2,\"#de77ae\"],[0.3,\"#f1b6da\"],[0.4,\"#fde0ef\"],[0.5,\"#f7f7f7\"],[0.6,\"#e6f5d0\"],[0.7,\"#b8e186\"],[0.8,\"#7fbc41\"],[0.9,\"#4d9221\"],[1,\"#276419\"]],\"sequential\":[[0.0,\"#0d0887\"],[0.1111111111111111,\"#46039f\"],[0.2222222222222222,\"#7201a8\"],[0.3333333333333333,\"#9c179e\"],[0.4444444444444444,\"#bd3786\"],[0.5555555555555556,\"#d8576b\"],[0.6666666666666666,\"#ed7953\"],[0.7777777777777778,\"#fb9f3a\"],[0.8888888888888888,\"#fdca26\"],[1.0,\"#f0f921\"]],\"sequentialminus\":[[0.0,\"#0d0887\"],[0.1111111111111111,\"#46039f\"],[0.2222222222222222,\"#7201a8\"],[0.3333333333333333,\"#9c179e\"],[0.4444444444444444,\"#bd3786\"],[0.5555555555555556,\"#d8576b\"],[0.6666666666666666,\"#ed7953\"],[0.7777777777777778,\"#fb9f3a\"],[0.8888888888888888,\"#fdca26\"],[1.0,\"#f0f921\"]]},\"colorway\":[\"#636efa\",\"#EF553B\",\"#00cc96\",\"#ab63fa\",\"#FFA15A\",\"#19d3f3\",\"#FF6692\",\"#B6E880\",\"#FF97FF\",\"#FECB52\"],\"font\":{\"color\":\"#f2f5fa\"},\"geo\":{\"bgcolor\":\"rgb(17,17,17)\",\"lakecolor\":\"rgb(17,17,17)\",\"landcolor\":\"rgb(17,17,17)\",\"showlakes\":true,\"showland\":true,\"subunitcolor\":\"#506784\"},\"hoverlabel\":{\"align\":\"left\"},\"hovermode\":\"closest\",\"mapbox\":{\"style\":\"dark\"},\"paper_bgcolor\":\"rgb(17,17,17)\",\"plot_bgcolor\":\"rgb(17,17,17)\",\"polar\":{\"angularaxis\":{\"gridcolor\":\"#506784\",\"linecolor\":\"#506784\",\"ticks\":\"\"},\"bgcolor\":\"rgb(17,17,17)\",\"radialaxis\":{\"gridcolor\":\"#506784\",\"linecolor\":\"#506784\",\"ticks\":\"\"}},\"scene\":{\"xaxis\":{\"backgroundcolor\":\"rgb(17,17,17)\",\"gridcolor\":\"#506784\",\"gridwidth\":2,\"linecolor\":\"#506784\",\"showbackground\":true,\"ticks\":\"\",\"zerolinecolor\":\"#C8D4E3\"},\"yaxis\":{\"backgroundcolor\":\"rgb(17,17,17)\",\"gridcolor\":\"#506784\",\"gridwidth\":2,\"linecolor\":\"#506784\",\"showbackground\":true,\"ticks\":\"\",\"zerolinecolor\":\"#C8D4E3\"},\"zaxis\":{\"backgroundcolor\":\"rgb(17,17,17)\",\"gridcolor\":\"#506784\",\"gridwidth\":2,\"linecolor\":\"#506784\",\"showbackground\":true,\"ticks\":\"\",\"zerolinecolor\":\"#C8D4E3\"}},\"shapedefaults\":{\"line\":{\"color\":\"#f2f5fa\"}},\"sliderdefaults\":{\"bgcolor\":\"#C8D4E3\",\"bordercolor\":\"rgb(17,17,17)\",\"borderwidth\":1,\"tickwidth\":0},\"ternary\":{\"aaxis\":{\"gridcolor\":\"#506784\",\"linecolor\":\"#506784\",\"ticks\":\"\"},\"baxis\":{\"gridcolor\":\"#506784\",\"linecolor\":\"#506784\",\"ticks\":\"\"},\"bgcolor\":\"rgb(17,17,17)\",\"caxis\":{\"gridcolor\":\"#506784\",\"linecolor\":\"#506784\",\"ticks\":\"\"}},\"title\":{\"x\":0.05},\"updatemenudefaults\":{\"bgcolor\":\"#506784\",\"borderwidth\":0},\"xaxis\":{\"automargin\":true,\"gridcolor\":\"#283442\",\"linecolor\":\"#506784\",\"ticks\":\"\",\"title\":{\"standoff\":15},\"zerolinecolor\":\"#283442\",\"zerolinewidth\":2},\"yaxis\":{\"automargin\":true,\"gridcolor\":\"#283442\",\"linecolor\":\"#506784\",\"ticks\":\"\",\"title\":{\"standoff\":15},\"zerolinecolor\":\"#283442\",\"zerolinewidth\":2}}},\"xaxis\":{\"anchor\":\"y\",\"domain\":[0.0,1.0],\"title\":{\"text\":\"Resting blood pressure\"}},\"yaxis\":{\"anchor\":\"x\",\"domain\":[0.0,0.7326],\"title\":{\"text\":\"count\"}},\"xaxis2\":{\"anchor\":\"y2\",\"domain\":[0.0,1.0],\"matches\":\"x\",\"showticklabels\":false,\"showgrid\":true},\"yaxis2\":{\"anchor\":\"x2\",\"domain\":[0.7426,1.0],\"matches\":\"y2\",\"showticklabels\":false,\"showline\":false,\"ticks\":\"\",\"showgrid\":false},\"legend\":{\"title\":{\"text\":\"target\"},\"tracegroupgap\":0},\"title\":{\"text\":\"Histogram for Resting blood pressure vs Target\"},\"barmode\":\"relative\"},                        {\"responsive\": true}                    ).then(function(){\n",
              "                            \n",
              "var gd = document.getElementById('2aac283b-3357-4b6f-bf61-fbf74e757fd8');\n",
              "var x = new MutationObserver(function (mutations, observer) {{\n",
              "        var display = window.getComputedStyle(gd).display;\n",
              "        if (!display || display === 'none') {{\n",
              "            console.log([gd, 'removed!']);\n",
              "            Plotly.purge(gd);\n",
              "            observer.disconnect();\n",
              "        }}\n",
              "}});\n",
              "\n",
              "// Listen for the removal of the full notebook cells\n",
              "var notebookContainer = gd.closest('#notebook-container');\n",
              "if (notebookContainer) {{\n",
              "    x.observe(notebookContainer, {childList: true});\n",
              "}}\n",
              "\n",
              "// Listen for the clearing of the current output cell\n",
              "var outputEl = gd.closest('.output');\n",
              "if (outputEl) {{\n",
              "    x.observe(outputEl, {childList: true});\n",
              "}}\n",
              "\n",
              "                        })                };                            </script>        </div>\n",
              "</body>\n",
              "</html>"
            ]
          },
          "metadata": {}
        }
      ]
    },
    {
      "cell_type": "code",
      "source": [
        "#Barplot for age\n",
        "Young = df[(df.age>=20)&(df.age<35)]\n",
        "Middle = df[(df.age>=35)&(df.age<55)]\n",
        "Elder = df[(df.age>55)]\n",
        "\n",
        "plt.figure(figsize=(12,7))\n",
        "sns.set_context('notebook',font_scale = 1.5)\n",
        "sns.barplot(x=['Young Age','Middle Age','Elder Age'],y=[len(Young),len(Middle),len(Elder)])\n",
        "plt.tight_layout()"
      ],
      "metadata": {
        "colab": {
          "base_uri": "https://localhost:8080/",
          "height": 496
        },
        "id": "zrrwdJo3nxm1",
        "outputId": "3b5426d1-7603-4661-fd28-112011629ead"
      },
      "execution_count": 568,
      "outputs": [
        {
          "output_type": "display_data",
          "data": {
            "text/plain": [
              "<Figure size 864x504 with 1 Axes>"
            ],
            "image/png": "[encoded data removed]"
          },
          "metadata": {
            "needs_background": "light"
          }
        }
      ]
    },
    {
      "cell_type": "code",
      "source": [
        "#Sex vs target\n",
        "# 1 - Male\n",
        "# 0 - Female\n",
        "plt.figure(figsize=(10,5))\n",
        "sns.set_context('notebook',font_scale = 1.5)\n",
        "sns.countplot(df['sex'])\n",
        "plt.tight_layout()"
      ],
      "metadata": {
        "colab": {
          "base_uri": "https://localhost:8080/",
          "height": 441
        },
        "id": "235nF2eara09",
        "outputId": "19a0750f-1b95-4451-f0ff-66d09745cb22"
      },
      "execution_count": 569,
      "outputs": [
        {
          "output_type": "stream",
          "name": "stderr",
          "text": [
            "/usr/local/lib/python3.7/dist-packages/seaborn/_decorators.py:43: FutureWarning:\n",
            "\n",
            "Pass the following variable as a keyword arg: x. From version 0.12, the only valid positional argument will be `data`, and passing other arguments without an explicit keyword will result in an error or misinterpretation.\n",
            "\n"
          ]
        },
        {
          "output_type": "display_data",
          "data": {
            "text/plain": [
              "<Figure size 720x360 with 1 Axes>"
            ],
            "image/png": "[encoded data removed]"
          },
          "metadata": {
            "needs_background": "light"
          }
        }
      ]
    },
    {
      "cell_type": "code",
      "source": [
        "#Pie chart for percentage of different age group\n",
        "colors = ['orange','violet','green']\n",
        "explode = [0,0,0.1]\n",
        "plt.figure(figsize=(10,10))\n",
        "sns.set_context('notebook',font_scale = 1.2)\n",
        "plt.pie([len(Young),len(Middle),len(Elder)],labels=['young ages','middle ages','elderly ages'],explode=explode,colors=colors, autopct='%1.1f%%')\n",
        "plt.tight_layout()"
      ],
      "metadata": {
        "colab": {
          "base_uri": "https://localhost:8080/",
          "height": 682
        },
        "id": "x3bfKaSzohRB",
        "outputId": "dca70cd4-f71d-4619-e85f-b1ba570585b2"
      },
      "execution_count": 570,
      "outputs": [
        {
          "output_type": "display_data",
          "data": {
            "text/plain": [
              "<Figure size 720x720 with 1 Axes>"
            ],
            "image/png": "[encoded data removed]"
          },
          "metadata": {}
        }
      ]
    },
    {
      "cell_type": "code",
      "source": [
        "x = df.iloc[:,0:13].values\n",
        "y = df.iloc[:,13].values"
      ],
      "metadata": {
        "id": "jwsnV87MpaQH"
      },
      "execution_count": 571,
      "outputs": []
    },
    {
      "cell_type": "code",
      "source": [
        "print(x)"
      ],
      "metadata": {
        "colab": {
          "base_uri": "https://localhost:8080/"
        },
        "id": "aroT6S4dyT96",
        "outputId": "ce4ac152-2b6f-4716-bff7-eafb2cb7aa3b"
      },
      "execution_count": 572,
      "outputs": [
        {
          "output_type": "stream",
          "name": "stdout",
          "text": [
            "[[63.  1.  3. ...  0.  0.  1.]\n",
            " [37.  1.  2. ...  0.  0.  2.]\n",
            " [41.  0.  1. ...  2.  0.  2.]\n",
            " ...\n",
            " [68.  1.  0. ...  1.  2.  3.]\n",
            " [57.  1.  0. ...  1.  1.  3.]\n",
            " [57.  0.  1. ...  1.  1.  2.]]\n"
          ]
        }
      ]
    },
    {
      "cell_type": "code",
      "source": [
        "#Feature Scaling\n",
        "from sklearn.preprocessing import StandardScaler\n",
        "X_std=StandardScaler().fit_transform(x)"
      ],
      "metadata": {
        "id": "AL33_0pf0VUU"
      },
      "execution_count": 573,
      "outputs": []
    },
    {
      "cell_type": "markdown",
      "source": [
        "## **SPLITTING THE DATASET INTO TRAIN & TEST SETS**\n"
      ],
      "metadata": {
        "id": "Wm4vZrXpAYS0"
      }
    },
    {
      "cell_type": "code",
      "source": [
        "#Splitting dataset into train(70%) and test set(30%)\n",
        "from sklearn.model_selection import train_test_split\n",
        "x_train,x_test,y_train,y_test=train_test_split(X_std,y,test_size=0.3,random_state=40)"
      ],
      "metadata": {
        "id": "IxcgyqJ8yeLS"
      },
      "execution_count": 574,
      "outputs": []
    },
    {
      "cell_type": "code",
      "source": [
        "print(x_train)"
      ],
      "metadata": {
        "colab": {
          "base_uri": "https://localhost:8080/"
        },
        "id": "bFTOG5gdyszi",
        "outputId": "386f9e4d-46ed-499a-8fa6-426dbfdc8580"
      },
      "execution_count": 575,
      "outputs": [
        {
          "output_type": "stream",
          "name": "stdout",
          "text": [
            "[[-0.04040284  0.68100522  1.00257707 ... -2.27457861  0.26508221\n",
            "  -0.51292188]\n",
            " [-0.26098049  0.68100522 -0.93851463 ...  0.97635214  0.26508221\n",
            "  -0.51292188]\n",
            " [ 1.06248543  0.68100522 -0.93851463 ... -0.64911323  0.26508221\n",
            "   1.12302895]\n",
            " ...\n",
            " [ 1.39335191  0.68100522 -0.93851463 ... -0.64911323  2.22410436\n",
            "  -0.51292188]\n",
            " [-1.1432911   0.68100522  0.03203122 ...  0.97635214 -0.71442887\n",
            "   1.12302895]\n",
            " [-0.7021358   0.68100522 -0.93851463 ...  0.97635214  1.24459328\n",
            "   1.12302895]]\n"
          ]
        }
      ]
    },
    {
      "cell_type": "markdown",
      "source": [
        "## ***LOGISTIC REGRESSION***"
      ],
      "metadata": {
        "id": "G4wzM99S7gR4"
      }
    },
    {
      "cell_type": "code",
      "source": [
        "# Applying logistic regression on the training set\n",
        "\n",
        "from sklearn.linear_model import LogisticRegression\n",
        "logreg = LogisticRegression()\n",
        "logreg.fit(x_train, y_train)"
      ],
      "metadata": {
        "colab": {
          "base_uri": "https://localhost:8080/"
        },
        "id": "bKvtOxiMyw-k",
        "outputId": "d3211cb2-e573-4ade-ab6f-97371a98a744"
      },
      "execution_count": 576,
      "outputs": [
        {
          "output_type": "execute_result",
          "data": {
            "text/plain": [
              "LogisticRegression()"
            ]
          },
          "metadata": {},
          "execution_count": 576
        }
      ]
    },
    {
      "cell_type": "code",
      "source": [
        "# Predicting the test set\n",
        "\n",
        "prediction1 = logreg.predict(x_test)"
      ],
      "metadata": {
        "id": "6YasFGPf1WnU"
      },
      "execution_count": 577,
      "outputs": []
    },
    {
      "cell_type": "code",
      "source": [
        "#calculating accuracy score\n",
        "from sklearn.metrics import accuracy_score\n",
        "ac = accuracy_score(y_test, prediction1)\n",
        "print(ac)"
      ],
      "metadata": {
        "colab": {
          "base_uri": "https://localhost:8080/"
        },
        "id": "HfqawEqH15E3",
        "outputId": "d4a9a9ed-10a9-4626-dd12-da8da3ba34a2"
      },
      "execution_count": 578,
      "outputs": [
        {
          "output_type": "stream",
          "name": "stdout",
          "text": [
            "0.9230769230769231\n"
          ]
        }
      ]
    },
    {
      "cell_type": "code",
      "source": [
        "#Confusion matrix\n",
        "from sklearn.metrics import confusion_matrix\n",
        "cm=confusion_matrix(y_test,prediction1)\n",
        "cm"
      ],
      "metadata": {
        "colab": {
          "base_uri": "https://localhost:8080/"
        },
        "id": "Xqya4wXW1Y2O",
        "outputId": "b49f76d9-5991-4988-837d-82aac1fde561"
      },
      "execution_count": 579,
      "outputs": [
        {
          "output_type": "execute_result",
          "data": {
            "text/plain": [
              "array([[35,  5],\n",
              "       [ 2, 49]])"
            ]
          },
          "metadata": {},
          "execution_count": 579
        }
      ]
    },
    {
      "cell_type": "code",
      "source": [
        "sns.heatmap(cm,annot=True,cmap='summer',linewidths=0.3,linecolor='black',annot_kws={\"size\":20})\n",
        "TP=cm[0][0]\n",
        "TN=cm[1][1]\n",
        "FN=cm[1][0]\n",
        "FP=cm[0][1]"
      ],
      "metadata": {
        "colab": {
          "base_uri": "https://localhost:8080/",
          "height": 271
        },
        "id": "zmtazU7Q2Owq",
        "outputId": "6fca630e-cd86-44ef-c5d7-43de3dc742b2"
      },
      "execution_count": 580,
      "outputs": [
        {
          "output_type": "display_data",
          "data": {
            "text/plain": [
              "<Figure size 432x288 with 2 Axes>"
            ],
            "image/png": "[encoded data removed]"
          },
          "metadata": {
            "needs_background": "light"
          }
        }
      ]
    },
    {
      "cell_type": "code",
      "source": [
        "print('Testing Accuracy for Logistic Regression:',(TP+TN)/(TP+TN+FN+FP))\n",
        "print('Testing Precision for Logistic Regression',(TP/(TP+FP)))\n",
        "print('Testing recall for logistic Regression:',(TP/(TP+FN)))\n",
        "precision = TP/(TP+FP)\n",
        "recall = TP/(TP+FN)\n",
        "F1 = (2 * precision * recall) / (precision + recall)\n",
        "print('F1 score for logistic Regression:',F1)"
      ],
      "metadata": {
        "colab": {
          "base_uri": "https://localhost:8080/"
        },
        "id": "jWHpm5cF6AKA",
        "outputId": "35a5c8ae-8d3b-4520-848e-c405cf2f45b9"
      },
      "execution_count": 581,
      "outputs": [
        {
          "output_type": "stream",
          "name": "stdout",
          "text": [
            "Testing Accuracy for Logistic Regression: 0.9230769230769231\n",
            "Testing Precision for Logistic Regression 0.875\n",
            "Testing recall for logistic Regression: 0.9459459459459459\n",
            "F1 score for logistic Regression: 0.9090909090909091\n"
          ]
        }
      ]
    },
    {
      "cell_type": "markdown",
      "source": [
        "## ***SUPPORT VECTOR MACHINE***"
      ],
      "metadata": {
        "id": "gQ4mFSWVAiiC"
      }
    },
    {
      "cell_type": "code",
      "source": [
        "from sklearn.svm import SVC\n",
        "from sklearn.metrics import accuracy_score\n",
        "list1 = []\n",
        "for c in range(1,25):\n",
        "    classifier = SVC(C = c, kernel = 'linear')\n",
        "    classifier.fit(x_train, y_train)\n",
        "    y_pred = classifier.predict(x_test)\n",
        "    list1.append(accuracy_score(y_test,y_pred))\n",
        "plt.plot(list(range(1,25)), list1)\n",
        "plt.show()"
      ],
      "metadata": {
        "colab": {
          "base_uri": "https://localhost:8080/",
          "height": 271
        },
        "id": "mS2flHELAof6",
        "outputId": "9560eb66-1361-439e-f2eb-94cc9a8d8586"
      },
      "execution_count": 582,
      "outputs": [
        {
          "output_type": "display_data",
          "data": {
            "text/plain": [
              "<Figure size 432x288 with 1 Axes>"
            ],
            "image/png": "[encoded data removed]"
          },
          "metadata": {
            "needs_background": "light"
          }
        }
      ]
    },
    {
      "cell_type": "code",
      "source": [
        "#Support Vector Machine\n",
        "from sklearn.svm import SVC\n",
        "svm=SVC(C=12,kernel='linear')\n",
        "svm.fit(x_train, y_train)"
      ],
      "metadata": {
        "colab": {
          "base_uri": "https://localhost:8080/"
        },
        "id": "wMVITuQo4iBl",
        "outputId": "fae7a918-87a7-4af7-8d8e-115acbb2c08d"
      },
      "execution_count": 583,
      "outputs": [
        {
          "output_type": "execute_result",
          "data": {
            "text/plain": [
              "SVC(C=12, kernel='linear')"
            ]
          },
          "metadata": {},
          "execution_count": 583
        }
      ]
    },
    {
      "cell_type": "code",
      "source": [
        "# Predicting the test set results\n",
        "prediction2 = svm.predict(x_test)"
      ],
      "metadata": {
        "id": "XJbc8X7172yr"
      },
      "execution_count": 584,
      "outputs": []
    },
    {
      "cell_type": "code",
      "source": [
        "#calculating accuracy score\n",
        "\n",
        "from sklearn.metrics import accuracy_score\n",
        "ac = accuracy_score(y_test, prediction2)\n",
        "print(ac)"
      ],
      "metadata": {
        "colab": {
          "base_uri": "https://localhost:8080/"
        },
        "id": "DuEP1QFS79gY",
        "outputId": "534f5146-1a16-44ea-941e-8912e5fc5758"
      },
      "execution_count": 585,
      "outputs": [
        {
          "output_type": "stream",
          "name": "stdout",
          "text": [
            "0.9120879120879121\n"
          ]
        }
      ]
    },
    {
      "cell_type": "code",
      "source": [
        "#Confusion matrix\n",
        "from sklearn.metrics import confusion_matrix\n",
        "cm=confusion_matrix(y_test,prediction2)\n",
        "cm"
      ],
      "metadata": {
        "colab": {
          "base_uri": "https://localhost:8080/"
        },
        "id": "SDlNmxa68IkG",
        "outputId": "dab3cfc9-b412-4c6d-bd66-9170031dc31f"
      },
      "execution_count": 586,
      "outputs": [
        {
          "output_type": "execute_result",
          "data": {
            "text/plain": [
              "array([[35,  5],\n",
              "       [ 3, 48]])"
            ]
          },
          "metadata": {},
          "execution_count": 586
        }
      ]
    },
    {
      "cell_type": "code",
      "source": [
        "sns.heatmap(cm,annot=True,cmap='summer',linewidths=0.3,linecolor='black',annot_kws={\"size\":20})\n",
        "TP=cm[0][0]\n",
        "TN=cm[1][1]\n",
        "FN=cm[1][0]\n",
        "FP=cm[0][1]"
      ],
      "metadata": {
        "colab": {
          "base_uri": "https://localhost:8080/",
          "height": 271
        },
        "id": "Uwzyz31u8iiA",
        "outputId": "784d1e5a-51cc-4d4b-b40e-fc9d6e6fc627"
      },
      "execution_count": 587,
      "outputs": [
        {
          "output_type": "display_data",
          "data": {
            "text/plain": [
              "<Figure size 432x288 with 2 Axes>"
            ],
            "image/png": "[encoded data removed]"
          },
          "metadata": {
            "needs_background": "light"
          }
        }
      ]
    },
    {
      "cell_type": "code",
      "source": [
        "print('Testing Accuracy for Support Vector:',(TP+TN)/(TP+TN+FN+FP))\n",
        "print('Testing Precision for Support Vector:',(TP/(TP+FP)))\n",
        "print('Testing recall for Support vector:',(TP/(TP+FN)))\n",
        "precision = TP/(TP+FP)\n",
        "recall = TP/(TP+FN)\n",
        "F1 = (2 * precision * recall) / (precision + recall)\n",
        "print('F1 score for Support Vector:',F1)"
      ],
      "metadata": {
        "colab": {
          "base_uri": "https://localhost:8080/"
        },
        "id": "_JuZtF7Q8vID",
        "outputId": "cb08759d-fbc8-4dce-b99b-1e953d1f249e"
      },
      "execution_count": 588,
      "outputs": [
        {
          "output_type": "stream",
          "name": "stdout",
          "text": [
            "Testing Accuracy for Support Vector: 0.9120879120879121\n",
            "Testing Precision for Support Vector: 0.875\n",
            "Testing recall for Support vector: 0.9210526315789473\n",
            "F1 score for Support Vector: 0.8974358974358975\n"
          ]
        }
      ]
    },
    {
      "cell_type": "markdown",
      "source": [
        "## **TESTING THE MODELS**"
      ],
      "metadata": {
        "id": "KWfTxOywFLr-"
      }
    },
    {
      "cell_type": "code",
      "source": [
        "#Case 1 For Heart Disease data\n",
        "input = x_test[1]\n",
        "input_as_numpy=np.asarray(input)\n",
        "input_reshaped=input_as_numpy.reshape(1,-1)\n",
        "pre1=logreg.predict(input_reshaped)\n",
        "pre2=svm.predict(input_reshaped)\n",
        "if (pre1==1):\n",
        "    print(\"According to logistic regression, the patient seems to be having heart disease :(\")\n",
        "else:\n",
        "    print(\"According to logistic regression, the patient seems to be healthy :)\")\n",
        "if (pre2==1):\n",
        "    print(\"According to support vector, the patient seems to be having heart disease :(\")\n",
        "else:\n",
        "    print(\"According to support vector, the patient seems to be healthy :)\")"
      ],
      "metadata": {
        "colab": {
          "base_uri": "https://localhost:8080/"
        },
        "id": "jChChac8DWtw",
        "outputId": "c1a61807-fc36-4923-951a-df2f463ca48b"
      },
      "execution_count": 589,
      "outputs": [
        {
          "output_type": "stream",
          "name": "stdout",
          "text": [
            "According to logistic regression, the patient seems to be having heart disease :(\n",
            "According to support vector, the patient seems to be having heart disease :(\n"
          ]
        }
      ]
    },
    {
      "cell_type": "code",
      "source": [
        "#Case 2 For Normal data\n",
        "input = x_test[3]\n",
        "input_as_numpy=np.asarray(input)\n",
        "input_reshaped=input_as_numpy.reshape(1,-1)\n",
        "pre1=logreg.predict(input_reshaped)\n",
        "pre2=svm.predict(input_reshaped)\n",
        "if (pre1==1):\n",
        "    print(\"According to logistic regression, the patient seems to be having heart disease :(\")\n",
        "else:\n",
        "    print(\"According to logistic regression, the patient seems to be healthy :)\")\n",
        "if (pre2==1):\n",
        "    print(\"According to support vector, the patient seems to be having heart disease :(\")\n",
        "else:\n",
        "    print(\"According to support vector, the patient seems to be healthy :)\")"
      ],
      "metadata": {
        "colab": {
          "base_uri": "https://localhost:8080/"
        },
        "id": "jsilrfYKD19p",
        "outputId": "6792ab95-ccba-40b0-9c9f-1b784f7f7694"
      },
      "execution_count": 590,
      "outputs": [
        {
          "output_type": "stream",
          "name": "stdout",
          "text": [
            "According to logistic regression, the patient seems to be healthy :)\n",
            "According to support vector, the patient seems to be healthy :)\n"
          ]
        }
      ]
    }
  ]
}